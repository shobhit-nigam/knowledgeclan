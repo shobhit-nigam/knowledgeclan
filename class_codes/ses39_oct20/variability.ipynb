{
 "cells": [
  {
   "cell_type": "code",
   "execution_count": 1,
   "metadata": {},
   "outputs": [],
   "source": [
    "listx = [4, 4, 4, 4,]\n",
    "\n",
    "listy = [0, 8, 0, 8]"
   ]
  },
  {
   "cell_type": "markdown",
   "metadata": {},
   "source": [
    "range(X) = max(X) - min(X) "
   ]
  },
  {
   "cell_type": "code",
   "execution_count": 3,
   "metadata": {},
   "outputs": [],
   "source": [
    "import pandas as pd\n",
    "import numpy as np\n",
    "import matplotlib.pyplot as plt\n",
    "import seaborn as sns"
   ]
  },
  {
   "cell_type": "code",
   "execution_count": 4,
   "metadata": {},
   "outputs": [],
   "source": [
    "path = \"https://raw.githubusercontent.com/shobhit-nigam/knowledgeclan/main/datasets/Housing.txt\""
   ]
  },
  {
   "cell_type": "raw",
   "metadata": {},
   "source": [
    "734qdfa = pd.read_table(path)"
   ]
  },
  {
   "cell_type": "code",
   "execution_count": 18,
   "metadata": {},
   "outputs": [],
   "source": [
    "def find_range(la):\n",
    "    return max(la) - min(la)\n",
    "\n",
    "range_by_year = {}\n",
    "\n",
    "for year in dfa['Yr Sold'].unique():\n",
    "    data_by_year = dfa[dfa['Yr Sold'] == year]\n",
    "    range_by_year[year] = find_range(data_by_year['SalePrice'])\n",
    "    \n",
    "one_z = False\n",
    "one_y = True"
   ]
  },
  {
   "cell_type": "code",
   "execution_count": 17,
   "metadata": {},
   "outputs": [
    {
     "data": {
      "text/plain": [
       "{2010: 598868, 2009: 575100, 2008: 601900, 2007: 715700, 2006: 590000}"
      ]
     },
     "execution_count": 17,
     "metadata": {},
     "output_type": "execute_result"
    }
   ],
   "source": [
    "range_by_year"
   ]
  },
  {
   "cell_type": "code",
   "execution_count": 23,
   "metadata": {},
   "outputs": [],
   "source": [
    "C = [1, 1, 1, 1,1 ,1 , 1, 1, 1,1, 21]\n",
    "\n",
    "# variability in C = 20\n",
    "\n",
    "def average_distance(la):\n",
    "    reference_point = sum(la)/len(la)\n",
    "    \n",
    "    distances = []\n",
    "    for val in la :\n",
    "        distances.append(val - reference_point)\n",
    "        \n",
    "    return sum(distances)/len(distances)\n",
    "\n",
    "avg_distance = average_distance(C)"
   ]
  },
  {
   "cell_type": "code",
   "execution_count": 25,
   "metadata": {},
   "outputs": [
    {
     "data": {
      "text/plain": [
       "-0.0"
      ]
     },
     "execution_count": 25,
     "metadata": {},
     "output_type": "execute_result"
    }
   ],
   "source": [
    "round(avg_distance, 10)"
   ]
  },
  {
   "cell_type": "code",
   "execution_count": 28,
   "metadata": {},
   "outputs": [],
   "source": [
    "simple_mean = sum(C)/len(C)\n"
   ]
  },
  {
   "cell_type": "code",
   "execution_count": 29,
   "metadata": {},
   "outputs": [
    {
     "data": {
      "text/plain": [
       "2.8181818181818183"
      ]
     },
     "execution_count": 29,
     "metadata": {},
     "output_type": "execute_result"
    }
   ],
   "source": [
    "simple_mean"
   ]
  },
  {
   "cell_type": "code",
   "execution_count": 26,
   "metadata": {},
   "outputs": [
    {
     "ename": "SyntaxError",
     "evalue": "'return' outside function (<ipython-input-26-db0d062cc342>, line 1)",
     "output_type": "error",
     "traceback": [
      "\u001b[0;36m  File \u001b[0;32m\"<ipython-input-26-db0d062cc342>\"\u001b[0;36m, line \u001b[0;32m1\u001b[0m\n\u001b[0;31m    return max(la) - min(la)\u001b[0m\n\u001b[0m                            ^\u001b[0m\n\u001b[0;31mSyntaxError\u001b[0m\u001b[0;31m:\u001b[0m 'return' outside function\n"
     ]
    }
   ],
   "source": [
    "return max(la) - min(la)"
   ]
  },
  {
   "cell_type": "code",
   "execution_count": 30,
   "metadata": {},
   "outputs": [],
   "source": [
    "# mean squared distance \n",
    "# standard deviation \n"
   ]
  },
  {
   "cell_type": "code",
   "execution_count": 33,
   "metadata": {},
   "outputs": [],
   "source": [
    "person_a = [0, 3, 1, 0, 4, 1, 0, 3, 4, 0, 1, 0, 3]\n",
    "\n",
    "person_b = [1, 2, 1, 1, 2, 2, 2, 0, 2, 2, 2, 2, 2]"
   ]
  },
  {
   "cell_type": "code",
   "execution_count": 36,
   "metadata": {},
   "outputs": [],
   "source": [
    "mean_a = sum(person_a)/len(person_a)"
   ]
  },
  {
   "cell_type": "code",
   "execution_count": 37,
   "metadata": {},
   "outputs": [],
   "source": [
    "mean_b = sum(person_b)/len(person_b)"
   ]
  },
  {
   "cell_type": "code",
   "execution_count": 38,
   "metadata": {},
   "outputs": [
    {
     "data": {
      "text/plain": [
       "1.5384615384615385"
      ]
     },
     "execution_count": 38,
     "metadata": {},
     "output_type": "execute_result"
    }
   ],
   "source": [
    "mean_a"
   ]
  },
  {
   "cell_type": "code",
   "execution_count": 39,
   "metadata": {},
   "outputs": [
    {
     "data": {
      "text/plain": [
       "1.6153846153846154"
      ]
     },
     "execution_count": 39,
     "metadata": {},
     "output_type": "execute_result"
    }
   ],
   "source": [
    "mean_b"
   ]
  },
  {
   "cell_type": "code",
   "execution_count": 40,
   "metadata": {},
   "outputs": [],
   "source": [
    "variance_a = sum([((x - mean_a) ** 2) for x in person_a])/len(person_a)"
   ]
  },
  {
   "cell_type": "code",
   "execution_count": 44,
   "metadata": {},
   "outputs": [
    {
     "data": {
      "text/plain": [
       "1.5499570522776835"
      ]
     },
     "execution_count": 44,
     "metadata": {},
     "output_type": "execute_result"
    }
   ],
   "source": [
    "variance_a**0.5"
   ]
  },
  {
   "cell_type": "code",
   "execution_count": 42,
   "metadata": {},
   "outputs": [],
   "source": [
    "import statistics"
   ]
  },
  {
   "cell_type": "code",
   "execution_count": 43,
   "metadata": {},
   "outputs": [
    {
     "data": {
      "text/plain": [
       "1.5499570522776835"
      ]
     },
     "execution_count": 43,
     "metadata": {},
     "output_type": "execute_result"
    }
   ],
   "source": [
    "statistics.pstdev(person_a)"
   ]
  },
  {
   "cell_type": "code",
   "execution_count": 45,
   "metadata": {},
   "outputs": [
    {
     "data": {
      "text/plain": [
       "0.6249260311258431"
      ]
     },
     "execution_count": 45,
     "metadata": {},
     "output_type": "execute_result"
    }
   ],
   "source": [
    "statistics.pstdev(person_b)"
   ]
  },
  {
   "cell_type": "code",
   "execution_count": 47,
   "metadata": {},
   "outputs": [],
   "source": [
    "from math import sqrt"
   ]
  },
  {
   "cell_type": "code",
   "execution_count": 48,
   "metadata": {},
   "outputs": [],
   "source": [
    "def standard_deviation(la):\n",
    "    reference_point = sum(la)/len(la)\n",
    "    \n",
    "    distances = []\n",
    "    for val in la:\n",
    "        sq_dist = (val - reference_point)**2\n",
    "        distances.append(sq_dist)\n",
    "        \n",
    "    variance = sum(distances)/len(distances)\n",
    "    return sqrt(variance)\n",
    "\n",
    "\n",
    "# measure the first varaibility for each year\n",
    "years = {}\n",
    "\n",
    "for year in dfa['Yr Sold'].unique():\n",
    "    year_segment = dfa[dfa['Yr Sold'] == year]\n",
    "    st_dev = standard_deviation(year_segment['SalePrice'])\n",
    "    years[year] = st_dev"
   ]
  },
  {
   "cell_type": "code",
   "execution_count": 49,
   "metadata": {},
   "outputs": [
    {
     "data": {
      "text/plain": [
       "{2010: 74521.920711871,\n",
       " 2009: 80794.39070298373,\n",
       " 2008: 75531.94622558328,\n",
       " 2007: 82483.28433288915,\n",
       " 2006: 82553.57563561267}"
      ]
     },
     "execution_count": 49,
     "metadata": {},
     "output_type": "execute_result"
    }
   ],
   "source": [
    "years"
   ]
  },
  {
   "cell_type": "code",
   "execution_count": 52,
   "metadata": {},
   "outputs": [
    {
     "data": {
      "text/html": [
       "<div>\n",
       "<style scoped>\n",
       "    .dataframe tbody tr th:only-of-type {\n",
       "        vertical-align: middle;\n",
       "    }\n",
       "\n",
       "    .dataframe tbody tr th {\n",
       "        vertical-align: top;\n",
       "    }\n",
       "\n",
       "    .dataframe thead th {\n",
       "        text-align: right;\n",
       "    }\n",
       "</style>\n",
       "<table border=\"1\" class=\"dataframe\">\n",
       "  <thead>\n",
       "    <tr style=\"text-align: right;\">\n",
       "      <th></th>\n",
       "      <th>Order</th>\n",
       "      <th>PID</th>\n",
       "      <th>MS SubClass</th>\n",
       "      <th>Lot Frontage</th>\n",
       "      <th>Lot Area</th>\n",
       "      <th>Overall Qual</th>\n",
       "      <th>Overall Cond</th>\n",
       "      <th>Year Built</th>\n",
       "      <th>Year Remod/Add</th>\n",
       "      <th>Mas Vnr Area</th>\n",
       "      <th>...</th>\n",
       "      <th>Garage Area</th>\n",
       "      <th>Wood Deck SF</th>\n",
       "      <th>Open Porch SF</th>\n",
       "      <th>Enclosed Porch</th>\n",
       "      <th>3Ssn Porch</th>\n",
       "      <th>Screen Porch</th>\n",
       "      <th>Pool Area</th>\n",
       "      <th>Misc Val</th>\n",
       "      <th>Mo Sold</th>\n",
       "      <th>SalePrice</th>\n",
       "    </tr>\n",
       "    <tr>\n",
       "      <th>Yr Sold</th>\n",
       "      <th></th>\n",
       "      <th></th>\n",
       "      <th></th>\n",
       "      <th></th>\n",
       "      <th></th>\n",
       "      <th></th>\n",
       "      <th></th>\n",
       "      <th></th>\n",
       "      <th></th>\n",
       "      <th></th>\n",
       "      <th></th>\n",
       "      <th></th>\n",
       "      <th></th>\n",
       "      <th></th>\n",
       "      <th></th>\n",
       "      <th></th>\n",
       "      <th></th>\n",
       "      <th></th>\n",
       "      <th></th>\n",
       "      <th></th>\n",
       "      <th></th>\n",
       "    </tr>\n",
       "  </thead>\n",
       "  <tbody>\n",
       "    <tr>\n",
       "      <th>2006</th>\n",
       "      <td>180.566239</td>\n",
       "      <td>1.885885e+08</td>\n",
       "      <td>44.864523</td>\n",
       "      <td>23.129221</td>\n",
       "      <td>23940.547853</td>\n",
       "      <td>1.431911</td>\n",
       "      <td>1.019321</td>\n",
       "      <td>29.944925</td>\n",
       "      <td>21.180746</td>\n",
       "      <td>180.114013</td>\n",
       "      <td>...</td>\n",
       "      <td>208.079139</td>\n",
       "      <td>135.986938</td>\n",
       "      <td>65.568693</td>\n",
       "      <td>66.220898</td>\n",
       "      <td>20.588163</td>\n",
       "      <td>58.649693</td>\n",
       "      <td>58.280578</td>\n",
       "      <td>242.747601</td>\n",
       "      <td>2.682493</td>\n",
       "      <td>82619.697853</td>\n",
       "    </tr>\n",
       "    <tr>\n",
       "      <th>2007</th>\n",
       "      <td>200.484829</td>\n",
       "      <td>1.889261e+08</td>\n",
       "      <td>40.172958</td>\n",
       "      <td>23.433944</td>\n",
       "      <td>24667.171430</td>\n",
       "      <td>1.398873</td>\n",
       "      <td>1.052347</td>\n",
       "      <td>29.704387</td>\n",
       "      <td>20.302549</td>\n",
       "      <td>193.689011</td>\n",
       "      <td>...</td>\n",
       "      <td>215.715946</td>\n",
       "      <td>126.231550</td>\n",
       "      <td>75.060460</td>\n",
       "      <td>71.540524</td>\n",
       "      <td>15.956344</td>\n",
       "      <td>52.722847</td>\n",
       "      <td>37.998103</td>\n",
       "      <td>939.841379</td>\n",
       "      <td>2.801447</td>\n",
       "      <td>82542.774629</td>\n",
       "    </tr>\n",
       "    <tr>\n",
       "      <th>2008</th>\n",
       "      <td>179.700213</td>\n",
       "      <td>1.885739e+08</td>\n",
       "      <td>43.665577</td>\n",
       "      <td>25.391309</td>\n",
       "      <td>22189.969096</td>\n",
       "      <td>1.375655</td>\n",
       "      <td>1.177217</td>\n",
       "      <td>30.967775</td>\n",
       "      <td>20.848080</td>\n",
       "      <td>179.999211</td>\n",
       "      <td>...</td>\n",
       "      <td>227.073868</td>\n",
       "      <td>118.257854</td>\n",
       "      <td>69.495473</td>\n",
       "      <td>56.381787</td>\n",
       "      <td>29.274162</td>\n",
       "      <td>59.177225</td>\n",
       "      <td>30.576766</td>\n",
       "      <td>373.171385</td>\n",
       "      <td>2.744373</td>\n",
       "      <td>75592.736534</td>\n",
       "    </tr>\n",
       "    <tr>\n",
       "      <th>2009</th>\n",
       "      <td>187.205769</td>\n",
       "      <td>1.882109e+08</td>\n",
       "      <td>40.119533</td>\n",
       "      <td>22.075909</td>\n",
       "      <td>17472.520296</td>\n",
       "      <td>1.470799</td>\n",
       "      <td>1.146837</td>\n",
       "      <td>30.559448</td>\n",
       "      <td>20.974445</td>\n",
       "      <td>168.154731</td>\n",
       "      <td>...</td>\n",
       "      <td>217.348932</td>\n",
       "      <td>119.486546</td>\n",
       "      <td>64.145432</td>\n",
       "      <td>60.163196</td>\n",
       "      <td>34.006034</td>\n",
       "      <td>56.347076</td>\n",
       "      <td>0.000000</td>\n",
       "      <td>172.072355</td>\n",
       "      <td>2.675517</td>\n",
       "      <td>80856.804301</td>\n",
       "    </tr>\n",
       "    <tr>\n",
       "      <th>2010</th>\n",
       "      <td>98.582453</td>\n",
       "      <td>1.889580e+08</td>\n",
       "      <td>45.302893</td>\n",
       "      <td>22.231150</td>\n",
       "      <td>18144.050682</td>\n",
       "      <td>1.339788</td>\n",
       "      <td>1.179719</td>\n",
       "      <td>29.844407</td>\n",
       "      <td>20.802402</td>\n",
       "      <td>164.595763</td>\n",
       "      <td>...</td>\n",
       "      <td>197.024582</td>\n",
       "      <td>135.212018</td>\n",
       "      <td>55.859678</td>\n",
       "      <td>65.113450</td>\n",
       "      <td>19.287230</td>\n",
       "      <td>51.785021</td>\n",
       "      <td>0.000000</td>\n",
       "      <td>733.866341</td>\n",
       "      <td>1.573467</td>\n",
       "      <td>74631.431308</td>\n",
       "    </tr>\n",
       "  </tbody>\n",
       "</table>\n",
       "<p>5 rows × 37 columns</p>\n",
       "</div>"
      ],
      "text/plain": [
       "              Order           PID  MS SubClass  Lot Frontage      Lot Area  \\\n",
       "Yr Sold                                                                      \n",
       "2006     180.566239  1.885885e+08    44.864523     23.129221  23940.547853   \n",
       "2007     200.484829  1.889261e+08    40.172958     23.433944  24667.171430   \n",
       "2008     179.700213  1.885739e+08    43.665577     25.391309  22189.969096   \n",
       "2009     187.205769  1.882109e+08    40.119533     22.075909  17472.520296   \n",
       "2010      98.582453  1.889580e+08    45.302893     22.231150  18144.050682   \n",
       "\n",
       "         Overall Qual  Overall Cond  Year Built  Year Remod/Add  Mas Vnr Area  \\\n",
       "Yr Sold                                                                         \n",
       "2006         1.431911      1.019321   29.944925       21.180746    180.114013   \n",
       "2007         1.398873      1.052347   29.704387       20.302549    193.689011   \n",
       "2008         1.375655      1.177217   30.967775       20.848080    179.999211   \n",
       "2009         1.470799      1.146837   30.559448       20.974445    168.154731   \n",
       "2010         1.339788      1.179719   29.844407       20.802402    164.595763   \n",
       "\n",
       "         ...  Garage Area  Wood Deck SF  Open Porch SF  Enclosed Porch  \\\n",
       "Yr Sold  ...                                                             \n",
       "2006     ...   208.079139    135.986938      65.568693       66.220898   \n",
       "2007     ...   215.715946    126.231550      75.060460       71.540524   \n",
       "2008     ...   227.073868    118.257854      69.495473       56.381787   \n",
       "2009     ...   217.348932    119.486546      64.145432       60.163196   \n",
       "2010     ...   197.024582    135.212018      55.859678       65.113450   \n",
       "\n",
       "         3Ssn Porch  Screen Porch  Pool Area    Misc Val   Mo Sold  \\\n",
       "Yr Sold                                                              \n",
       "2006      20.588163     58.649693  58.280578  242.747601  2.682493   \n",
       "2007      15.956344     52.722847  37.998103  939.841379  2.801447   \n",
       "2008      29.274162     59.177225  30.576766  373.171385  2.744373   \n",
       "2009      34.006034     56.347076   0.000000  172.072355  2.675517   \n",
       "2010      19.287230     51.785021   0.000000  733.866341  1.573467   \n",
       "\n",
       "            SalePrice  \n",
       "Yr Sold                \n",
       "2006     82619.697853  \n",
       "2007     82542.774629  \n",
       "2008     75592.736534  \n",
       "2009     80856.804301  \n",
       "2010     74631.431308  \n",
       "\n",
       "[5 rows x 37 columns]"
      ]
     },
     "execution_count": 52,
     "metadata": {},
     "output_type": "execute_result"
    }
   ],
   "source": [
    "dfa.groupby('Yr Sold').agg(np.std)"
   ]
  },
  {
   "cell_type": "code",
   "execution_count": null,
   "metadata": {},
   "outputs": [],
   "source": []
  }
 ],
 "metadata": {
  "kernelspec": {
   "display_name": "Python 3",
   "language": "python",
   "name": "python3"
  },
  "language_info": {
   "codemirror_mode": {
    "name": "ipython",
    "version": 3
   },
   "file_extension": ".py",
   "mimetype": "text/x-python",
   "name": "python",
   "nbconvert_exporter": "python",
   "pygments_lexer": "ipython3",
   "version": "3.7.7"
  }
 },
 "nbformat": 4,
 "nbformat_minor": 4
}
