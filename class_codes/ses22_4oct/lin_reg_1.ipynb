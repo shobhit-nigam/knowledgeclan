{
 "cells": [
  {
   "cell_type": "code",
   "execution_count": 1,
   "metadata": {},
   "outputs": [],
   "source": [
    "import pandas as pd\n",
    "import numpy as np\n",
    "import matplotlib.pyplot as plt"
   ]
  },
  {
   "cell_type": "code",
   "execution_count": 2,
   "metadata": {},
   "outputs": [],
   "source": [
    "path = \"https://raw.githubusercontent.com/shobhit-nigam/knowledgeclan/main/datasets/synth_temp.csv\""
   ]
  },
  {
   "cell_type": "code",
   "execution_count": 3,
   "metadata": {},
   "outputs": [],
   "source": [
    "dfa = pd.read_csv(path)"
   ]
  },
  {
   "cell_type": "code",
   "execution_count": 4,
   "metadata": {},
   "outputs": [
    {
     "data": {
      "text/html": [
       "<div>\n",
       "<style scoped>\n",
       "    .dataframe tbody tr th:only-of-type {\n",
       "        vertical-align: middle;\n",
       "    }\n",
       "\n",
       "    .dataframe tbody tr th {\n",
       "        vertical-align: top;\n",
       "    }\n",
       "\n",
       "    .dataframe thead th {\n",
       "        text-align: right;\n",
       "    }\n",
       "</style>\n",
       "<table border=\"1\" class=\"dataframe\">\n",
       "  <thead>\n",
       "    <tr style=\"text-align: right;\">\n",
       "      <th></th>\n",
       "      <th>AverageTemperature</th>\n",
       "      <th>Year</th>\n",
       "    </tr>\n",
       "  </thead>\n",
       "  <tbody>\n",
       "    <tr>\n",
       "      <th>0</th>\n",
       "      <td>12.980258</td>\n",
       "      <td>1841</td>\n",
       "    </tr>\n",
       "    <tr>\n",
       "      <th>1</th>\n",
       "      <td>13.689697</td>\n",
       "      <td>1842</td>\n",
       "    </tr>\n",
       "    <tr>\n",
       "      <th>2</th>\n",
       "      <td>12.485703</td>\n",
       "      <td>1843</td>\n",
       "    </tr>\n",
       "    <tr>\n",
       "      <th>3</th>\n",
       "      <td>14.202069</td>\n",
       "      <td>1844</td>\n",
       "    </tr>\n",
       "    <tr>\n",
       "      <th>4</th>\n",
       "      <td>12.831530</td>\n",
       "      <td>1845</td>\n",
       "    </tr>\n",
       "    <tr>\n",
       "      <th>...</th>\n",
       "      <td>...</td>\n",
       "      <td>...</td>\n",
       "    </tr>\n",
       "    <tr>\n",
       "      <th>1945</th>\n",
       "      <td>19.573018</td>\n",
       "      <td>2006</td>\n",
       "    </tr>\n",
       "    <tr>\n",
       "      <th>1946</th>\n",
       "      <td>19.975516</td>\n",
       "      <td>2007</td>\n",
       "    </tr>\n",
       "    <tr>\n",
       "      <th>1947</th>\n",
       "      <td>19.617621</td>\n",
       "      <td>2008</td>\n",
       "    </tr>\n",
       "    <tr>\n",
       "      <th>1948</th>\n",
       "      <td>19.980084</td>\n",
       "      <td>2009</td>\n",
       "    </tr>\n",
       "    <tr>\n",
       "      <th>1949</th>\n",
       "      <td>20.482839</td>\n",
       "      <td>2010</td>\n",
       "    </tr>\n",
       "  </tbody>\n",
       "</table>\n",
       "<p>1950 rows × 2 columns</p>\n",
       "</div>"
      ],
      "text/plain": [
       "      AverageTemperature  Year\n",
       "0              12.980258  1841\n",
       "1              13.689697  1842\n",
       "2              12.485703  1843\n",
       "3              14.202069  1844\n",
       "4              12.831530  1845\n",
       "...                  ...   ...\n",
       "1945           19.573018  2006\n",
       "1946           19.975516  2007\n",
       "1947           19.617621  2008\n",
       "1948           19.980084  2009\n",
       "1949           20.482839  2010\n",
       "\n",
       "[1950 rows x 2 columns]"
      ]
     },
     "execution_count": 4,
     "metadata": {},
     "output_type": "execute_result"
    }
   ],
   "source": [
    "dfa"
   ]
  },
  {
   "cell_type": "code",
   "execution_count": 5,
   "metadata": {},
   "outputs": [],
   "source": [
    "dfb = dfa[dfa['Year'] > 1901]"
   ]
  },
  {
   "cell_type": "code",
   "execution_count": 6,
   "metadata": {},
   "outputs": [
    {
     "data": {
      "text/html": [
       "<div>\n",
       "<style scoped>\n",
       "    .dataframe tbody tr th:only-of-type {\n",
       "        vertical-align: middle;\n",
       "    }\n",
       "\n",
       "    .dataframe tbody tr th {\n",
       "        vertical-align: top;\n",
       "    }\n",
       "\n",
       "    .dataframe thead th {\n",
       "        text-align: right;\n",
       "    }\n",
       "</style>\n",
       "<table border=\"1\" class=\"dataframe\">\n",
       "  <thead>\n",
       "    <tr style=\"text-align: right;\">\n",
       "      <th></th>\n",
       "      <th>AverageTemperature</th>\n",
       "      <th>Year</th>\n",
       "    </tr>\n",
       "  </thead>\n",
       "  <tbody>\n",
       "    <tr>\n",
       "      <th>366</th>\n",
       "      <td>16.973653</td>\n",
       "      <td>1902</td>\n",
       "    </tr>\n",
       "    <tr>\n",
       "      <th>367</th>\n",
       "      <td>17.181773</td>\n",
       "      <td>1903</td>\n",
       "    </tr>\n",
       "    <tr>\n",
       "      <th>368</th>\n",
       "      <td>17.436933</td>\n",
       "      <td>1904</td>\n",
       "    </tr>\n",
       "    <tr>\n",
       "      <th>369</th>\n",
       "      <td>17.688948</td>\n",
       "      <td>1905</td>\n",
       "    </tr>\n",
       "    <tr>\n",
       "      <th>370</th>\n",
       "      <td>17.811166</td>\n",
       "      <td>1906</td>\n",
       "    </tr>\n",
       "    <tr>\n",
       "      <th>...</th>\n",
       "      <td>...</td>\n",
       "      <td>...</td>\n",
       "    </tr>\n",
       "    <tr>\n",
       "      <th>1945</th>\n",
       "      <td>19.573018</td>\n",
       "      <td>2006</td>\n",
       "    </tr>\n",
       "    <tr>\n",
       "      <th>1946</th>\n",
       "      <td>19.975516</td>\n",
       "      <td>2007</td>\n",
       "    </tr>\n",
       "    <tr>\n",
       "      <th>1947</th>\n",
       "      <td>19.617621</td>\n",
       "      <td>2008</td>\n",
       "    </tr>\n",
       "    <tr>\n",
       "      <th>1948</th>\n",
       "      <td>19.980084</td>\n",
       "      <td>2009</td>\n",
       "    </tr>\n",
       "    <tr>\n",
       "      <th>1949</th>\n",
       "      <td>20.482839</td>\n",
       "      <td>2010</td>\n",
       "    </tr>\n",
       "  </tbody>\n",
       "</table>\n",
       "<p>1452 rows × 2 columns</p>\n",
       "</div>"
      ],
      "text/plain": [
       "      AverageTemperature  Year\n",
       "366            16.973653  1902\n",
       "367            17.181773  1903\n",
       "368            17.436933  1904\n",
       "369            17.688948  1905\n",
       "370            17.811166  1906\n",
       "...                  ...   ...\n",
       "1945           19.573018  2006\n",
       "1946           19.975516  2007\n",
       "1947           19.617621  2008\n",
       "1948           19.980084  2009\n",
       "1949           20.482839  2010\n",
       "\n",
       "[1452 rows x 2 columns]"
      ]
     },
     "execution_count": 6,
     "metadata": {},
     "output_type": "execute_result"
    }
   ],
   "source": [
    "dfb"
   ]
  },
  {
   "cell_type": "code",
   "execution_count": 8,
   "metadata": {},
   "outputs": [
    {
     "data": {
      "text/html": [
       "<div>\n",
       "<style scoped>\n",
       "    .dataframe tbody tr th:only-of-type {\n",
       "        vertical-align: middle;\n",
       "    }\n",
       "\n",
       "    .dataframe tbody tr th {\n",
       "        vertical-align: top;\n",
       "    }\n",
       "\n",
       "    .dataframe thead th {\n",
       "        text-align: right;\n",
       "    }\n",
       "</style>\n",
       "<table border=\"1\" class=\"dataframe\">\n",
       "  <thead>\n",
       "    <tr style=\"text-align: right;\">\n",
       "      <th></th>\n",
       "      <th>AverageTemperature</th>\n",
       "      <th>Year</th>\n",
       "    </tr>\n",
       "  </thead>\n",
       "  <tbody>\n",
       "    <tr>\n",
       "      <th>1930</th>\n",
       "      <td>18.651364</td>\n",
       "      <td>1991</td>\n",
       "    </tr>\n",
       "    <tr>\n",
       "      <th>1931</th>\n",
       "      <td>19.058583</td>\n",
       "      <td>1992</td>\n",
       "    </tr>\n",
       "    <tr>\n",
       "      <th>1932</th>\n",
       "      <td>19.224982</td>\n",
       "      <td>1993</td>\n",
       "    </tr>\n",
       "    <tr>\n",
       "      <th>1933</th>\n",
       "      <td>19.216401</td>\n",
       "      <td>1994</td>\n",
       "    </tr>\n",
       "    <tr>\n",
       "      <th>1934</th>\n",
       "      <td>18.983689</td>\n",
       "      <td>1995</td>\n",
       "    </tr>\n",
       "    <tr>\n",
       "      <th>1935</th>\n",
       "      <td>19.276549</td>\n",
       "      <td>1996</td>\n",
       "    </tr>\n",
       "    <tr>\n",
       "      <th>1936</th>\n",
       "      <td>19.573677</td>\n",
       "      <td>1997</td>\n",
       "    </tr>\n",
       "    <tr>\n",
       "      <th>1937</th>\n",
       "      <td>19.578194</td>\n",
       "      <td>1998</td>\n",
       "    </tr>\n",
       "    <tr>\n",
       "      <th>1938</th>\n",
       "      <td>19.558279</td>\n",
       "      <td>1999</td>\n",
       "    </tr>\n",
       "    <tr>\n",
       "      <th>1939</th>\n",
       "      <td>19.550557</td>\n",
       "      <td>2000</td>\n",
       "    </tr>\n",
       "    <tr>\n",
       "      <th>1940</th>\n",
       "      <td>19.793901</td>\n",
       "      <td>2001</td>\n",
       "    </tr>\n",
       "    <tr>\n",
       "      <th>1941</th>\n",
       "      <td>19.019357</td>\n",
       "      <td>2002</td>\n",
       "    </tr>\n",
       "    <tr>\n",
       "      <th>1942</th>\n",
       "      <td>19.715696</td>\n",
       "      <td>2003</td>\n",
       "    </tr>\n",
       "    <tr>\n",
       "      <th>1943</th>\n",
       "      <td>19.942475</td>\n",
       "      <td>2004</td>\n",
       "    </tr>\n",
       "    <tr>\n",
       "      <th>1944</th>\n",
       "      <td>20.007977</td>\n",
       "      <td>2005</td>\n",
       "    </tr>\n",
       "    <tr>\n",
       "      <th>1945</th>\n",
       "      <td>19.573018</td>\n",
       "      <td>2006</td>\n",
       "    </tr>\n",
       "    <tr>\n",
       "      <th>1946</th>\n",
       "      <td>19.975516</td>\n",
       "      <td>2007</td>\n",
       "    </tr>\n",
       "    <tr>\n",
       "      <th>1947</th>\n",
       "      <td>19.617621</td>\n",
       "      <td>2008</td>\n",
       "    </tr>\n",
       "    <tr>\n",
       "      <th>1948</th>\n",
       "      <td>19.980084</td>\n",
       "      <td>2009</td>\n",
       "    </tr>\n",
       "    <tr>\n",
       "      <th>1949</th>\n",
       "      <td>20.482839</td>\n",
       "      <td>2010</td>\n",
       "    </tr>\n",
       "  </tbody>\n",
       "</table>\n",
       "</div>"
      ],
      "text/plain": [
       "      AverageTemperature  Year\n",
       "1930           18.651364  1991\n",
       "1931           19.058583  1992\n",
       "1932           19.224982  1993\n",
       "1933           19.216401  1994\n",
       "1934           18.983689  1995\n",
       "1935           19.276549  1996\n",
       "1936           19.573677  1997\n",
       "1937           19.578194  1998\n",
       "1938           19.558279  1999\n",
       "1939           19.550557  2000\n",
       "1940           19.793901  2001\n",
       "1941           19.019357  2002\n",
       "1942           19.715696  2003\n",
       "1943           19.942475  2004\n",
       "1944           20.007977  2005\n",
       "1945           19.573018  2006\n",
       "1946           19.975516  2007\n",
       "1947           19.617621  2008\n",
       "1948           19.980084  2009\n",
       "1949           20.482839  2010"
      ]
     },
     "execution_count": 8,
     "metadata": {},
     "output_type": "execute_result"
    }
   ],
   "source": [
    "dfb.tail(20)"
   ]
  },
  {
   "cell_type": "code",
   "execution_count": 10,
   "metadata": {},
   "outputs": [],
   "source": [
    "dfb.index = np.arange(1452)"
   ]
  },
  {
   "cell_type": "code",
   "execution_count": 11,
   "metadata": {},
   "outputs": [
    {
     "data": {
      "text/html": [
       "<div>\n",
       "<style scoped>\n",
       "    .dataframe tbody tr th:only-of-type {\n",
       "        vertical-align: middle;\n",
       "    }\n",
       "\n",
       "    .dataframe tbody tr th {\n",
       "        vertical-align: top;\n",
       "    }\n",
       "\n",
       "    .dataframe thead th {\n",
       "        text-align: right;\n",
       "    }\n",
       "</style>\n",
       "<table border=\"1\" class=\"dataframe\">\n",
       "  <thead>\n",
       "    <tr style=\"text-align: right;\">\n",
       "      <th></th>\n",
       "      <th>AverageTemperature</th>\n",
       "      <th>Year</th>\n",
       "    </tr>\n",
       "  </thead>\n",
       "  <tbody>\n",
       "    <tr>\n",
       "      <th>0</th>\n",
       "      <td>16.973653</td>\n",
       "      <td>1902</td>\n",
       "    </tr>\n",
       "    <tr>\n",
       "      <th>1</th>\n",
       "      <td>17.181773</td>\n",
       "      <td>1903</td>\n",
       "    </tr>\n",
       "    <tr>\n",
       "      <th>2</th>\n",
       "      <td>17.436933</td>\n",
       "      <td>1904</td>\n",
       "    </tr>\n",
       "    <tr>\n",
       "      <th>3</th>\n",
       "      <td>17.688948</td>\n",
       "      <td>1905</td>\n",
       "    </tr>\n",
       "    <tr>\n",
       "      <th>4</th>\n",
       "      <td>17.811166</td>\n",
       "      <td>1906</td>\n",
       "    </tr>\n",
       "    <tr>\n",
       "      <th>...</th>\n",
       "      <td>...</td>\n",
       "      <td>...</td>\n",
       "    </tr>\n",
       "    <tr>\n",
       "      <th>1447</th>\n",
       "      <td>19.573018</td>\n",
       "      <td>2006</td>\n",
       "    </tr>\n",
       "    <tr>\n",
       "      <th>1448</th>\n",
       "      <td>19.975516</td>\n",
       "      <td>2007</td>\n",
       "    </tr>\n",
       "    <tr>\n",
       "      <th>1449</th>\n",
       "      <td>19.617621</td>\n",
       "      <td>2008</td>\n",
       "    </tr>\n",
       "    <tr>\n",
       "      <th>1450</th>\n",
       "      <td>19.980084</td>\n",
       "      <td>2009</td>\n",
       "    </tr>\n",
       "    <tr>\n",
       "      <th>1451</th>\n",
       "      <td>20.482839</td>\n",
       "      <td>2010</td>\n",
       "    </tr>\n",
       "  </tbody>\n",
       "</table>\n",
       "<p>1452 rows × 2 columns</p>\n",
       "</div>"
      ],
      "text/plain": [
       "      AverageTemperature  Year\n",
       "0              16.973653  1902\n",
       "1              17.181773  1903\n",
       "2              17.436933  1904\n",
       "3              17.688948  1905\n",
       "4              17.811166  1906\n",
       "...                  ...   ...\n",
       "1447           19.573018  2006\n",
       "1448           19.975516  2007\n",
       "1449           19.617621  2008\n",
       "1450           19.980084  2009\n",
       "1451           20.482839  2010\n",
       "\n",
       "[1452 rows x 2 columns]"
      ]
     },
     "execution_count": 11,
     "metadata": {},
     "output_type": "execute_result"
    }
   ],
   "source": [
    "dfb"
   ]
  },
  {
   "cell_type": "code",
   "execution_count": 20,
   "metadata": {},
   "outputs": [],
   "source": [
    "dfb_group_year = dfb.groupby('Year').agg(np.mean)"
   ]
  },
  {
   "cell_type": "code",
   "execution_count": 21,
   "metadata": {},
   "outputs": [
    {
     "data": {
      "text/html": [
       "<div>\n",
       "<style scoped>\n",
       "    .dataframe tbody tr th:only-of-type {\n",
       "        vertical-align: middle;\n",
       "    }\n",
       "\n",
       "    .dataframe tbody tr th {\n",
       "        vertical-align: top;\n",
       "    }\n",
       "\n",
       "    .dataframe thead th {\n",
       "        text-align: right;\n",
       "    }\n",
       "</style>\n",
       "<table border=\"1\" class=\"dataframe\">\n",
       "  <thead>\n",
       "    <tr style=\"text-align: right;\">\n",
       "      <th></th>\n",
       "      <th>AverageTemperature</th>\n",
       "    </tr>\n",
       "    <tr>\n",
       "      <th>Year</th>\n",
       "      <th></th>\n",
       "    </tr>\n",
       "  </thead>\n",
       "  <tbody>\n",
       "    <tr>\n",
       "      <th>1902</th>\n",
       "      <td>17.438122</td>\n",
       "    </tr>\n",
       "    <tr>\n",
       "      <th>1903</th>\n",
       "      <td>17.375456</td>\n",
       "    </tr>\n",
       "    <tr>\n",
       "      <th>1904</th>\n",
       "      <td>17.558674</td>\n",
       "    </tr>\n",
       "    <tr>\n",
       "      <th>1905</th>\n",
       "      <td>17.740646</td>\n",
       "    </tr>\n",
       "    <tr>\n",
       "      <th>1906</th>\n",
       "      <td>17.501770</td>\n",
       "    </tr>\n",
       "    <tr>\n",
       "      <th>...</th>\n",
       "      <td>...</td>\n",
       "    </tr>\n",
       "    <tr>\n",
       "      <th>2006</th>\n",
       "      <td>19.827744</td>\n",
       "    </tr>\n",
       "    <tr>\n",
       "      <th>2007</th>\n",
       "      <td>19.694244</td>\n",
       "    </tr>\n",
       "    <tr>\n",
       "      <th>2008</th>\n",
       "      <td>19.793876</td>\n",
       "    </tr>\n",
       "    <tr>\n",
       "      <th>2009</th>\n",
       "      <td>19.884571</td>\n",
       "    </tr>\n",
       "    <tr>\n",
       "      <th>2010</th>\n",
       "      <td>19.903760</td>\n",
       "    </tr>\n",
       "  </tbody>\n",
       "</table>\n",
       "<p>109 rows × 1 columns</p>\n",
       "</div>"
      ],
      "text/plain": [
       "      AverageTemperature\n",
       "Year                    \n",
       "1902           17.438122\n",
       "1903           17.375456\n",
       "1904           17.558674\n",
       "1905           17.740646\n",
       "1906           17.501770\n",
       "...                  ...\n",
       "2006           19.827744\n",
       "2007           19.694244\n",
       "2008           19.793876\n",
       "2009           19.884571\n",
       "2010           19.903760\n",
       "\n",
       "[109 rows x 1 columns]"
      ]
     },
     "execution_count": 21,
     "metadata": {},
     "output_type": "execute_result"
    }
   ],
   "source": [
    "dfb_group_year"
   ]
  },
  {
   "cell_type": "code",
   "execution_count": null,
   "metadata": {},
   "outputs": [],
   "source": []
  },
  {
   "cell_type": "code",
   "execution_count": 12,
   "metadata": {},
   "outputs": [],
   "source": [
    "# moving average filter"
   ]
  },
  {
   "cell_type": "code",
   "execution_count": 19,
   "metadata": {},
   "outputs": [
    {
     "data": {
      "text/html": [
       "<div>\n",
       "<style scoped>\n",
       "    .dataframe tbody tr th:only-of-type {\n",
       "        vertical-align: middle;\n",
       "    }\n",
       "\n",
       "    .dataframe tbody tr th {\n",
       "        vertical-align: top;\n",
       "    }\n",
       "\n",
       "    .dataframe thead th {\n",
       "        text-align: right;\n",
       "    }\n",
       "</style>\n",
       "<table border=\"1\" class=\"dataframe\">\n",
       "  <thead>\n",
       "    <tr style=\"text-align: right;\">\n",
       "      <th></th>\n",
       "      <th>AverageTemperature</th>\n",
       "      <th>Year</th>\n",
       "    </tr>\n",
       "  </thead>\n",
       "  <tbody>\n",
       "    <tr>\n",
       "      <th>1212</th>\n",
       "      <td>19.977052</td>\n",
       "      <td>2002</td>\n",
       "    </tr>\n",
       "    <tr>\n",
       "      <th>1233</th>\n",
       "      <td>19.240852</td>\n",
       "      <td>2002</td>\n",
       "    </tr>\n",
       "    <tr>\n",
       "      <th>1254</th>\n",
       "      <td>19.410381</td>\n",
       "      <td>2002</td>\n",
       "    </tr>\n",
       "    <tr>\n",
       "      <th>1275</th>\n",
       "      <td>19.457610</td>\n",
       "      <td>2002</td>\n",
       "    </tr>\n",
       "    <tr>\n",
       "      <th>1296</th>\n",
       "      <td>19.857071</td>\n",
       "      <td>2002</td>\n",
       "    </tr>\n",
       "    <tr>\n",
       "      <th>1317</th>\n",
       "      <td>19.278535</td>\n",
       "      <td>2002</td>\n",
       "    </tr>\n",
       "    <tr>\n",
       "      <th>1338</th>\n",
       "      <td>19.507882</td>\n",
       "      <td>2002</td>\n",
       "    </tr>\n",
       "    <tr>\n",
       "      <th>1359</th>\n",
       "      <td>19.896580</td>\n",
       "      <td>2002</td>\n",
       "    </tr>\n",
       "    <tr>\n",
       "      <th>1380</th>\n",
       "      <td>19.247033</td>\n",
       "      <td>2002</td>\n",
       "    </tr>\n",
       "    <tr>\n",
       "      <th>1401</th>\n",
       "      <td>19.929583</td>\n",
       "      <td>2002</td>\n",
       "    </tr>\n",
       "    <tr>\n",
       "      <th>1422</th>\n",
       "      <td>19.922026</td>\n",
       "      <td>2002</td>\n",
       "    </tr>\n",
       "    <tr>\n",
       "      <th>1443</th>\n",
       "      <td>19.019357</td>\n",
       "      <td>2002</td>\n",
       "    </tr>\n",
       "  </tbody>\n",
       "</table>\n",
       "</div>"
      ],
      "text/plain": [
       "      AverageTemperature  Year\n",
       "1212           19.977052  2002\n",
       "1233           19.240852  2002\n",
       "1254           19.410381  2002\n",
       "1275           19.457610  2002\n",
       "1296           19.857071  2002\n",
       "1317           19.278535  2002\n",
       "1338           19.507882  2002\n",
       "1359           19.896580  2002\n",
       "1380           19.247033  2002\n",
       "1401           19.929583  2002\n",
       "1422           19.922026  2002\n",
       "1443           19.019357  2002"
      ]
     },
     "execution_count": 19,
     "metadata": {},
     "output_type": "execute_result"
    }
   ],
   "source": [
    "dfb[dfb[\"Year\"] == 2002]"
   ]
  },
  {
   "cell_type": "code",
   "execution_count": 22,
   "metadata": {},
   "outputs": [
    {
     "data": {
      "text/plain": [
       "Index(['AverageTemperature'], dtype='object')"
      ]
     },
     "execution_count": 22,
     "metadata": {},
     "output_type": "execute_result"
    }
   ],
   "source": [
    "dfb_group_year.columns"
   ]
  },
  {
   "cell_type": "code",
   "execution_count": 23,
   "metadata": {},
   "outputs": [],
   "source": [
    "objr = dfb_group_year['AverageTemperature'].rolling(10).mean()"
   ]
  },
  {
   "cell_type": "code",
   "execution_count": 24,
   "metadata": {},
   "outputs": [
    {
     "data": {
      "text/plain": [
       "Year\n",
       "1902          NaN\n",
       "1903          NaN\n",
       "1904          NaN\n",
       "1905          NaN\n",
       "1906          NaN\n",
       "1907          NaN\n",
       "1908          NaN\n",
       "1909          NaN\n",
       "1910          NaN\n",
       "1911    17.501145\n",
       "1912    17.502700\n",
       "1913    17.500737\n",
       "1914    17.487112\n",
       "1915    17.466333\n",
       "1916    17.460069\n",
       "1917    17.475434\n",
       "1918    17.463959\n",
       "1919    17.472423\n",
       "1920    17.474037\n",
       "1921    17.480317\n",
       "Name: AverageTemperature, dtype: float64"
      ]
     },
     "execution_count": 24,
     "metadata": {},
     "output_type": "execute_result"
    }
   ],
   "source": [
    "objr.head(20)"
   ]
  },
  {
   "cell_type": "code",
   "execution_count": 25,
   "metadata": {},
   "outputs": [
    {
     "data": {
      "text/html": [
       "<div>\n",
       "<style scoped>\n",
       "    .dataframe tbody tr th:only-of-type {\n",
       "        vertical-align: middle;\n",
       "    }\n",
       "\n",
       "    .dataframe tbody tr th {\n",
       "        vertical-align: top;\n",
       "    }\n",
       "\n",
       "    .dataframe thead th {\n",
       "        text-align: right;\n",
       "    }\n",
       "</style>\n",
       "<table border=\"1\" class=\"dataframe\">\n",
       "  <thead>\n",
       "    <tr style=\"text-align: right;\">\n",
       "      <th></th>\n",
       "      <th>AverageTemperature</th>\n",
       "    </tr>\n",
       "    <tr>\n",
       "      <th>Year</th>\n",
       "      <th></th>\n",
       "    </tr>\n",
       "  </thead>\n",
       "  <tbody>\n",
       "    <tr>\n",
       "      <th>1902</th>\n",
       "      <td>17.438122</td>\n",
       "    </tr>\n",
       "    <tr>\n",
       "      <th>1903</th>\n",
       "      <td>17.375456</td>\n",
       "    </tr>\n",
       "    <tr>\n",
       "      <th>1904</th>\n",
       "      <td>17.558674</td>\n",
       "    </tr>\n",
       "    <tr>\n",
       "      <th>1905</th>\n",
       "      <td>17.740646</td>\n",
       "    </tr>\n",
       "    <tr>\n",
       "      <th>1906</th>\n",
       "      <td>17.501770</td>\n",
       "    </tr>\n",
       "    <tr>\n",
       "      <th>...</th>\n",
       "      <td>...</td>\n",
       "    </tr>\n",
       "    <tr>\n",
       "      <th>2006</th>\n",
       "      <td>19.827744</td>\n",
       "    </tr>\n",
       "    <tr>\n",
       "      <th>2007</th>\n",
       "      <td>19.694244</td>\n",
       "    </tr>\n",
       "    <tr>\n",
       "      <th>2008</th>\n",
       "      <td>19.793876</td>\n",
       "    </tr>\n",
       "    <tr>\n",
       "      <th>2009</th>\n",
       "      <td>19.884571</td>\n",
       "    </tr>\n",
       "    <tr>\n",
       "      <th>2010</th>\n",
       "      <td>19.903760</td>\n",
       "    </tr>\n",
       "  </tbody>\n",
       "</table>\n",
       "<p>109 rows × 1 columns</p>\n",
       "</div>"
      ],
      "text/plain": [
       "      AverageTemperature\n",
       "Year                    \n",
       "1902           17.438122\n",
       "1903           17.375456\n",
       "1904           17.558674\n",
       "1905           17.740646\n",
       "1906           17.501770\n",
       "...                  ...\n",
       "2006           19.827744\n",
       "2007           19.694244\n",
       "2008           19.793876\n",
       "2009           19.884571\n",
       "2010           19.903760\n",
       "\n",
       "[109 rows x 1 columns]"
      ]
     },
     "execution_count": 25,
     "metadata": {},
     "output_type": "execute_result"
    }
   ],
   "source": [
    "dfb_group_year"
   ]
  },
  {
   "cell_type": "code",
   "execution_count": 27,
   "metadata": {},
   "outputs": [
    {
     "data": {
      "image/png": "[encoded data removed]",
      "text/plain": [
       "<Figure size 648x432 with 1 Axes>"
      ]
     },
     "metadata": {
      "needs_background": "light"
     },
     "output_type": "display_data"
    }
   ],
   "source": [
    "objf = plt.figure(figsize=(9, 6))\n",
    "\n",
    "ax = objf.add_axes([1, 1, 1, 1])\n",
    "\n",
    "# temp measurements \n",
    "\n",
    "ax.scatter(dfb_group_year.index, dfb_group_year['AverageTemperature'], label='raw data')\n",
    "ax.plot(dfb_group_year.index, objr, label='10 years mov avg')\n",
    "\n",
    "ax.set_title('mean air temperature')\n",
    "ax.set_xlabel('year')\n",
    "ax.set_ylabel('temperature')\n",
    "ax.legend()\n",
    "plt.show()"
   ]
  },
  {
   "cell_type": "markdown",
   "metadata": {},
   "source": [
    "### Least Squares method"
   ]
  },
  {
   "cell_type": "markdown",
   "metadata": {},
   "source": [
    "x , y <br>\n",
    "\n",
    "x_mean, y_mean <br>\n",
    "\n",
    "sum((x - x_mean) (y - y_meean))/ sum(x-x_mean)"
   ]
  },
  {
   "cell_type": "code",
   "execution_count": 28,
   "metadata": {},
   "outputs": [],
   "source": [
    "from sklearn.linear_model import LinearRegression"
   ]
  },
  {
   "cell_type": "code",
   "execution_count": 30,
   "metadata": {},
   "outputs": [],
   "source": [
    "model = LinearRegression()"
   ]
  },
  {
   "cell_type": "markdown",
   "metadata": {},
   "source": [
    "### simple linear regression"
   ]
  },
  {
   "cell_type": "code",
   "execution_count": 44,
   "metadata": {},
   "outputs": [],
   "source": [
    "X = dfb.iloc[:, 1:].values  \n",
    "# independant variable "
   ]
  },
  {
   "cell_type": "code",
   "execution_count": 45,
   "metadata": {},
   "outputs": [],
   "source": [
    "y = dfb.iloc[:, 0].values \n",
    "# dependant variable vector"
   ]
  },
  {
   "cell_type": "code",
   "execution_count": 46,
   "metadata": {},
   "outputs": [
    {
     "data": {
      "text/plain": [
       "array([[1902],\n",
       "       [1903],\n",
       "       [1904],\n",
       "       ...,\n",
       "       [2008],\n",
       "       [2009],\n",
       "       [2010]])"
      ]
     },
     "execution_count": 46,
     "metadata": {},
     "output_type": "execute_result"
    }
   ],
   "source": [
    "X"
   ]
  },
  {
   "cell_type": "code",
   "execution_count": 47,
   "metadata": {},
   "outputs": [
    {
     "data": {
      "text/plain": [
       "array([16.97365282, 17.18177329, 17.43693268, ..., 19.61762072,\n",
       "       19.98008381, 20.48283926])"
      ]
     },
     "execution_count": 47,
     "metadata": {},
     "output_type": "execute_result"
    }
   ],
   "source": [
    "y"
   ]
  },
  {
   "cell_type": "code",
   "execution_count": 33,
   "metadata": {},
   "outputs": [],
   "source": [
    "from sklearn.model_selection import train_test_split"
   ]
  },
  {
   "cell_type": "code",
   "execution_count": 48,
   "metadata": {},
   "outputs": [],
   "source": [
    "X_train, X_test, y_train, y_test = train_test_split(X, y, test_size=1/4, random_state=3)"
   ]
  },
  {
   "cell_type": "code",
   "execution_count": 49,
   "metadata": {},
   "outputs": [
    {
     "data": {
      "text/plain": [
       "LinearRegression()"
      ]
     },
     "execution_count": 49,
     "metadata": {},
     "output_type": "execute_result"
    }
   ],
   "source": [
    "model.fit(X_train, y_train)"
   ]
  },
  {
   "cell_type": "code",
   "execution_count": 50,
   "metadata": {},
   "outputs": [
    {
     "data": {
      "text/plain": [
       "array([17.45048186, 18.13612206, 17.26133974, 18.32526418, 17.04855485,\n",
       "       18.44347801, 18.11247929, 18.41983525, 19.29461757, 19.27097481,\n",
       "       17.04855485, 17.68690951, 17.14312591, 19.38918863, 17.47412462,\n",
       "       18.041551  , 18.7981195 , 19.05818992, 18.75083396, 18.18340759,\n",
       "       18.39619248, 17.00126931, 16.95398378, 19.27097481, 17.14312591,\n",
       "       18.30162142, 17.8996944 , 18.98726162, 18.75083396, 19.12911821,\n",
       "       17.99426547, 19.17640374, 17.23769697, 18.23069312, 17.94697994,\n",
       "       18.20705036, 18.20705036, 18.53804907, 17.66326675, 17.71055228,\n",
       "       18.39619248, 16.95398378, 19.12911821, 19.29461757, 16.97762655,\n",
       "       18.96361885, 18.98726162, 19.01090439, 18.30162142, 18.7981195 ,\n",
       "       18.23069312, 18.13612206, 19.08183268, 18.86904779, 19.36554587,\n",
       "       17.68690951, 17.42683909, 17.19041144, 17.85240887, 18.89269056,\n",
       "       18.06519376, 17.33226803, 17.85240887, 17.16676867, 17.47412462,\n",
       "       19.27097481, 17.23769697, 17.52141016, 17.42683909, 19.4128314 ,\n",
       "       17.30862527, 17.45048186, 19.17640374, 18.77447673, 18.25433589,\n",
       "       17.73419505, 18.53804907, 18.63262014, 19.31826034, 18.96361885,\n",
       "       19.27097481, 17.33226803, 18.11247929, 16.90669825, 18.13612206,\n",
       "       18.15976483, 18.13612206, 19.01090439, 19.27097481, 18.63262014,\n",
       "       18.93997609, 18.96361885, 19.01090439, 18.60897737, 17.37955356,\n",
       "       17.61598122, 17.26133974, 19.01090439, 19.3419031 , 18.25433589,\n",
       "       17.75783781, 17.85240887, 18.60897737, 17.54505292, 18.39619248,\n",
       "       17.2140542 , 17.99426547, 19.17640374, 18.13612206, 16.97762655,\n",
       "       18.041551  , 18.67990567, 18.60897737, 18.01790823, 18.39619248,\n",
       "       17.19041144, 17.42683909, 17.23769697, 19.12911821, 18.37254972,\n",
       "       18.96361885, 18.75083396, 17.2849825 , 19.20004651, 18.60897737,\n",
       "       17.68690951, 18.46712078, 19.22368928, 16.97762655, 18.13612206,\n",
       "       17.3559108 , 18.6562629 , 18.27797865, 16.88305549, 18.58533461,\n",
       "       18.041551  , 17.59233845, 17.00126931, 18.93997609, 19.31826034,\n",
       "       17.63962398, 18.58533461, 18.70354843, 17.04855485, 19.24733204,\n",
       "       16.88305549, 17.2140542 , 18.41983525, 18.041551  , 17.87605164,\n",
       "       16.88305549, 18.13612206, 17.26133974, 17.00126931, 18.041551  ,\n",
       "       18.08883653, 18.84540503, 18.15976483, 17.66326675, 18.01790823,\n",
       "       18.93997609, 17.59233845, 18.84540503, 18.84540503, 18.18340759,\n",
       "       17.59233845, 16.95398378, 18.86904779, 19.3419031 , 18.06519376,\n",
       "       18.08883653, 19.15276098, 18.77447673, 17.49776739, 17.63962398,\n",
       "       18.18340759, 17.92333717, 18.11247929, 19.20004651, 18.70354843,\n",
       "       18.60897737, 17.07219761, 18.15976483, 18.86904779, 17.42683909,\n",
       "       17.07219761, 17.54505292, 17.49776739, 18.041551  , 18.41983525,\n",
       "       18.67990567, 17.54505292, 18.51440631, 19.38918863, 17.37955356,\n",
       "       18.01790823, 18.7271912 , 17.52141016, 18.49076354, 17.63962398,\n",
       "       19.05818992, 16.90669825, 19.03454715, 19.24733204, 19.24733204,\n",
       "       18.89269056, 18.15976483, 19.01090439, 17.82876611, 18.34890695,\n",
       "       17.61598122, 17.16676867, 17.19041144, 17.56869569, 19.43647417,\n",
       "       18.49076354, 19.20004651, 17.02491208, 17.61598122, 18.27797865,\n",
       "       17.02491208, 18.51440631, 19.22368928, 18.18340759, 17.54505292,\n",
       "       18.06519376, 18.15976483, 17.47412462, 17.16676867, 17.87605164,\n",
       "       18.34890695, 17.59233845, 17.2140542 , 18.23069312, 17.71055228,\n",
       "       17.04855485, 18.98726162, 18.06519376, 17.56869569, 18.51440631,\n",
       "       18.06519376, 17.87605164, 17.54505292, 18.89269056, 18.96361885,\n",
       "       18.53804907, 17.2140542 , 18.49076354, 18.39619248, 17.94697994,\n",
       "       18.20705036, 17.61598122, 17.78148058, 17.61598122, 18.77447673,\n",
       "       18.11247929, 17.75783781, 17.04855485, 17.02491208, 17.14312591,\n",
       "       18.93997609, 19.3419031 , 18.75083396, 18.08883653, 19.17640374,\n",
       "       17.75783781, 17.07219761, 17.82876611, 18.23069312, 17.2849825 ,\n",
       "       17.54505292, 19.10547545, 17.33226803, 19.15276098, 19.08183268,\n",
       "       19.22368928, 18.01790823, 18.58533461, 17.75783781, 16.88305549,\n",
       "       16.93034102, 18.7981195 , 16.90669825, 18.08883653, 18.06519376,\n",
       "       18.70354843, 17.04855485, 16.88305549, 18.06519376, 18.01790823,\n",
       "       19.3419031 , 17.87605164, 18.96361885, 17.78148058, 17.85240887,\n",
       "       17.11948314, 17.09584038, 17.40319633, 17.2849825 , 17.19041144,\n",
       "       19.22368928, 17.14312591, 18.01790823, 16.95398378, 18.18340759,\n",
       "       17.73419505, 17.2140542 , 18.82176226, 18.20705036, 18.44347801,\n",
       "       17.59233845, 19.03454715, 16.90669825, 17.52141016, 17.68690951,\n",
       "       17.02491208, 18.18340759, 16.97762655, 19.22368928, 18.15976483,\n",
       "       18.82176226, 17.40319633, 17.37955356, 18.11247929, 19.27097481,\n",
       "       17.42683909, 19.20004651, 18.32526418, 17.16676867, 18.08883653,\n",
       "       18.53804907, 17.71055228, 18.25433589, 17.80512334, 18.23069312,\n",
       "       19.01090439, 18.98726162, 17.56869569, 18.49076354, 17.11948314,\n",
       "       18.15976483, 18.37254972, 19.12911821, 18.6562629 , 18.18340759,\n",
       "       18.44347801, 18.18340759, 19.24733204, 18.15976483, 17.63962398,\n",
       "       17.94697994, 17.26133974, 19.08183268, 17.2140542 , 18.08883653,\n",
       "       17.52141016, 17.11948314, 17.9706227 , 18.30162142, 17.00126931,\n",
       "       18.96361885, 18.44347801, 17.45048186])"
      ]
     },
     "execution_count": 50,
     "metadata": {},
     "output_type": "execute_result"
    }
   ],
   "source": [
    "y_pred = model.predict(X_test)\n",
    "\n",
    "y_pred"
   ]
  },
  {
   "cell_type": "code",
   "execution_count": 51,
   "metadata": {},
   "outputs": [
    {
     "data": {
      "text/plain": [
       "array([17.35461534, 18.1479518 , 17.6097224 , 17.73410565, 18.26665345,\n",
       "       18.44633669, 18.05273855, 17.95004723, 19.46824235, 19.64749879,\n",
       "       17.8703323 , 17.18294159, 18.10322991, 19.73969706, 18.44270149,\n",
       "       18.57065686, 19.40892463, 19.19244943, 18.88635307, 17.87984648,\n",
       "       18.49367159, 18.1246089 , 18.01413568, 18.86116008, 16.43657244,\n",
       "       18.04562775, 17.86703251, 19.29725571, 18.81855028, 18.95757346,\n",
       "       16.93984537, 19.13513626, 17.90767478, 18.16308383, 17.20414087,\n",
       "       16.92258709, 18.22387094, 18.29824145, 17.56982888, 17.75355833,\n",
       "       18.88047906, 18.06334343, 19.33644009, 19.46004729, 17.81116622,\n",
       "       19.03244443, 19.13271396, 19.17463215, 18.52891351, 18.46359426,\n",
       "       17.54224338, 17.91145879, 19.30101803, 19.12445536, 19.45189047,\n",
       "       17.41085617, 17.73674938, 17.30782055, 17.91147411, 18.41659226,\n",
       "       17.08628331, 17.57748788, 16.52497626, 17.70469476, 17.81623579,\n",
       "       19.71569596, 17.58038414, 18.08602764, 17.93399878, 19.94994309,\n",
       "       16.83320677, 16.94377315, 19.51605647, 18.58811961, 18.20895824,\n",
       "       17.60485047, 18.11790849, 17.66022683, 20.10454206, 18.98730294,\n",
       "       19.39625773, 17.19728229, 17.95738701, 17.40031407, 17.9797006 ,\n",
       "       17.64713921, 17.44331487, 19.03205238, 19.64362667, 18.78379242,\n",
       "       18.68713217, 18.87700336, 18.83233576, 18.32036271, 17.02751849,\n",
       "       16.43640055, 17.99618502, 19.3272976 , 19.64358759, 18.75222164,\n",
       "       16.85654775, 18.31257426, 18.57075805, 17.39035727, 18.21799889,\n",
       "       17.89057749, 17.9025878 , 19.36856755, 18.17652277, 17.78515222,\n",
       "       17.28237029, 18.39634812, 17.87622764, 18.4523108 , 18.4761053 ,\n",
       "       16.95043874, 17.04268746, 17.13485154, 19.19612337, 18.94949342,\n",
       "       19.13363089, 18.32736417, 17.80460288, 19.69165139, 19.3148301 ,\n",
       "       17.46595802, 18.64236674, 19.84504644, 17.04140725, 17.66570773,\n",
       "       18.1196567 , 18.76601153, 18.10141438, 17.80818435, 18.8354197 ,\n",
       "       17.67693916, 17.93185034, 17.66744707, 18.85969559, 19.66918158,\n",
       "       17.3666548 , 18.63482423, 18.04077808, 18.4355155 , 19.85707052,\n",
       "       17.24850745, 17.86949502, 17.4771758 , 17.43625027, 17.30725059,\n",
       "       17.10186631, 17.92705672, 17.47269573, 16.6599278 , 17.82183342,\n",
       "       18.32059403, 18.46240814, 17.3175206 , 17.83027943, 17.80543714,\n",
       "       18.60587978, 17.76428126, 19.10186281, 18.66926582, 17.73431196,\n",
       "       17.94108636, 17.68894768, 18.84678692, 19.83431982, 17.42757456,\n",
       "       17.60726916, 18.84402539, 18.96421595, 17.2661623 , 16.55448712,\n",
       "       17.99659469, 17.30958577, 18.0852152 , 19.28429731, 18.77817843,\n",
       "       18.83904459, 17.45573072, 16.24338029, 19.19791683, 17.05075058,\n",
       "       17.81038921, 17.47789338, 18.27667308, 17.69496419, 18.57877852,\n",
       "       18.78786237, 17.68179698, 17.97402064, 19.99744116, 17.3101708 ,\n",
       "       18.41445426, 17.89718321, 17.03110036, 18.72624995, 18.23000141,\n",
       "       18.75676723, 17.18177329, 18.81875654, 19.41038057, 19.50788167,\n",
       "       20.10631651, 17.86038496, 18.99581883, 17.76941098, 17.8700952 ,\n",
       "       17.08700671, 17.93307014, 17.32606344, 17.12507627, 19.66287267,\n",
       "       18.29465281, 19.24721387, 17.99868094, 17.48950705, 18.71952616,\n",
       "       17.97072035, 18.62082591, 19.62763243, 17.57125774, 18.16476681,\n",
       "       17.53094816, 18.1291042 , 17.13394952, 17.13342593, 17.69056164,\n",
       "       18.56829599, 17.27099439, 16.98739005, 18.34241056, 17.13096954,\n",
       "       17.42116619, 18.79779679, 17.91978219, 17.22940748, 18.47305904,\n",
       "       17.46814824, 18.00121848, 17.85233074, 18.54241743, 19.1540008 ,\n",
       "       18.93812732, 16.4816668 , 18.88691898, 18.7125191 , 17.52601522,\n",
       "       18.16559984, 17.39883811, 17.16371038, 17.55162489, 19.05969567,\n",
       "       17.28033777, 17.85817634, 17.75851528, 17.67325004, 17.71781741,\n",
       "       19.36527142, 19.74611131, 18.93680002, 17.69838746, 19.37190475,\n",
       "       17.17135798, 17.27100563, 16.7370357 , 17.44357834, 17.76106636,\n",
       "       17.62460324, 19.29394365, 17.11078353, 19.10836072, 19.29748187,\n",
       "       19.51664814, 17.30988487, 19.18608953, 17.64528588, 17.35638004,\n",
       "       16.99159997, 18.08687196, 17.08602973, 18.24066538, 17.42469981,\n",
       "       18.76250719, 17.75315168, 17.09118498, 17.79282811, 17.61477139,\n",
       "       20.11616801, 17.53317097, 18.96234524, 17.51046591, 17.18044282,\n",
       "       17.23990369, 16.80797027, 17.35071539, 17.58622952, 17.27587802,\n",
       "       19.23856062, 17.48319737, 18.40837964, 17.66150951, 17.37662917,\n",
       "       18.01779238, 16.96169315, 18.80395653, 17.20119851, 18.65653518,\n",
       "       17.47248472, 19.22498216, 17.09152162, 17.8315227 , 16.87429543,\n",
       "       18.28011372, 18.66413255, 17.97538993, 19.79390053, 17.8524076 ,\n",
       "       19.04378343, 17.95981404, 17.76899923, 17.31016231, 19.48643341,\n",
       "       17.00213481, 19.70672842, 17.50913731, 16.6542545 , 17.58780042,\n",
       "       18.09587098, 17.38454118, 18.28494885, 17.73928603, 18.55889624,\n",
       "       19.05858349, 18.83123846, 16.61527385, 18.40452582, 17.30043141,\n",
       "       18.05320441, 18.09416616, 19.36865425, 17.79354689, 18.0354531 ,\n",
       "       18.09795784, 17.06060583, 19.27853547, 17.6233629 , 17.68602348,\n",
       "       17.94090496, 17.91115096, 18.97703442, 17.54987557, 17.40209818,\n",
       "       17.7905198 , 17.54750442, 18.2174116 , 17.91040284, 17.23484421,\n",
       "       18.56624971, 18.70298481, 16.99962797])"
      ]
     },
     "execution_count": 51,
     "metadata": {},
     "output_type": "execute_result"
    }
   ],
   "source": [
    "y_test"
   ]
  },
  {
   "cell_type": "code",
   "execution_count": 52,
   "metadata": {},
   "outputs": [
    {
     "data": {
      "image/png": "[encoded data removed]",
      "text/plain": [
       "<Figure size 432x288 with 1 Axes>"
      ]
     },
     "metadata": {
      "needs_background": "light"
     },
     "output_type": "display_data"
    }
   ],
   "source": [
    "plt.scatter(X_train, y_train, color='green')  # observation line\n",
    "plt.plot(X_train, model.predict(X_train)) # regression line\n",
    "\n",
    "plt.title(\"avg temperatures\")\n",
    "plt.show()"
   ]
  },
  {
   "cell_type": "code",
   "execution_count": 54,
   "metadata": {},
   "outputs": [
    {
     "data": {
      "image/png": "[encoded data removed]",
      "text/plain": [
       "<Figure size 432x288 with 1 Axes>"
      ]
     },
     "metadata": {
      "needs_background": "light"
     },
     "output_type": "display_data"
    }
   ],
   "source": [
    "plt.scatter(X_test, y_test, color='green')  # observation line\n",
    "plt.plot(X_test, model.predict(X_test)) # regression line\n",
    "\n",
    "plt.title(\"avg temperatures\")\n",
    "plt.show()"
   ]
  },
  {
   "cell_type": "code",
   "execution_count": 55,
   "metadata": {},
   "outputs": [
    {
     "data": {
      "text/plain": [
       "0.6712375203927148"
      ]
     },
     "execution_count": 55,
     "metadata": {},
     "output_type": "execute_result"
    }
   ],
   "source": [
    "model.score(X, y)"
   ]
  },
  {
   "cell_type": "code",
   "execution_count": 56,
   "metadata": {},
   "outputs": [
    {
     "data": {
      "text/plain": [
       "0.6472461757854617"
      ]
     },
     "execution_count": 56,
     "metadata": {},
     "output_type": "execute_result"
    }
   ],
   "source": [
    "model.score(X_test, y_test)"
   ]
  },
  {
   "cell_type": "code",
   "execution_count": 62,
   "metadata": {},
   "outputs": [],
   "source": [
    "X = dfb_group_year.index.values\n",
    "# independant variable \n",
    "\n",
    "y = dfb_group_year.iloc[:, 0].values \n",
    "# dependant variable vector"
   ]
  },
  {
   "cell_type": "code",
   "execution_count": 63,
   "metadata": {},
   "outputs": [
    {
     "data": {
      "text/plain": [
       "array([1902, 1903, 1904, 1905, 1906, 1907, 1908, 1909, 1910, 1911, 1912,\n",
       "       1913, 1914, 1915, 1916, 1917, 1918, 1919, 1920, 1921, 1922, 1923,\n",
       "       1924, 1925, 1926, 1927, 1928, 1929, 1930, 1931, 1932, 1933, 1934,\n",
       "       1935, 1936, 1937, 1938, 1939, 1940, 1941, 1942, 1943, 1944, 1945,\n",
       "       1946, 1947, 1948, 1949, 1950, 1951, 1952, 1953, 1954, 1955, 1956,\n",
       "       1957, 1958, 1959, 1960, 1961, 1962, 1963, 1964, 1965, 1966, 1967,\n",
       "       1968, 1969, 1970, 1971, 1972, 1973, 1974, 1975, 1976, 1977, 1978,\n",
       "       1979, 1980, 1981, 1982, 1983, 1984, 1985, 1986, 1987, 1988, 1989,\n",
       "       1990, 1991, 1992, 1993, 1994, 1995, 1996, 1997, 1998, 1999, 2000,\n",
       "       2001, 2002, 2003, 2004, 2005, 2006, 2007, 2008, 2009, 2010])"
      ]
     },
     "execution_count": 63,
     "metadata": {},
     "output_type": "execute_result"
    }
   ],
   "source": [
    "X"
   ]
  },
  {
   "cell_type": "code",
   "execution_count": 66,
   "metadata": {},
   "outputs": [],
   "source": [
    "X = X.reshape((-1, 1))"
   ]
  },
  {
   "cell_type": "code",
   "execution_count": 67,
   "metadata": {},
   "outputs": [
    {
     "data": {
      "text/plain": [
       "array([[1902],\n",
       "       [1903],\n",
       "       [1904],\n",
       "       [1905],\n",
       "       [1906],\n",
       "       [1907],\n",
       "       [1908],\n",
       "       [1909],\n",
       "       [1910],\n",
       "       [1911],\n",
       "       [1912],\n",
       "       [1913],\n",
       "       [1914],\n",
       "       [1915],\n",
       "       [1916],\n",
       "       [1917],\n",
       "       [1918],\n",
       "       [1919],\n",
       "       [1920],\n",
       "       [1921],\n",
       "       [1922],\n",
       "       [1923],\n",
       "       [1924],\n",
       "       [1925],\n",
       "       [1926],\n",
       "       [1927],\n",
       "       [1928],\n",
       "       [1929],\n",
       "       [1930],\n",
       "       [1931],\n",
       "       [1932],\n",
       "       [1933],\n",
       "       [1934],\n",
       "       [1935],\n",
       "       [1936],\n",
       "       [1937],\n",
       "       [1938],\n",
       "       [1939],\n",
       "       [1940],\n",
       "       [1941],\n",
       "       [1942],\n",
       "       [1943],\n",
       "       [1944],\n",
       "       [1945],\n",
       "       [1946],\n",
       "       [1947],\n",
       "       [1948],\n",
       "       [1949],\n",
       "       [1950],\n",
       "       [1951],\n",
       "       [1952],\n",
       "       [1953],\n",
       "       [1954],\n",
       "       [1955],\n",
       "       [1956],\n",
       "       [1957],\n",
       "       [1958],\n",
       "       [1959],\n",
       "       [1960],\n",
       "       [1961],\n",
       "       [1962],\n",
       "       [1963],\n",
       "       [1964],\n",
       "       [1965],\n",
       "       [1966],\n",
       "       [1967],\n",
       "       [1968],\n",
       "       [1969],\n",
       "       [1970],\n",
       "       [1971],\n",
       "       [1972],\n",
       "       [1973],\n",
       "       [1974],\n",
       "       [1975],\n",
       "       [1976],\n",
       "       [1977],\n",
       "       [1978],\n",
       "       [1979],\n",
       "       [1980],\n",
       "       [1981],\n",
       "       [1982],\n",
       "       [1983],\n",
       "       [1984],\n",
       "       [1985],\n",
       "       [1986],\n",
       "       [1987],\n",
       "       [1988],\n",
       "       [1989],\n",
       "       [1990],\n",
       "       [1991],\n",
       "       [1992],\n",
       "       [1993],\n",
       "       [1994],\n",
       "       [1995],\n",
       "       [1996],\n",
       "       [1997],\n",
       "       [1998],\n",
       "       [1999],\n",
       "       [2000],\n",
       "       [2001],\n",
       "       [2002],\n",
       "       [2003],\n",
       "       [2004],\n",
       "       [2005],\n",
       "       [2006],\n",
       "       [2007],\n",
       "       [2008],\n",
       "       [2009],\n",
       "       [2010]])"
      ]
     },
     "execution_count": 67,
     "metadata": {},
     "output_type": "execute_result"
    }
   ],
   "source": [
    "X"
   ]
  },
  {
   "cell_type": "code",
   "execution_count": 69,
   "metadata": {},
   "outputs": [
    {
     "data": {
      "text/plain": [
       "LinearRegression()"
      ]
     },
     "execution_count": 69,
     "metadata": {},
     "output_type": "execute_result"
    }
   ],
   "source": [
    "X = dfb_group_year.index.values\n",
    "# independant variable \n",
    "\n",
    "y = dfb_group_year.iloc[:, 0].values \n",
    "# dependant variable vector\n",
    "\n",
    "X = X.reshape((-1, 1))\n",
    "\n",
    "\n",
    "X_train, X_test, y_train, y_test = train_test_split(X, y, test_size=1/4, random_state = 0)\n",
    "\n",
    "\n",
    "model = LinearRegression()\n",
    "model.fit(X_train, y_train)"
   ]
  },
  {
   "cell_type": "code",
   "execution_count": 70,
   "metadata": {},
   "outputs": [],
   "source": [
    "y_pred = model.predict(X_test)"
   ]
  },
  {
   "cell_type": "code",
   "execution_count": 71,
   "metadata": {},
   "outputs": [
    {
     "data": {
      "image/png": "[encoded data removed]",
      "text/plain": [
       "<Figure size 432x288 with 1 Axes>"
      ]
     },
     "metadata": {
      "needs_background": "light"
     },
     "output_type": "display_data"
    }
   ],
   "source": [
    "plt.scatter(X_test, y_test, color='green')  # observation line\n",
    "plt.plot(X_test, model.predict(X_test)) # regression line\n",
    "\n",
    "plt.title(\"avg temperatures\")\n",
    "plt.show()"
   ]
  },
  {
   "cell_type": "code",
   "execution_count": null,
   "metadata": {},
   "outputs": [],
   "source": []
  },
  {
   "cell_type": "code",
   "execution_count": null,
   "metadata": {},
   "outputs": [],
   "source": []
  },
  {
   "cell_type": "code",
   "execution_count": null,
   "metadata": {},
   "outputs": [],
   "source": []
  },
  {
   "cell_type": "markdown",
   "metadata": {},
   "source": [
    "### parabolic model"
   ]
  },
  {
   "cell_type": "code",
   "execution_count": 72,
   "metadata": {},
   "outputs": [
    {
     "data": {
      "text/html": [
       "<div>\n",
       "<style scoped>\n",
       "    .dataframe tbody tr th:only-of-type {\n",
       "        vertical-align: middle;\n",
       "    }\n",
       "\n",
       "    .dataframe tbody tr th {\n",
       "        vertical-align: top;\n",
       "    }\n",
       "\n",
       "    .dataframe thead th {\n",
       "        text-align: right;\n",
       "    }\n",
       "</style>\n",
       "<table border=\"1\" class=\"dataframe\">\n",
       "  <thead>\n",
       "    <tr style=\"text-align: right;\">\n",
       "      <th></th>\n",
       "      <th>AverageTemperature</th>\n",
       "    </tr>\n",
       "    <tr>\n",
       "      <th>Year</th>\n",
       "      <th></th>\n",
       "    </tr>\n",
       "  </thead>\n",
       "  <tbody>\n",
       "    <tr>\n",
       "      <th>1902</th>\n",
       "      <td>17.438122</td>\n",
       "    </tr>\n",
       "    <tr>\n",
       "      <th>1903</th>\n",
       "      <td>17.375456</td>\n",
       "    </tr>\n",
       "    <tr>\n",
       "      <th>1904</th>\n",
       "      <td>17.558674</td>\n",
       "    </tr>\n",
       "    <tr>\n",
       "      <th>1905</th>\n",
       "      <td>17.740646</td>\n",
       "    </tr>\n",
       "    <tr>\n",
       "      <th>1906</th>\n",
       "      <td>17.501770</td>\n",
       "    </tr>\n",
       "    <tr>\n",
       "      <th>...</th>\n",
       "      <td>...</td>\n",
       "    </tr>\n",
       "    <tr>\n",
       "      <th>2006</th>\n",
       "      <td>19.827744</td>\n",
       "    </tr>\n",
       "    <tr>\n",
       "      <th>2007</th>\n",
       "      <td>19.694244</td>\n",
       "    </tr>\n",
       "    <tr>\n",
       "      <th>2008</th>\n",
       "      <td>19.793876</td>\n",
       "    </tr>\n",
       "    <tr>\n",
       "      <th>2009</th>\n",
       "      <td>19.884571</td>\n",
       "    </tr>\n",
       "    <tr>\n",
       "      <th>2010</th>\n",
       "      <td>19.903760</td>\n",
       "    </tr>\n",
       "  </tbody>\n",
       "</table>\n",
       "<p>109 rows × 1 columns</p>\n",
       "</div>"
      ],
      "text/plain": [
       "      AverageTemperature\n",
       "Year                    \n",
       "1902           17.438122\n",
       "1903           17.375456\n",
       "1904           17.558674\n",
       "1905           17.740646\n",
       "1906           17.501770\n",
       "...                  ...\n",
       "2006           19.827744\n",
       "2007           19.694244\n",
       "2008           19.793876\n",
       "2009           19.884571\n",
       "2010           19.903760\n",
       "\n",
       "[109 rows x 1 columns]"
      ]
     },
     "execution_count": 72,
     "metadata": {},
     "output_type": "execute_result"
    }
   ],
   "source": [
    "dfb_group_year"
   ]
  },
  {
   "cell_type": "code",
   "execution_count": 75,
   "metadata": {},
   "outputs": [
    {
     "data": {
      "text/plain": [
       "0.8010190212788783"
      ]
     },
     "execution_count": 75,
     "metadata": {},
     "output_type": "execute_result"
    }
   ],
   "source": [
    "model.score(X_test, y_test)"
   ]
  },
  {
   "cell_type": "code",
   "execution_count": 76,
   "metadata": {},
   "outputs": [
    {
     "data": {
      "text/plain": [
       "0.8596129519591835"
      ]
     },
     "execution_count": 76,
     "metadata": {},
     "output_type": "execute_result"
    }
   ],
   "source": [
    "model.score(X, y)"
   ]
  },
  {
   "cell_type": "code",
   "execution_count": null,
   "metadata": {},
   "outputs": [],
   "source": []
  },
  {
   "cell_type": "code",
   "execution_count": 73,
   "metadata": {},
   "outputs": [],
   "source": [
    "dfb_group_year['Year'] = dfb_group_year.index\n",
    "dfb_group_year['Year_square'] = dfb_group_year.index ** 2"
   ]
  },
  {
   "cell_type": "code",
   "execution_count": 74,
   "metadata": {},
   "outputs": [
    {
     "data": {
      "text/html": [
       "<div>\n",
       "<style scoped>\n",
       "    .dataframe tbody tr th:only-of-type {\n",
       "        vertical-align: middle;\n",
       "    }\n",
       "\n",
       "    .dataframe tbody tr th {\n",
       "        vertical-align: top;\n",
       "    }\n",
       "\n",
       "    .dataframe thead th {\n",
       "        text-align: right;\n",
       "    }\n",
       "</style>\n",
       "<table border=\"1\" class=\"dataframe\">\n",
       "  <thead>\n",
       "    <tr style=\"text-align: right;\">\n",
       "      <th></th>\n",
       "      <th>AverageTemperature</th>\n",
       "      <th>Year</th>\n",
       "      <th>Year_square</th>\n",
       "    </tr>\n",
       "    <tr>\n",
       "      <th>Year</th>\n",
       "      <th></th>\n",
       "      <th></th>\n",
       "      <th></th>\n",
       "    </tr>\n",
       "  </thead>\n",
       "  <tbody>\n",
       "    <tr>\n",
       "      <th>1902</th>\n",
       "      <td>17.438122</td>\n",
       "      <td>1902</td>\n",
       "      <td>3617604</td>\n",
       "    </tr>\n",
       "    <tr>\n",
       "      <th>1903</th>\n",
       "      <td>17.375456</td>\n",
       "      <td>1903</td>\n",
       "      <td>3621409</td>\n",
       "    </tr>\n",
       "    <tr>\n",
       "      <th>1904</th>\n",
       "      <td>17.558674</td>\n",
       "      <td>1904</td>\n",
       "      <td>3625216</td>\n",
       "    </tr>\n",
       "    <tr>\n",
       "      <th>1905</th>\n",
       "      <td>17.740646</td>\n",
       "      <td>1905</td>\n",
       "      <td>3629025</td>\n",
       "    </tr>\n",
       "    <tr>\n",
       "      <th>1906</th>\n",
       "      <td>17.501770</td>\n",
       "      <td>1906</td>\n",
       "      <td>3632836</td>\n",
       "    </tr>\n",
       "    <tr>\n",
       "      <th>...</th>\n",
       "      <td>...</td>\n",
       "      <td>...</td>\n",
       "      <td>...</td>\n",
       "    </tr>\n",
       "    <tr>\n",
       "      <th>2006</th>\n",
       "      <td>19.827744</td>\n",
       "      <td>2006</td>\n",
       "      <td>4024036</td>\n",
       "    </tr>\n",
       "    <tr>\n",
       "      <th>2007</th>\n",
       "      <td>19.694244</td>\n",
       "      <td>2007</td>\n",
       "      <td>4028049</td>\n",
       "    </tr>\n",
       "    <tr>\n",
       "      <th>2008</th>\n",
       "      <td>19.793876</td>\n",
       "      <td>2008</td>\n",
       "      <td>4032064</td>\n",
       "    </tr>\n",
       "    <tr>\n",
       "      <th>2009</th>\n",
       "      <td>19.884571</td>\n",
       "      <td>2009</td>\n",
       "      <td>4036081</td>\n",
       "    </tr>\n",
       "    <tr>\n",
       "      <th>2010</th>\n",
       "      <td>19.903760</td>\n",
       "      <td>2010</td>\n",
       "      <td>4040100</td>\n",
       "    </tr>\n",
       "  </tbody>\n",
       "</table>\n",
       "<p>109 rows × 3 columns</p>\n",
       "</div>"
      ],
      "text/plain": [
       "      AverageTemperature  Year  Year_square\n",
       "Year                                       \n",
       "1902           17.438122  1902      3617604\n",
       "1903           17.375456  1903      3621409\n",
       "1904           17.558674  1904      3625216\n",
       "1905           17.740646  1905      3629025\n",
       "1906           17.501770  1906      3632836\n",
       "...                  ...   ...          ...\n",
       "2006           19.827744  2006      4024036\n",
       "2007           19.694244  2007      4028049\n",
       "2008           19.793876  2008      4032064\n",
       "2009           19.884571  2009      4036081\n",
       "2010           19.903760  2010      4040100\n",
       "\n",
       "[109 rows x 3 columns]"
      ]
     },
     "execution_count": 74,
     "metadata": {},
     "output_type": "execute_result"
    }
   ],
   "source": [
    "dfb_group_year"
   ]
  },
  {
   "cell_type": "code",
   "execution_count": null,
   "metadata": {},
   "outputs": [],
   "source": [
    "objf = plt.figure(figsize=(9, 6))\n",
    "\n",
    "ax = objf.add_axes([1, 1, 1, 1])\n",
    "\n",
    "# temp measurements \n",
    "\n",
    "ax.scatter(dfb_group_year.index, dfb_group_year['AverageTemperature'], label='raw data')\n",
    "ax.plot(dfb_group_year.index, objr, label='10 years mov avg')\n",
    "ax.plot(dfb_group_year.index, objr, label='10 years mov avg')\n",
    "\n",
    "ax.set_title('mean air temperature')\n",
    "ax.set_xlabel('year')\n",
    "ax.set_ylabel('temperature')\n",
    "ax.legend()\n",
    "plt.show()"
   ]
  },
  {
   "cell_type": "code",
   "execution_count": null,
   "metadata": {},
   "outputs": [],
   "source": [
    "trend_x = np.zeroe"
   ]
  },
  {
   "cell_type": "code",
   "execution_count": 77,
   "metadata": {},
   "outputs": [
    {
     "data": {
      "text/html": [
       "<div>\n",
       "<style scoped>\n",
       "    .dataframe tbody tr th:only-of-type {\n",
       "        vertical-align: middle;\n",
       "    }\n",
       "\n",
       "    .dataframe tbody tr th {\n",
       "        vertical-align: top;\n",
       "    }\n",
       "\n",
       "    .dataframe thead th {\n",
       "        text-align: right;\n",
       "    }\n",
       "</style>\n",
       "<table border=\"1\" class=\"dataframe\">\n",
       "  <thead>\n",
       "    <tr style=\"text-align: right;\">\n",
       "      <th></th>\n",
       "      <th>AverageTemperature</th>\n",
       "      <th>Year</th>\n",
       "      <th>Year_square</th>\n",
       "    </tr>\n",
       "    <tr>\n",
       "      <th>Year</th>\n",
       "      <th></th>\n",
       "      <th></th>\n",
       "      <th></th>\n",
       "    </tr>\n",
       "  </thead>\n",
       "  <tbody>\n",
       "    <tr>\n",
       "      <th>1902</th>\n",
       "      <td>17.438122</td>\n",
       "      <td>1902</td>\n",
       "      <td>3617604</td>\n",
       "    </tr>\n",
       "    <tr>\n",
       "      <th>1903</th>\n",
       "      <td>17.375456</td>\n",
       "      <td>1903</td>\n",
       "      <td>3621409</td>\n",
       "    </tr>\n",
       "    <tr>\n",
       "      <th>1904</th>\n",
       "      <td>17.558674</td>\n",
       "      <td>1904</td>\n",
       "      <td>3625216</td>\n",
       "    </tr>\n",
       "  </tbody>\n",
       "</table>\n",
       "</div>"
      ],
      "text/plain": [
       "      AverageTemperature  Year  Year_square\n",
       "Year                                       \n",
       "1902           17.438122  1902      3617604\n",
       "1903           17.375456  1903      3621409\n",
       "1904           17.558674  1904      3625216"
      ]
     },
     "execution_count": 77,
     "metadata": {},
     "output_type": "execute_result"
    }
   ],
   "source": [
    "dfb_group_year.head(3)"
   ]
  },
  {
   "cell_type": "code",
   "execution_count": 78,
   "metadata": {},
   "outputs": [
    {
     "data": {
      "text/plain": [
       "LinearRegression()"
      ]
     },
     "execution_count": 78,
     "metadata": {},
     "output_type": "execute_result"
    }
   ],
   "source": [
    "X = dfb_group_year[['Year', 'Year_square']]\n",
    "# independant variable \n",
    "\n",
    "y = dfb_group_year.iloc[:, 0].values \n",
    "# dependant variable vector\n",
    "\n",
    "\n",
    "X_train, X_test, y_train, y_test = train_test_split(X, y, test_size=1/4, random_state = 0)\n",
    "\n",
    "\n",
    "model = LinearRegression()\n",
    "model.fit(X_train, y_train)"
   ]
  },
  {
   "cell_type": "code",
   "execution_count": 79,
   "metadata": {},
   "outputs": [],
   "source": [
    "y_pred = model.predict(X_test)"
   ]
  },
  {
   "cell_type": "code",
   "execution_count": 95,
   "metadata": {},
   "outputs": [
    {
     "data": {
      "image/png": "[encoded data removed]",
      "text/plain": [
       "<Figure size 792x576 with 1 Axes>"
      ]
     },
     "metadata": {
      "needs_background": "light"
     },
     "output_type": "display_data"
    }
   ],
   "source": [
    "plt.figure(figsize=(11,8))\n",
    "\n",
    "plt.scatter(X_test['Year'], y_test, color='yellow')  # observation line\n",
    "plt.scatter(X_test['Year'], y_pred) # regression line\n",
    "\n",
    "plt.title(\"avg temperatures\")\n",
    "plt.show()"
   ]
  },
  {
   "cell_type": "code",
   "execution_count": null,
   "metadata": {},
   "outputs": [],
   "source": []
  }
 ],
 "metadata": {
  "kernelspec": {
   "display_name": "Python 3",
   "language": "python",
   "name": "python3"
  },
  "language_info": {
   "codemirror_mode": {
    "name": "ipython",
    "version": 3
   },
   "file_extension": ".py",
   "mimetype": "text/x-python",
   "name": "python",
   "nbconvert_exporter": "python",
   "pygments_lexer": "ipython3",
   "version": "3.7.7"
  }
 },
 "nbformat": 4,
 "nbformat_minor": 4
}
