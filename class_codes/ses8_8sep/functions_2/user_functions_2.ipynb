{
 "cells": [
  {
   "cell_type": "code",
   "execution_count": 1,
   "metadata": {},
   "outputs": [],
   "source": [
    "def funcx(la, lb, lc):\n",
    "    print(\"la =\", la)\n",
    "    print(\"lb =\", lb)\n",
    "    print(\"lc =\", lc)"
   ]
  },
  {
   "cell_type": "code",
   "execution_count": 2,
   "metadata": {},
   "outputs": [
    {
     "name": "stdout",
     "output_type": "stream",
     "text": [
      "la = 11\n",
      "lb = 22\n",
      "lc = 33\n"
     ]
    }
   ],
   "source": [
    "funcx(11, 22, 33)"
   ]
  },
  {
   "cell_type": "code",
   "execution_count": 3,
   "metadata": {},
   "outputs": [
    {
     "name": "stdout",
     "output_type": "stream",
     "text": [
      "<class 'function'>\n"
     ]
    }
   ],
   "source": [
    "print(type(funcx))"
   ]
  },
  {
   "cell_type": "code",
   "execution_count": 4,
   "metadata": {},
   "outputs": [],
   "source": [
    "funcx = 10"
   ]
  },
  {
   "cell_type": "code",
   "execution_count": 5,
   "metadata": {},
   "outputs": [
    {
     "name": "stdout",
     "output_type": "stream",
     "text": [
      "<class 'int'>\n"
     ]
    }
   ],
   "source": [
    "print(type(funcx))"
   ]
  },
  {
   "cell_type": "code",
   "execution_count": 6,
   "metadata": {},
   "outputs": [
    {
     "ename": "TypeError",
     "evalue": "'int' object is not callable",
     "output_type": "error",
     "traceback": [
      "\u001b[0;31m---------------------------------------------------------------------------\u001b[0m",
      "\u001b[0;31mTypeError\u001b[0m                                 Traceback (most recent call last)",
      "\u001b[0;32m<ipython-input-6-edc12630bb5e>\u001b[0m in \u001b[0;36m<module>\u001b[0;34m\u001b[0m\n\u001b[0;32m----> 1\u001b[0;31m \u001b[0mfuncx\u001b[0m\u001b[0;34m(\u001b[0m\u001b[0;36m11\u001b[0m \u001b[0;34m,\u001b[0m \u001b[0;36m22\u001b[0m\u001b[0;34m,\u001b[0m \u001b[0;36m33\u001b[0m\u001b[0;34m)\u001b[0m\u001b[0;34m\u001b[0m\u001b[0;34m\u001b[0m\u001b[0m\n\u001b[0m",
      "\u001b[0;31mTypeError\u001b[0m: 'int' object is not callable"
     ]
    }
   ],
   "source": [
    "# error\n",
    "funcx(11 , 22, 33) "
   ]
  },
  {
   "cell_type": "code",
   "execution_count": 7,
   "metadata": {},
   "outputs": [
    {
     "data": {
      "text/plain": [
       "'2769'"
      ]
     },
     "execution_count": 7,
     "metadata": {},
     "output_type": "execute_result"
    }
   ],
   "source": [
    "str(2769)"
   ]
  },
  {
   "cell_type": "code",
   "execution_count": 8,
   "metadata": {},
   "outputs": [],
   "source": [
    "str = \"45hdsbd\""
   ]
  },
  {
   "cell_type": "code",
   "execution_count": 9,
   "metadata": {},
   "outputs": [
    {
     "ename": "TypeError",
     "evalue": "'str' object is not callable",
     "output_type": "error",
     "traceback": [
      "\u001b[0;31m---------------------------------------------------------------------------\u001b[0m",
      "\u001b[0;31mTypeError\u001b[0m                                 Traceback (most recent call last)",
      "\u001b[0;32m<ipython-input-9-a46e7a688988>\u001b[0m in \u001b[0;36m<module>\u001b[0;34m\u001b[0m\n\u001b[0;32m----> 1\u001b[0;31m \u001b[0mstr\u001b[0m\u001b[0;34m(\u001b[0m\u001b[0;36m2784\u001b[0m\u001b[0;34m)\u001b[0m\u001b[0;34m\u001b[0m\u001b[0;34m\u001b[0m\u001b[0m\n\u001b[0m",
      "\u001b[0;31mTypeError\u001b[0m: 'str' object is not callable"
     ]
    }
   ],
   "source": [
    "str(2784)"
   ]
  },
  {
   "cell_type": "code",
   "execution_count": 10,
   "metadata": {},
   "outputs": [],
   "source": [
    "def funcx(la, lb, lc):\n",
    "    print(\"la =\", la)\n",
    "    print(\"lb =\", lb)\n",
    "    print(\"lc =\", lc)"
   ]
  },
  {
   "cell_type": "code",
   "execution_count": 13,
   "metadata": {},
   "outputs": [],
   "source": [
    "# void \n",
    "x = None"
   ]
  },
  {
   "cell_type": "code",
   "execution_count": 14,
   "metadata": {},
   "outputs": [],
   "source": [
    "# None != 0  != False"
   ]
  },
  {
   "cell_type": "code",
   "execution_count": 15,
   "metadata": {},
   "outputs": [
    {
     "name": "stdout",
     "output_type": "stream",
     "text": [
      "<class 'NoneType'>\n"
     ]
    }
   ],
   "source": [
    "print(type(x))"
   ]
  },
  {
   "cell_type": "code",
   "execution_count": 17,
   "metadata": {},
   "outputs": [
    {
     "name": "stdout",
     "output_type": "stream",
     "text": [
      "la = 1\n",
      "lb = 2\n",
      "lc = 3\n"
     ]
    }
   ],
   "source": [
    "x = funcx(1, 2, 3)"
   ]
  },
  {
   "cell_type": "code",
   "execution_count": 18,
   "metadata": {},
   "outputs": [
    {
     "name": "stdout",
     "output_type": "stream",
     "text": [
      "None\n"
     ]
    }
   ],
   "source": [
    "print(x)"
   ]
  },
  {
   "cell_type": "code",
   "execution_count": 19,
   "metadata": {},
   "outputs": [],
   "source": [
    "stra = \"lawyer\"\n",
    "lista = [\"lawyer\", \"judge\"]"
   ]
  },
  {
   "cell_type": "code",
   "execution_count": 20,
   "metadata": {},
   "outputs": [
    {
     "name": "stdout",
     "output_type": "stream",
     "text": [
      "LAWYER\n"
     ]
    }
   ],
   "source": [
    "print(stra.upper())"
   ]
  },
  {
   "cell_type": "code",
   "execution_count": 21,
   "metadata": {},
   "outputs": [
    {
     "name": "stdout",
     "output_type": "stream",
     "text": [
      "['judge', 'lawyer']\n"
     ]
    }
   ],
   "source": [
    "lista.sort()\n",
    "print(lista) "
   ]
  },
  {
   "cell_type": "code",
   "execution_count": 22,
   "metadata": {},
   "outputs": [
    {
     "name": "stdout",
     "output_type": "stream",
     "text": [
      "None\n"
     ]
    }
   ],
   "source": [
    "print(lista.sort())"
   ]
  },
  {
   "cell_type": "code",
   "execution_count": 25,
   "metadata": {},
   "outputs": [],
   "source": [
    "def make_pizza(oil, cheese, crust, toppings, size):\n",
    "    salt = \"1 teaspoon of salt\"\n",
    "    flour = \"2 cups of floor\"\n",
    "    yeast = \"1 tablespoon fast rise yeast\"\n",
    "    water = \"1 cup water\"\n",
    "    print(\"mix\", flour, \"with\", salt, \"and\", yeast)\n",
    "    print(\"mix\", oil, \"and\", water)\n",
    "    print(\"knead\")\n",
    "    print(\".......\\n\"*3)\n",
    "    print(\"pat it into a circle of\", size, \"inches\")\n",
    "    print(\"add the following :\")\n",
    "    for top in toppings:\n",
    "        print(\"\\t\", top)"
   ]
  },
  {
   "cell_type": "code",
   "execution_count": 26,
   "metadata": {},
   "outputs": [
    {
     "name": "stdout",
     "output_type": "stream",
     "text": [
      "mix 2 cups of floor with 1 teaspoon of salt and 1 tablespoon fast rise yeast\n",
      "mix olive and 1 cup water\n",
      "knead\n",
      ".......\n",
      ".......\n",
      ".......\n",
      "\n",
      "pat it into a circle of 9 inches\n",
      "add the following :\n",
      "\t tomatoes\n",
      "\t pepper\n"
     ]
    }
   ],
   "source": [
    "make_pizza(\"olive\", \"mozzarella\", \"thin\", [\"tomatoes\", \"pepper\"], 9)"
   ]
  },
  {
   "cell_type": "code",
   "execution_count": 27,
   "metadata": {},
   "outputs": [],
   "source": [
    "def make_pizza(oil=\"olive oil\", cheese=\"mozzarella\", crust=\"thin\", toppings=[\"tomatoes\", \"pepper\"], size=9):\n",
    "    salt = \"1 teaspoon of salt\"\n",
    "    flour = \"2 cups of floor\"\n",
    "    yeast = \"1 tablespoon fast rise yeast\"\n",
    "    water = \"1 cup water\"\n",
    "    print(\"mix\", flour, \"with\", salt, \"and\", yeast)\n",
    "    print(\"mix\", oil, \"and\", water)\n",
    "    print(\"knead\")\n",
    "    print(\".......\\n\"*3)\n",
    "    print(\"pat it into a circle of\", size, \"inches\")\n",
    "    print(\"add the following :\")\n",
    "    for top in toppings:\n",
    "        print(\"\\t\", top)"
   ]
  },
  {
   "cell_type": "code",
   "execution_count": 28,
   "metadata": {},
   "outputs": [
    {
     "name": "stdout",
     "output_type": "stream",
     "text": [
      "mix 2 cups of floor with 1 teaspoon of salt and 1 tablespoon fast rise yeast\n",
      "mix olive oil and 1 cup water\n",
      "knead\n",
      ".......\n",
      ".......\n",
      ".......\n",
      "\n",
      "pat it into a circle of 9 inches\n",
      "add the following :\n",
      "\t tomatoes\n",
      "\t pepper\n",
      "\t mushrooms\n",
      "\t onions\n"
     ]
    }
   ],
   "source": [
    "make_pizza(toppings=[\"tomatoes\", \"pepper\", \"mushrooms\", \"onions\"]) "
   ]
  },
  {
   "cell_type": "code",
   "execution_count": 29,
   "metadata": {},
   "outputs": [
    {
     "name": "stdout",
     "output_type": "stream",
     "text": [
      "Help on built-in function sort:\n",
      "\n",
      "sort(*, key=None, reverse=False) method of builtins.list instance\n",
      "    Stable sort *IN PLACE*.\n",
      "\n"
     ]
    }
   ],
   "source": [
    "help(lista.sort)"
   ]
  },
  {
   "cell_type": "code",
   "execution_count": 30,
   "metadata": {},
   "outputs": [],
   "source": [
    "lista.sort()"
   ]
  },
  {
   "cell_type": "code",
   "execution_count": 31,
   "metadata": {},
   "outputs": [],
   "source": [
    "def funcy(la, lb=33, lc=44):\n",
    "    print(\"la =\", la)\n",
    "    print(\"lb =\", lb)\n",
    "    print(\"lc =\", lc)"
   ]
  },
  {
   "cell_type": "code",
   "execution_count": 32,
   "metadata": {},
   "outputs": [
    {
     "name": "stdout",
     "output_type": "stream",
     "text": [
      "la = 100\n",
      "lb = 88\n",
      "lc = 44\n"
     ]
    }
   ],
   "source": [
    "funcy(100, 88)"
   ]
  },
  {
   "cell_type": "code",
   "execution_count": 33,
   "metadata": {},
   "outputs": [
    {
     "name": "stdout",
     "output_type": "stream",
     "text": [
      "la = 11\n",
      "lb = 33\n",
      "lc = 44\n"
     ]
    }
   ],
   "source": [
    "funcy(11)"
   ]
  },
  {
   "cell_type": "code",
   "execution_count": 34,
   "metadata": {},
   "outputs": [],
   "source": [
    "def make_pizza(size, oil=\"olive oil\", cheese=\"mozzarella\", crust=\"thin\", toppings=[\"tomatoes\", \"pepper\"]):\n",
    "    salt = \"1 teaspoon of salt\"\n",
    "    flour = \"2 cups of floor\"\n",
    "    yeast = \"1 tablespoon fast rise yeast\"\n",
    "    water = \"1 cup water\"\n",
    "    print(\"mix\", flour, \"with\", salt, \"and\", yeast)\n",
    "    print(\"mix\", oil, \"and\", water)\n",
    "    print(\"knead\")\n",
    "    print(\".......\\n\"*3)\n",
    "    print(\"pat it into a circle of\", size, \"inches\")\n",
    "    print(\"add the following :\")\n",
    "    for top in toppings:\n",
    "        print(\"\\t\", top)"
   ]
  },
  {
   "cell_type": "code",
   "execution_count": 35,
   "metadata": {},
   "outputs": [
    {
     "name": "stdout",
     "output_type": "stream",
     "text": [
      "mix 2 cups of floor with 1 teaspoon of salt and 1 tablespoon fast rise yeast\n",
      "mix olive oil and 1 cup water\n",
      "knead\n",
      ".......\n",
      ".......\n",
      ".......\n",
      "\n",
      "pat it into a circle of 9 inches\n",
      "add the following :\n",
      "\t tomatoes\n",
      "\t pepper\n",
      "\t mushrooms\n",
      "\t onions\n"
     ]
    }
   ],
   "source": [
    "make_pizza(9, toppings=[\"tomatoes\", \"pepper\", \"mushrooms\", \"onions\"]) "
   ]
  },
  {
   "cell_type": "code",
   "execution_count": 36,
   "metadata": {},
   "outputs": [],
   "source": [
    "def funcy(la, lb=33, lc=44):\n",
    "    print(\"la =\", la)\n",
    "    print(\"lb =\", lb)\n",
    "    print(\"lc =\", lc)"
   ]
  },
  {
   "cell_type": "code",
   "execution_count": 38,
   "metadata": {},
   "outputs": [
    {
     "name": "stdout",
     "output_type": "stream",
     "text": [
      "la = 100\n",
      "lb = 33\n",
      "lc = 300\n"
     ]
    }
   ],
   "source": [
    "funcy(100, lc = 300)"
   ]
  },
  {
   "cell_type": "code",
   "execution_count": 39,
   "metadata": {},
   "outputs": [
    {
     "ename": "SyntaxError",
     "evalue": "non-default argument follows default argument (<ipython-input-39-6b06aece4a3e>, line 1)",
     "output_type": "error",
     "traceback": [
      "\u001b[0;36m  File \u001b[0;32m\"<ipython-input-39-6b06aece4a3e>\"\u001b[0;36m, line \u001b[0;32m1\u001b[0m\n\u001b[0;31m    def funcy(la=22, lb, lc=44):\u001b[0m\n\u001b[0m             ^\u001b[0m\n\u001b[0;31mSyntaxError\u001b[0m\u001b[0;31m:\u001b[0m non-default argument follows default argument\n"
     ]
    }
   ],
   "source": [
    "# error\n",
    "def funcy(la=22, lb, lc=44):\n",
    "    print(\"la =\", la)\n",
    "    print(\"lb =\", lb)\n",
    "    print(\"lc =\", lc) "
   ]
  },
  {
   "cell_type": "code",
   "execution_count": 40,
   "metadata": {},
   "outputs": [
    {
     "name": "stdout",
     "output_type": "stream",
     "text": [
      "hello\n",
      "how are you\n",
      "all good?\n"
     ]
    }
   ],
   "source": [
    "print(\"hello\")\n",
    "print(\"how are you\")\n",
    "print(\"all good?\")"
   ]
  },
  {
   "cell_type": "code",
   "execution_count": 41,
   "metadata": {},
   "outputs": [
    {
     "name": "stdout",
     "output_type": "stream",
     "text": [
      "100 200\n"
     ]
    }
   ],
   "source": [
    "x=100\n",
    "y=200\n",
    "\n",
    "print(x,y)"
   ]
  },
  {
   "cell_type": "code",
   "execution_count": 42,
   "metadata": {},
   "outputs": [
    {
     "name": "stdout",
     "output_type": "stream",
     "text": [
      "hello, how are you, all good?\n"
     ]
    }
   ],
   "source": [
    "print(\"hello\", end=', ')\n",
    "print(\"how are you\", end=', ')\n",
    "print(\"all good?\")"
   ]
  },
  {
   "cell_type": "code",
   "execution_count": 43,
   "metadata": {},
   "outputs": [
    {
     "name": "stdout",
     "output_type": "stream",
     "text": [
      "100_______200\n"
     ]
    }
   ],
   "source": [
    "x=100\n",
    "y=200\n",
    "\n",
    "print(x,y, sep='_______')"
   ]
  },
  {
   "cell_type": "code",
   "execution_count": 47,
   "metadata": {},
   "outputs": [],
   "source": [
    "def funcy(la, lb, *lc):\n",
    "    print(\"la =\", la)\n",
    "    print(\"lb =\", lb)\n",
    "    print(\"lc =\", lc) "
   ]
  },
  {
   "cell_type": "code",
   "execution_count": 48,
   "metadata": {},
   "outputs": [
    {
     "name": "stdout",
     "output_type": "stream",
     "text": [
      "la = 100\n",
      "lb = 200\n",
      "lc = (300, 400, 500, 600)\n"
     ]
    }
   ],
   "source": [
    "funcy(100, 200, 300, 400, 500, 600)"
   ]
  },
  {
   "cell_type": "code",
   "execution_count": 49,
   "metadata": {},
   "outputs": [
    {
     "name": "stdout",
     "output_type": "stream",
     "text": [
      "la = 100\n",
      "lb = 200\n",
      "lc = ()\n"
     ]
    }
   ],
   "source": [
    "funcy(100, 200)"
   ]
  },
  {
   "cell_type": "code",
   "execution_count": 50,
   "metadata": {},
   "outputs": [],
   "source": [
    "def funcy(la, lb, *args):\n",
    "    print(\"la =\", la)\n",
    "    print(\"lb =\", lb)\n",
    "    print(\"args =\", args) "
   ]
  },
  {
   "cell_type": "code",
   "execution_count": 51,
   "metadata": {},
   "outputs": [
    {
     "name": "stdout",
     "output_type": "stream",
     "text": [
      "la = hi\n",
      "lb = 100\n",
      "args = (200, 'hello', [11, 22, 33], 'uu')\n"
     ]
    }
   ],
   "source": [
    "funcy(\"hi\", 100, 200, \"hello\", [11, 22, 33], \"uu\")"
   ]
  },
  {
   "cell_type": "code",
   "execution_count": 52,
   "metadata": {},
   "outputs": [],
   "source": [
    "def funcy(la, lb, *args, **kwargs):\n",
    "    print(\"la =\", la)\n",
    "    print(\"lb =\", lb)\n",
    "    print(\"args =\", args) \n",
    "    print(\"kwargs =\", kwargs)"
   ]
  },
  {
   "cell_type": "code",
   "execution_count": 53,
   "metadata": {},
   "outputs": [
    {
     "name": "stdout",
     "output_type": "stream",
     "text": [
      "la = 11\n",
      "lb = 22\n",
      "args = (33, 44, 55)\n",
      "kwargs = {'IL': 'springfield', 'CO': 'denver', 'TX': 'austin'}\n"
     ]
    }
   ],
   "source": [
    "funcy(11, 22, 33, 44, 55, IL=\"springfield\", CO=\"denver\", TX=\"austin\")"
   ]
  },
  {
   "cell_type": "code",
   "execution_count": null,
   "metadata": {},
   "outputs": [],
   "source": [
    "def make_pizza():\n",
    "    make_dough()\n",
    "    cook_bake(5)\n",
    "    add_toppings()\n",
    "    cook_bake(10)"
   ]
  }
 ],
 "metadata": {
  "kernelspec": {
   "display_name": "Python 3",
   "language": "python",
   "name": "python3"
  },
  "language_info": {
   "codemirror_mode": {
    "name": "ipython",
    "version": 3
   },
   "file_extension": ".py",
   "mimetype": "text/x-python",
   "name": "python",
   "nbconvert_exporter": "python",
   "pygments_lexer": "ipython3",
   "version": "3.7.7"
  }
 },
 "nbformat": 4,
 "nbformat_minor": 4
}
