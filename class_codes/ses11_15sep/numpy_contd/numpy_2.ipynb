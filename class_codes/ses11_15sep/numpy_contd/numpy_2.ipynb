{
 "cells": [
  {
   "cell_type": "code",
   "execution_count": 1,
   "metadata": {},
   "outputs": [],
   "source": [
    "import numpy as np"
   ]
  },
  {
   "cell_type": "code",
   "execution_count": 2,
   "metadata": {},
   "outputs": [],
   "source": [
    "nf =np.array([[['natalie', 'female'],['jerusalem' ,'israel']], \n",
    "          [['bruce', 'male' ], ['dortmund' ,'germany']], \n",
    "         [['emma', 'female'], ['paris', 'france']]])"
   ]
  },
  {
   "cell_type": "code",
   "execution_count": 3,
   "metadata": {},
   "outputs": [
    {
     "name": "stdout",
     "output_type": "stream",
     "text": [
      "[[['natalie' 'female']\n",
      "  ['jerusalem' 'israel']]\n",
      "\n",
      " [['bruce' 'male']\n",
      "  ['dortmund' 'germany']]\n",
      "\n",
      " [['emma' 'female']\n",
      "  ['paris' 'france']]]\n"
     ]
    }
   ],
   "source": [
    "print(nf)"
   ]
  },
  {
   "cell_type": "code",
   "execution_count": 4,
   "metadata": {},
   "outputs": [
    {
     "data": {
      "text/plain": [
       "3"
      ]
     },
     "execution_count": 4,
     "metadata": {},
     "output_type": "execute_result"
    }
   ],
   "source": [
    "nf.ndim"
   ]
  },
  {
   "cell_type": "code",
   "execution_count": 5,
   "metadata": {},
   "outputs": [
    {
     "name": "stdout",
     "output_type": "stream",
     "text": [
      "[['natalie' 'female']\n",
      " ['jerusalem' 'israel']]\n"
     ]
    }
   ],
   "source": [
    "print(nf[0])"
   ]
  },
  {
   "cell_type": "code",
   "execution_count": 6,
   "metadata": {},
   "outputs": [
    {
     "name": "stdout",
     "output_type": "stream",
     "text": [
      "['jerusalem' 'israel']\n"
     ]
    }
   ],
   "source": [
    "print(nf[0][1])"
   ]
  },
  {
   "cell_type": "code",
   "execution_count": 7,
   "metadata": {},
   "outputs": [
    {
     "name": "stdout",
     "output_type": "stream",
     "text": [
      "natalie\n",
      "bruce\n",
      "emma\n"
     ]
    }
   ],
   "source": [
    "print(nf[0][0][0])\n",
    "print(nf[1][0][0])\n",
    "print(nf[2][0][0])"
   ]
  },
  {
   "cell_type": "code",
   "execution_count": 8,
   "metadata": {},
   "outputs": [
    {
     "name": "stdout",
     "output_type": "stream",
     "text": [
      "[[['natalie' 'female']\n",
      "  ['jerusalem' 'israel']]\n",
      "\n",
      " [['bruce' 'male']\n",
      "  ['dortmund' 'germany']]\n",
      "\n",
      " [['emma' 'female']\n",
      "  ['paris' 'france']]]\n"
     ]
    }
   ],
   "source": [
    "print(nf[:])"
   ]
  },
  {
   "cell_type": "code",
   "execution_count": 9,
   "metadata": {},
   "outputs": [
    {
     "name": "stdout",
     "output_type": "stream",
     "text": [
      "[['natalie' 'female']\n",
      " ['jerusalem' 'israel']]\n"
     ]
    }
   ],
   "source": [
    "print(nf[:][0])"
   ]
  },
  {
   "cell_type": "code",
   "execution_count": 13,
   "metadata": {},
   "outputs": [],
   "source": [
    "listx = [11, 22, 44, 66, 77, 99]"
   ]
  },
  {
   "cell_type": "code",
   "execution_count": 18,
   "metadata": {},
   "outputs": [
    {
     "data": {
      "text/plain": [
       "22"
      ]
     },
     "execution_count": 18,
     "metadata": {},
     "output_type": "execute_result"
    }
   ],
   "source": [
    "listx[1]  # int"
   ]
  },
  {
   "cell_type": "code",
   "execution_count": 14,
   "metadata": {},
   "outputs": [
    {
     "data": {
      "text/plain": [
       "[11, 22, 44, 66, 77, 99]"
      ]
     },
     "execution_count": 14,
     "metadata": {},
     "output_type": "execute_result"
    }
   ],
   "source": [
    "listx  #list"
   ]
  },
  {
   "cell_type": "code",
   "execution_count": 15,
   "metadata": {},
   "outputs": [
    {
     "data": {
      "text/plain": [
       "[22, 44, 66, 77]"
      ]
     },
     "execution_count": 15,
     "metadata": {},
     "output_type": "execute_result"
    }
   ],
   "source": [
    "listx[1:5]  #list"
   ]
  },
  {
   "cell_type": "code",
   "execution_count": 17,
   "metadata": {},
   "outputs": [
    {
     "data": {
      "text/plain": [
       "22"
      ]
     },
     "execution_count": 17,
     "metadata": {},
     "output_type": "execute_result"
    }
   ],
   "source": [
    "listx[1:5][0]"
   ]
  },
  {
   "cell_type": "code",
   "execution_count": 19,
   "metadata": {},
   "outputs": [
    {
     "data": {
      "text/plain": [
       "22"
      ]
     },
     "execution_count": 19,
     "metadata": {},
     "output_type": "execute_result"
    }
   ],
   "source": [
    "[22, 44, 66, 77][0]"
   ]
  },
  {
   "cell_type": "code",
   "execution_count": 20,
   "metadata": {},
   "outputs": [
    {
     "name": "stdout",
     "output_type": "stream",
     "text": [
      "[[['natalie' 'female']\n",
      "  ['jerusalem' 'israel']]\n",
      "\n",
      " [['bruce' 'male']\n",
      "  ['dortmund' 'germany']]\n",
      "\n",
      " [['emma' 'female']\n",
      "  ['paris' 'france']]]\n"
     ]
    }
   ],
   "source": [
    "print(nf)"
   ]
  },
  {
   "cell_type": "code",
   "execution_count": 21,
   "metadata": {},
   "outputs": [
    {
     "name": "stdout",
     "output_type": "stream",
     "text": [
      "israel\n"
     ]
    }
   ],
   "source": [
    "print(nf[0, 1, 1])   "
   ]
  },
  {
   "cell_type": "code",
   "execution_count": 22,
   "metadata": {},
   "outputs": [
    {
     "name": "stdout",
     "output_type": "stream",
     "text": [
      "israel\n"
     ]
    }
   ],
   "source": [
    "print(nf[0][1][1])"
   ]
  },
  {
   "cell_type": "code",
   "execution_count": 23,
   "metadata": {},
   "outputs": [
    {
     "name": "stdout",
     "output_type": "stream",
     "text": [
      "['natalie' 'bruce' 'emma']\n"
     ]
    }
   ],
   "source": [
    "print(nf[:, 0, 0])"
   ]
  },
  {
   "cell_type": "code",
   "execution_count": 28,
   "metadata": {},
   "outputs": [
    {
     "name": "stdout",
     "output_type": "stream",
     "text": [
      "['bruce' 'dortmund']\n"
     ]
    }
   ],
   "source": [
    "print(nf[1, :, 0])"
   ]
  },
  {
   "cell_type": "code",
   "execution_count": 29,
   "metadata": {},
   "outputs": [
    {
     "name": "stdout",
     "output_type": "stream",
     "text": [
      "['israel' 'germany' 'france']\n"
     ]
    }
   ],
   "source": [
    "print(nf[0:17, 1, 1])"
   ]
  },
  {
   "cell_type": "code",
   "execution_count": 30,
   "metadata": {},
   "outputs": [
    {
     "data": {
      "text/plain": [
       "(3, 2, 2)"
      ]
     },
     "execution_count": 30,
     "metadata": {},
     "output_type": "execute_result"
    }
   ],
   "source": [
    "nf.shape"
   ]
  },
  {
   "cell_type": "code",
   "execution_count": 34,
   "metadata": {},
   "outputs": [],
   "source": [
    "ng = np.array([[['strummer', 'male'], ['ankara', 'turkey']]])"
   ]
  },
  {
   "cell_type": "code",
   "execution_count": 35,
   "metadata": {},
   "outputs": [
    {
     "name": "stdout",
     "output_type": "stream",
     "text": [
      "[[['strummer' 'male']\n",
      "  ['ankara' 'turkey']]]\n"
     ]
    }
   ],
   "source": [
    "print(ng)"
   ]
  },
  {
   "cell_type": "code",
   "execution_count": 36,
   "metadata": {},
   "outputs": [
    {
     "data": {
      "text/plain": [
       "(1, 2, 2)"
      ]
     },
     "execution_count": 36,
     "metadata": {},
     "output_type": "execute_result"
    }
   ],
   "source": [
    "ng.shape"
   ]
  },
  {
   "cell_type": "code",
   "execution_count": 37,
   "metadata": {},
   "outputs": [
    {
     "name": "stdout",
     "output_type": "stream",
     "text": [
      "[[['natalie' 'female']\n",
      "  ['jerusalem' 'israel']]\n",
      "\n",
      " [['bruce' 'male']\n",
      "  ['dortmund' 'germany']]\n",
      "\n",
      " [['emma' 'female']\n",
      "  ['paris' 'france']]]\n"
     ]
    }
   ],
   "source": [
    "print(nf)"
   ]
  },
  {
   "cell_type": "code",
   "execution_count": 38,
   "metadata": {},
   "outputs": [
    {
     "name": "stdout",
     "output_type": "stream",
     "text": [
      "[[['strummer' 'male']\n",
      "  ['ankara' 'turkey']]]\n"
     ]
    }
   ],
   "source": [
    "print(ng)"
   ]
  },
  {
   "cell_type": "code",
   "execution_count": 39,
   "metadata": {},
   "outputs": [],
   "source": [
    "nh = np.concatenate((nf, ng), axis=0)"
   ]
  },
  {
   "cell_type": "code",
   "execution_count": 40,
   "metadata": {},
   "outputs": [
    {
     "name": "stdout",
     "output_type": "stream",
     "text": [
      "[[['natalie' 'female']\n",
      "  ['jerusalem' 'israel']]\n",
      "\n",
      " [['bruce' 'male']\n",
      "  ['dortmund' 'germany']]\n",
      "\n",
      " [['emma' 'female']\n",
      "  ['paris' 'france']]\n",
      "\n",
      " [['strummer' 'male']\n",
      "  ['ankara' 'turkey']]]\n"
     ]
    }
   ],
   "source": [
    "print(nh)"
   ]
  },
  {
   "cell_type": "code",
   "execution_count": null,
   "metadata": {},
   "outputs": [],
   "source": []
  }
 ],
 "metadata": {
  "kernelspec": {
   "display_name": "Python 3",
   "language": "python",
   "name": "python3"
  },
  "language_info": {
   "codemirror_mode": {
    "name": "ipython",
    "version": 3
   },
   "file_extension": ".py",
   "mimetype": "text/x-python",
   "name": "python",
   "nbconvert_exporter": "python",
   "pygments_lexer": "ipython3",
   "version": "3.7.7"
  }
 },
 "nbformat": 4,
 "nbformat_minor": 4
}
