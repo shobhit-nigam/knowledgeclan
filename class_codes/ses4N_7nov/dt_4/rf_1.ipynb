{
 "cells": [
  {
   "cell_type": "code",
   "execution_count": 1,
   "metadata": {},
   "outputs": [],
   "source": [
    "path = \"https://raw.githubusercontent.com/shobhit-nigam/knowledgeclan/main/datasets/income.csv\""
   ]
  },
  {
   "cell_type": "code",
   "execution_count": 2,
   "metadata": {},
   "outputs": [],
   "source": [
    "import numpy as np\n",
    "import pandas as pd\n",
    "import matplotlib.pyplot as plt\n",
    "import math\n",
    "\n",
    "from sklearn.tree import DecisionTreeClassifier\n",
    "from sklearn.metrics import roc_auc_score"
   ]
  },
  {
   "cell_type": "code",
   "execution_count": 3,
   "metadata": {},
   "outputs": [],
   "source": [
    "dfa = pd.read_csv(path)"
   ]
  },
  {
   "cell_type": "code",
   "execution_count": 4,
   "metadata": {},
   "outputs": [],
   "source": [
    "str_cols = ['workclass', 'education','marital_status', 'occupation','relationship','race',\n",
    " 'sex','native_country','high_income']"
   ]
  },
  {
   "cell_type": "code",
   "execution_count": 5,
   "metadata": {},
   "outputs": [],
   "source": [
    "for name in str_cols:\n",
    "    col = pd.Categorical(dfa[name])\n",
    "    dfa[name] = col.codes"
   ]
  },
  {
   "cell_type": "code",
   "execution_count": 6,
   "metadata": {},
   "outputs": [],
   "source": [
    "dfa = dfa.sample(frac=1, random_state=1)    #num= len(dfa)"
   ]
  },
  {
   "cell_type": "code",
   "execution_count": 7,
   "metadata": {},
   "outputs": [],
   "source": [
    "list_cols = ['age', 'workclass', 'education_num', 'marital_status', 'occupation', 'relationship', 'race', 'sex', 'hours_per_week', 'native_country']"
   ]
  },
  {
   "cell_type": "code",
   "execution_count": 8,
   "metadata": {},
   "outputs": [],
   "source": [
    "train_max_row = round(dfa.shape[0] * 0.8)\n",
    "train = dfa.iloc[:train_max_row]\n",
    "test = dfa.iloc[train_max_row:]"
   ]
  },
  {
   "cell_type": "code",
   "execution_count": 9,
   "metadata": {},
   "outputs": [
    {
     "name": "stdout",
     "output_type": "stream",
     "text": [
      "0.7325780430117632\n"
     ]
    }
   ],
   "source": [
    "tree_count = 10\n",
    "bag_ratio = 6/10  # (60%)\n",
    "predictions = []\n",
    "\n",
    "for i in range(tree_count):\n",
    "    bag = train.sample(frac=bag_ratio, replace=True, random_state=i)\n",
    "    \n",
    "    model = DecisionTreeClassifier(min_samples_leaf=2, random_state=1)\n",
    "    model.fit(bag[list_cols], bag[\"high_income\"])\n",
    "    \n",
    "    predictions.append(model.predict_proba(test[list_cols])[:, 1])\n",
    "    combination = np.round((np.sum(predictions, axis=0))/(len(predictions)))\n",
    "    \n",
    "print(roc_auc_score(test[\"high_income\"], combination)) "
   ]
  },
  {
   "cell_type": "code",
   "execution_count": 10,
   "metadata": {},
   "outputs": [
    {
     "name": "stdout",
     "output_type": "stream",
     "text": [
      "0.7306169822846672\n"
     ]
    }
   ],
   "source": [
    "#Gini \n",
    "\n",
    "predictions = []\n",
    "\n",
    "for i in range(tree_count):\n",
    "    bag = train.sample(frac=bag_ratio, replace=True, random_state=i)\n",
    "    \n",
    "    model = DecisionTreeClassifier(min_samples_leaf=2, random_state=1, splitter=\"random\", max_features=\"auto\")\n",
    "    model.fit(bag[list_cols], bag[\"high_income\"])\n",
    "    \n",
    "    predictions.append(model.predict_proba(test[list_cols])[:, 1])\n",
    "    combination = np.round((np.sum(predictions, axis=0))/(len(predictions)))\n",
    "    \n",
    "print(roc_auc_score(test[\"high_income\"], combination)) "
   ]
  },
  {
   "cell_type": "code",
   "execution_count": 15,
   "metadata": {},
   "outputs": [
    {
     "name": "stdout",
     "output_type": "stream",
     "text": [
      "0.7383261438215623\n"
     ]
    }
   ],
   "source": [
    "from sklearn.ensemble import RandomForestClassifier\n",
    "\n",
    "model = RandomForestClassifier(n_estimators=150, random_state=1, min_samples_leaf=2)\n",
    "model.fit(train[list_cols], train[\"high_income\"])\n",
    "\n",
    "predictions = model.predict(test[list_cols])\n",
    "print(roc_auc_score(test[\"high_income\"], predictions)) "
   ]
  },
  {
   "cell_type": "code",
   "execution_count": 22,
   "metadata": {},
   "outputs": [
    {
     "name": "stdout",
     "output_type": "stream",
     "text": [
      "auc for train with DT 0.8195052883249438\n"
     ]
    }
   ],
   "source": [
    "model = DecisionTreeClassifier(random_state=1, min_samples_leaf=5)\n",
    "model.fit(train[list_cols], train[\"high_income\"])\n",
    "\n",
    "predictions = model.predict(train[list_cols])\n",
    "print(f\"auc for train with DT {roc_auc_score(train['high_income'], predictions)}\") "
   ]
  },
  {
   "cell_type": "code",
   "execution_count": 23,
   "metadata": {},
   "outputs": [
    {
     "name": "stdout",
     "output_type": "stream",
     "text": [
      "auc for test with DT 0.7145347179800449\n"
     ]
    }
   ],
   "source": [
    "predictions = model.predict(test[list_cols])\n",
    "print(f\"auc for test with DT {roc_auc_score(test['high_income'], predictions)}\") "
   ]
  },
  {
   "cell_type": "code",
   "execution_count": 24,
   "metadata": {},
   "outputs": [
    {
     "name": "stdout",
     "output_type": "stream",
     "text": [
      "auc for train with rf 0.7911471422869599\n"
     ]
    }
   ],
   "source": [
    "model = RandomForestClassifier(n_estimators=150, random_state=1, min_samples_leaf=5)\n",
    "model.fit(train[list_cols], train[\"high_income\"])\n",
    "predictions = model.predict(train[list_cols])\n",
    "print(f\"auc for train with rf {roc_auc_score(train['high_income'], predictions)}\") \n",
    " "
   ]
  },
  {
   "cell_type": "code",
   "execution_count": 25,
   "metadata": {},
   "outputs": [
    {
     "name": "stdout",
     "output_type": "stream",
     "text": [
      "auc for test with rf 0.7491663612298921\n"
     ]
    }
   ],
   "source": [
    "\n",
    "predictions = model.predict(test[list_cols])\n",
    "print(f\"auc for test with rf {roc_auc_score(test['high_income'], predictions)}\")"
   ]
  },
  {
   "cell_type": "code",
   "execution_count": null,
   "metadata": {},
   "outputs": [],
   "source": []
  }
 ],
 "metadata": {
  "kernelspec": {
   "display_name": "Python 3",
   "language": "python",
   "name": "python3"
  },
  "language_info": {
   "codemirror_mode": {
    "name": "ipython",
    "version": 3
   },
   "file_extension": ".py",
   "mimetype": "text/x-python",
   "name": "python",
   "nbconvert_exporter": "python",
   "pygments_lexer": "ipython3",
   "version": "3.7.7"
  }
 },
 "nbformat": 4,
 "nbformat_minor": 4
}
