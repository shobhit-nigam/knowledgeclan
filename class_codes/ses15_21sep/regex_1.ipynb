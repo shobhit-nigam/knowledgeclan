{
 "cells": [
  {
   "cell_type": "code",
   "execution_count": 1,
   "metadata": {},
   "outputs": [],
   "source": [
    "import re"
   ]
  },
  {
   "cell_type": "code",
   "execution_count": 2,
   "metadata": {},
   "outputs": [
    {
     "name": "stdout",
     "output_type": "stream",
     "text": [
      "hello\n",
      "match found\n"
     ]
    }
   ],
   "source": [
    "stra = input();\n",
    "\n",
    "pat = \"^he.l\"\n",
    "# heal\n",
    "# hell\n",
    "# hell\n",
    "# heel\n",
    "\n",
    "# hail\n",
    "# \n",
    "\n",
    "res = re.match(pat, stra)\n",
    "\n",
    "if res:\n",
    "    print(\"match found\")\n",
    "else :\n",
    "    print(\"not a match\")"
   ]
  },
  {
   "cell_type": "code",
   "execution_count": 3,
   "metadata": {},
   "outputs": [
    {
     "name": "stdout",
     "output_type": "stream",
     "text": [
      "heal my knee\n",
      "match found\n"
     ]
    }
   ],
   "source": [
    "stra = input();\n",
    "\n",
    "pat = \"^he.l\"\n",
    "\n",
    "res = re.match(pat, stra)\n",
    "\n",
    "if res:\n",
    "    print(\"match found\")\n",
    "else :\n",
    "    print(\"not a match\")"
   ]
  },
  {
   "cell_type": "code",
   "execution_count": 4,
   "metadata": {},
   "outputs": [
    {
     "name": "stdout",
     "output_type": "stream",
     "text": [
      "hi hello\n",
      "not a match\n"
     ]
    }
   ],
   "source": [
    "stra = input();\n",
    "\n",
    "pat = \"^he.l\"\n",
    "\n",
    "res = re.match(pat, stra)\n",
    "\n",
    "if res:\n",
    "    print(\"match found\")\n",
    "else :\n",
    "    print(\"not a match\")"
   ]
  },
  {
   "cell_type": "code",
   "execution_count": 5,
   "metadata": {},
   "outputs": [
    {
     "name": "stdout",
     "output_type": "stream",
     "text": [
      "match found\n"
     ]
    }
   ],
   "source": [
    "pat = \"^he.l\"\n",
    "\n",
    "with open(\"data_one.txt\", \"r\") as fa:\n",
    "    stra = fa.read()\n",
    "    \n",
    "res = re.match(pat, stra)\n",
    "if res:\n",
    "    print(\"match found\")\n",
    "else :\n",
    "    print(\"not a match\")     "
   ]
  },
  {
   "cell_type": "code",
   "execution_count": 6,
   "metadata": {},
   "outputs": [
    {
     "name": "stdout",
     "output_type": "stream",
     "text": [
      "not a match\n"
     ]
    }
   ],
   "source": [
    "pat = \"^he.l\"\n",
    "\n",
    "with open(\"data_one.txt\", \"r\") as fa:\n",
    "    stra = fa.read()\n",
    "    \n",
    "res = re.match(pat, stra)\n",
    "if res:\n",
    "    print(\"match found\")\n",
    "else :\n",
    "    print(\"not a match\")     "
   ]
  },
  {
   "cell_type": "code",
   "execution_count": 7,
   "metadata": {},
   "outputs": [],
   "source": [
    "import os"
   ]
  },
  {
   "cell_type": "code",
   "execution_count": 8,
   "metadata": {},
   "outputs": [
    {
     "data": {
      "text/plain": [
       "'/Users/shobhit/Desktop/dsna12/ses15_21sep'"
      ]
     },
     "execution_count": 8,
     "metadata": {},
     "output_type": "execute_result"
    }
   ],
   "source": [
    "os.getcwd()"
   ]
  },
  {
   "cell_type": "code",
   "execution_count": 9,
   "metadata": {},
   "outputs": [],
   "source": [
    "path = '/Users/shobhit/Desktop/dsna12/ses14_20sep/pandas/'"
   ]
  },
  {
   "cell_type": "code",
   "execution_count": 10,
   "metadata": {},
   "outputs": [
    {
     "data": {
      "text/plain": [
       "['effects.csv',\n",
       " '.DS_Store',\n",
       " '1.csv',\n",
       " 'data_missing_values.csv',\n",
       " 'random.csv',\n",
       " 'he.cs',\n",
       " 'data.csv',\n",
       " 'hello.tsv',\n",
       " 'hi.csv',\n",
       " 'pandas_3.ipynb',\n",
       " '.ipynb_checkpoints',\n",
       " 'pandas_4.ipynb']"
      ]
     },
     "execution_count": 10,
     "metadata": {},
     "output_type": "execute_result"
    }
   ],
   "source": [
    "os.listdir(path)"
   ]
  },
  {
   "cell_type": "code",
   "execution_count": 11,
   "metadata": {},
   "outputs": [],
   "source": [
    "list_of_files = os.listdir(path)"
   ]
  },
  {
   "cell_type": "code",
   "execution_count": 19,
   "metadata": {},
   "outputs": [
    {
     "name": "stdout",
     "output_type": "stream",
     "text": [
      "effects.csv\n",
      "1.csv\n",
      "data_missing_values.csv\n",
      "random.csv\n",
      "data.csv\n",
      "hello.tsv\n",
      "hi.csv\n"
     ]
    }
   ],
   "source": [
    "pat = \"[a-zA-Z0-9_]+\\.[ct]sv\"\n",
    "# .tsv\n",
    "# .csv\n",
    "\n",
    "# no match\n",
    "# hrsv\n",
    "\n",
    "for filename in list_of_files:\n",
    "    res = re.match(pat, filename)\n",
    "    if res:\n",
    "        print(filename)"
   ]
  },
  {
   "cell_type": "code",
   "execution_count": 22,
   "metadata": {},
   "outputs": [
    {
     "name": "stdout",
     "output_type": "stream",
     "text": [
      "effects.csv\n",
      "1.csv\n",
      "data_missing_values.csv\n",
      "random.csv\n",
      "data.csv\n",
      "hello.tsv\n",
      "hi.csv\n"
     ]
    }
   ],
   "source": [
    "pat = \"[a-zA-Z0-9_]+\\.[ct]sv$\"\n",
    "# .tsv\n",
    "# .csv\n",
    "\n",
    "# no match\n",
    "# hrsv\n",
    "\n",
    "list_of_files = os.listdir(path)\n",
    "for filename in list_of_files:\n",
    "    res = re.match(pat, filename)\n",
    "    if res:\n",
    "        print(filename)"
   ]
  },
  {
   "cell_type": "code",
   "execution_count": 24,
   "metadata": {},
   "outputs": [
    {
     "name": "stdout",
     "output_type": "stream",
     "text": [
      "['234', '675', '12', '45', '349', '238', '4', '6', '8769', '344']\n"
     ]
    }
   ],
   "source": [
    "pat = \"\\d+\"\n",
    "\n",
    "with open(\"info.txt\") as fa:\n",
    "    stra = fa.read()\n",
    "    \n",
    "res = re.findall(pat, stra)\n",
    "\n",
    "print(res)"
   ]
  },
  {
   "cell_type": "code",
   "execution_count": 25,
   "metadata": {},
   "outputs": [
    {
     "name": "stdout",
     "output_type": "stream",
     "text": [
      "['234', '675', '12', '45', '349', '238', '8769', '344']\n"
     ]
    }
   ],
   "source": [
    "pat = \"\\d{2,}\"\n",
    "\n",
    "with open(\"info.txt\") as fa:\n",
    "    stra = fa.read()\n",
    "    \n",
    "res = re.findall(pat, stra)\n",
    "\n",
    "print(res)"
   ]
  },
  {
   "cell_type": "code",
   "execution_count": 27,
   "metadata": {},
   "outputs": [
    {
     "name": "stdout",
     "output_type": "stream",
     "text": [
      "hello ## and ##\n",
      "one is ## and other ##\n",
      "may be ## and ##\n",
      "or ## and ## and ##\n",
      "not ##\n"
     ]
    }
   ],
   "source": [
    "pat = \"\\d+\"\n",
    "rep = \"##\"\n",
    "\n",
    "with open(\"info.txt\") as fa:\n",
    "    stra = fa.read()\n",
    "    \n",
    "res = re.sub(pat, rep, stra)\n",
    "\n",
    "print(res)"
   ]
  },
  {
   "cell_type": "code",
   "execution_count": 28,
   "metadata": {},
   "outputs": [
    {
     "name": "stdout",
     "output_type": "stream",
     "text": [
      "hello ## and ##\n",
      "one is ## and other ##\n",
      "may be 349 and 238\n",
      "or 4 and 6 and 8769\n",
      "not 344\n"
     ]
    }
   ],
   "source": [
    "pat = \"\\d+\"\n",
    "rep = \"##\"\n",
    "\n",
    "with open(\"info.txt\") as fa:\n",
    "    stra = fa.read()\n",
    "    \n",
    "res = re.sub(pat, rep, stra, 4)\n",
    "\n",
    "print(res)"
   ]
  },
  {
   "cell_type": "code",
   "execution_count": 30,
   "metadata": {},
   "outputs": [
    {
     "name": "stdout",
     "output_type": "stream",
     "text": [
      "hello ## and ##\n",
      "one is ## and other ##\n",
      "may be ## and ##\n",
      "or ## and ## and ##\n",
      "not ##\n",
      "\n",
      "\n",
      "number of substitutions =  10\n"
     ]
    }
   ],
   "source": [
    "pat = \"\\d+\"\n",
    "rep = \"##\"\n",
    "\n",
    "with open(\"info.txt\") as fa:\n",
    "    stra = fa.read()\n",
    "    \n",
    "res = re.subn(pat, rep, stra)\n",
    "\n",
    "print(res[0])\n",
    "print(\"\\n\\nnumber of substitutions = \", res[1])"
   ]
  },
  {
   "cell_type": "code",
   "execution_count": null,
   "metadata": {},
   "outputs": [],
   "source": []
  }
 ],
 "metadata": {
  "kernelspec": {
   "display_name": "Python 3",
   "language": "python",
   "name": "python3"
  },
  "language_info": {
   "codemirror_mode": {
    "name": "ipython",
    "version": 3
   },
   "file_extension": ".py",
   "mimetype": "text/x-python",
   "name": "python",
   "nbconvert_exporter": "python",
   "pygments_lexer": "ipython3",
   "version": "3.7.7"
  }
 },
 "nbformat": 4,
 "nbformat_minor": 4
}
