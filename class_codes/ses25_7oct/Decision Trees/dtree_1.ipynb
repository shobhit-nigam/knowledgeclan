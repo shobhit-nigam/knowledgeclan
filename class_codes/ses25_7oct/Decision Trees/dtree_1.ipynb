{
 "cells": [
  {
   "cell_type": "code",
   "execution_count": 8,
   "metadata": {},
   "outputs": [],
   "source": [
    "import pandas as pd\n",
    "import numpy as np"
   ]
  },
  {
   "cell_type": "code",
   "execution_count": 2,
   "metadata": {},
   "outputs": [],
   "source": [
    "dfa = pd.DataFrame()"
   ]
  },
  {
   "cell_type": "code",
   "execution_count": 3,
   "metadata": {},
   "outputs": [],
   "source": [
    "dfa = pd.DataFrame()\n",
    "dfa['Outlook'] = [\n",
    "    'sunny', 'sunny', 'overcast', 'rain', 'rain', 'rain',\n",
    "    'overcast', 'sunny', 'sunny', 'rain', 'sunny',\n",
    "    'overcast', 'overcast', 'rain'\n",
    "]\n",
    "dfa['Temperature'] = [\n",
    "    'hot', 'hot', 'hot', 'mild', 'cool', 'cool', 'cool',\n",
    "    'mild', 'cool', 'mild', 'mild', 'mild', 'hot', 'mild',\n",
    "]\n",
    "dfa['Humidity'] = [\n",
    "    'high', 'high', 'high', 'high', 'normal', 'normal', 'normal', \n",
    "    'high', 'normal', 'normal', 'normal', 'high', 'normal', 'high'\n",
    "]\n",
    "dfa['Windy'] = [\n",
    "    'Weak', 'Strong', 'Weak', 'Weak', 'Weak', 'Strong', 'Strong', 'Weak', 'Weak', 'Weak',\n",
    "    'Strong', 'Strong', 'Weak', 'Strong'\n",
    "]\n",
    "dfa['Decision'] = [\n",
    "    'N', 'N', 'P', 'P', 'P', 'N', 'P', 'N', 'P', 'P',\n",
    "    'P', 'P', 'P', 'N'\n",
    "]"
   ]
  },
  {
   "cell_type": "code",
   "execution_count": 4,
   "metadata": {},
   "outputs": [
    {
     "data": {
      "text/html": [
       "<div>\n",
       "<style scoped>\n",
       "    .dataframe tbody tr th:only-of-type {\n",
       "        vertical-align: middle;\n",
       "    }\n",
       "\n",
       "    .dataframe tbody tr th {\n",
       "        vertical-align: top;\n",
       "    }\n",
       "\n",
       "    .dataframe thead th {\n",
       "        text-align: right;\n",
       "    }\n",
       "</style>\n",
       "<table border=\"1\" class=\"dataframe\">\n",
       "  <thead>\n",
       "    <tr style=\"text-align: right;\">\n",
       "      <th></th>\n",
       "      <th>Outlook</th>\n",
       "      <th>Temperature</th>\n",
       "      <th>Humidity</th>\n",
       "      <th>Windy</th>\n",
       "      <th>Decision</th>\n",
       "    </tr>\n",
       "  </thead>\n",
       "  <tbody>\n",
       "    <tr>\n",
       "      <th>0</th>\n",
       "      <td>sunny</td>\n",
       "      <td>hot</td>\n",
       "      <td>high</td>\n",
       "      <td>Weak</td>\n",
       "      <td>N</td>\n",
       "    </tr>\n",
       "    <tr>\n",
       "      <th>1</th>\n",
       "      <td>sunny</td>\n",
       "      <td>hot</td>\n",
       "      <td>high</td>\n",
       "      <td>Strong</td>\n",
       "      <td>N</td>\n",
       "    </tr>\n",
       "    <tr>\n",
       "      <th>2</th>\n",
       "      <td>overcast</td>\n",
       "      <td>hot</td>\n",
       "      <td>high</td>\n",
       "      <td>Weak</td>\n",
       "      <td>P</td>\n",
       "    </tr>\n",
       "    <tr>\n",
       "      <th>3</th>\n",
       "      <td>rain</td>\n",
       "      <td>mild</td>\n",
       "      <td>high</td>\n",
       "      <td>Weak</td>\n",
       "      <td>P</td>\n",
       "    </tr>\n",
       "    <tr>\n",
       "      <th>4</th>\n",
       "      <td>rain</td>\n",
       "      <td>cool</td>\n",
       "      <td>normal</td>\n",
       "      <td>Weak</td>\n",
       "      <td>P</td>\n",
       "    </tr>\n",
       "    <tr>\n",
       "      <th>5</th>\n",
       "      <td>rain</td>\n",
       "      <td>cool</td>\n",
       "      <td>normal</td>\n",
       "      <td>Strong</td>\n",
       "      <td>N</td>\n",
       "    </tr>\n",
       "    <tr>\n",
       "      <th>6</th>\n",
       "      <td>overcast</td>\n",
       "      <td>cool</td>\n",
       "      <td>normal</td>\n",
       "      <td>Strong</td>\n",
       "      <td>P</td>\n",
       "    </tr>\n",
       "    <tr>\n",
       "      <th>7</th>\n",
       "      <td>sunny</td>\n",
       "      <td>mild</td>\n",
       "      <td>high</td>\n",
       "      <td>Weak</td>\n",
       "      <td>N</td>\n",
       "    </tr>\n",
       "    <tr>\n",
       "      <th>8</th>\n",
       "      <td>sunny</td>\n",
       "      <td>cool</td>\n",
       "      <td>normal</td>\n",
       "      <td>Weak</td>\n",
       "      <td>P</td>\n",
       "    </tr>\n",
       "    <tr>\n",
       "      <th>9</th>\n",
       "      <td>rain</td>\n",
       "      <td>mild</td>\n",
       "      <td>normal</td>\n",
       "      <td>Weak</td>\n",
       "      <td>P</td>\n",
       "    </tr>\n",
       "    <tr>\n",
       "      <th>10</th>\n",
       "      <td>sunny</td>\n",
       "      <td>mild</td>\n",
       "      <td>normal</td>\n",
       "      <td>Strong</td>\n",
       "      <td>P</td>\n",
       "    </tr>\n",
       "    <tr>\n",
       "      <th>11</th>\n",
       "      <td>overcast</td>\n",
       "      <td>mild</td>\n",
       "      <td>high</td>\n",
       "      <td>Strong</td>\n",
       "      <td>P</td>\n",
       "    </tr>\n",
       "    <tr>\n",
       "      <th>12</th>\n",
       "      <td>overcast</td>\n",
       "      <td>hot</td>\n",
       "      <td>normal</td>\n",
       "      <td>Weak</td>\n",
       "      <td>P</td>\n",
       "    </tr>\n",
       "    <tr>\n",
       "      <th>13</th>\n",
       "      <td>rain</td>\n",
       "      <td>mild</td>\n",
       "      <td>high</td>\n",
       "      <td>Strong</td>\n",
       "      <td>N</td>\n",
       "    </tr>\n",
       "  </tbody>\n",
       "</table>\n",
       "</div>"
      ],
      "text/plain": [
       "     Outlook Temperature Humidity   Windy Decision\n",
       "0      sunny         hot     high    Weak        N\n",
       "1      sunny         hot     high  Strong        N\n",
       "2   overcast         hot     high    Weak        P\n",
       "3       rain        mild     high    Weak        P\n",
       "4       rain        cool   normal    Weak        P\n",
       "5       rain        cool   normal  Strong        N\n",
       "6   overcast        cool   normal  Strong        P\n",
       "7      sunny        mild     high    Weak        N\n",
       "8      sunny        cool   normal    Weak        P\n",
       "9       rain        mild   normal    Weak        P\n",
       "10     sunny        mild   normal  Strong        P\n",
       "11  overcast        mild     high  Strong        P\n",
       "12  overcast         hot   normal    Weak        P\n",
       "13      rain        mild     high  Strong        N"
      ]
     },
     "execution_count": 4,
     "metadata": {},
     "output_type": "execute_result"
    }
   ],
   "source": [
    "dfa"
   ]
  },
  {
   "cell_type": "code",
   "execution_count": 7,
   "metadata": {},
   "outputs": [],
   "source": [
    "# probablity of p\n",
    "\n",
    "p_p = len(dfa[dfa['Decision']=='P'])/len(dfa)\n",
    "p_n = len(dfa[dfa['Decision']=='N'])/len(dfa)"
   ]
  },
  {
   "cell_type": "code",
   "execution_count": 6,
   "metadata": {},
   "outputs": [
    {
     "data": {
      "text/plain": [
       "0.6428571428571429"
      ]
     },
     "execution_count": 6,
     "metadata": {},
     "output_type": "execute_result"
    }
   ],
   "source": [
    "p_p"
   ]
  },
  {
   "cell_type": "code",
   "execution_count": 9,
   "metadata": {},
   "outputs": [
    {
     "name": "stdout",
     "output_type": "stream",
     "text": [
      "entropy decision = 0.9403\n"
     ]
    }
   ],
   "source": [
    "entropy_decision = - p_n * np.log2(p_n) - p_p * np.log2(p_p)\n",
    "\n",
    "print(\"entropy decision =\", round(entropy_decision, 4))"
   ]
  },
  {
   "cell_type": "code",
   "execution_count": 10,
   "metadata": {},
   "outputs": [],
   "source": [
    "def f_entropy_decision (df):\n",
    "    p_p = len(df[df['Decision']=='P'])/len(df)\n",
    "    p_n = len(df[df['Decision']=='N'])/len(df)\n",
    "    entropy_decision = - p_n * np.log2(p_n) - p_p * np.log2(p_p)\n",
    "    return entropy_decision"
   ]
  },
  {
   "cell_type": "code",
   "execution_count": 16,
   "metadata": {},
   "outputs": [],
   "source": [
    "def info_gain(data, column, ent_decision = entropy_decision):\n",
    "    ig_decision = ent_decision \n",
    "    for name, temp in data.groupby(column):\n",
    "        p_p = len(temp[temp['Decision']=='P'])/len(data)\n",
    "        p_n = len(temp[temp['Decision']=='N'])/len(data)  \n",
    "        entropy_decision = 0\n",
    "        if p_p != 0:\n",
    "            entropy_decision = entropy_decision - p_p * np.log2(p_p) \n",
    "\n",
    "        if p_n != 0:\n",
    "            entropy_decision = entropy_decision - p_n * np.log2(p_n)\n",
    "\n",
    "        ig_decision = ig_decision - (len(temp))/len(dfa) * entropy_decision\n",
    "    \n",
    "    return ig_decision"
   ]
  },
  {
   "cell_type": "code",
   "execution_count": 17,
   "metadata": {},
   "outputs": [
    {
     "name": "stdout",
     "output_type": "stream",
     "text": [
      "Gain(Decision, Outlook) = 0.1661\n",
      "Gain(Decision, Temperature) = 0.1042\n",
      "Gain(Decision, Humidity) = 0.0461\n",
      "Gain(Decision, Windy) = 0.0036\n"
     ]
    }
   ],
   "source": [
    "for col in dfa.columns[:-1]:\n",
    "    print(f\"Gain(Decision, {col}) = {round(info_gain(dfa, col), 4)}\")"
   ]
  },
  {
   "cell_type": "code",
   "execution_count": 18,
   "metadata": {},
   "outputs": [
    {
     "name": "stdout",
     "output_type": "stream",
     "text": [
      "---------------------\n",
      "overcast\n",
      "---------------------\n",
      "     Outlook Temperature Humidity   Windy Decision\n",
      "2   overcast         hot     high    Weak        P\n",
      "6   overcast        cool   normal  Strong        P\n",
      "11  overcast        mild     high  Strong        P\n",
      "12  overcast         hot   normal    Weak        P\n",
      "---------------------\n",
      "---------------------\n",
      "rain\n",
      "---------------------\n",
      "   Outlook Temperature Humidity   Windy Decision\n",
      "3     rain        mild     high    Weak        P\n",
      "4     rain        cool   normal    Weak        P\n",
      "5     rain        cool   normal  Strong        N\n",
      "9     rain        mild   normal    Weak        P\n",
      "13    rain        mild     high  Strong        N\n",
      "---------------------\n",
      "---------------------\n",
      "sunny\n",
      "---------------------\n",
      "   Outlook Temperature Humidity   Windy Decision\n",
      "0    sunny         hot     high    Weak        N\n",
      "1    sunny         hot     high  Strong        N\n",
      "7    sunny        mild     high    Weak        N\n",
      "8    sunny        cool   normal    Weak        P\n",
      "10   sunny        mild   normal  Strong        P\n",
      "---------------------\n"
     ]
    }
   ],
   "source": [
    "for name, temp in dfa.groupby('Outlook'):\n",
    "    print(\"---------------------\")\n",
    "    print(name)\n",
    "    print(\"---------------------\")\n",
    "    print(temp)\n",
    "    print(\"---------------------\") "
   ]
  },
  {
   "cell_type": "code",
   "execution_count": 19,
   "metadata": {},
   "outputs": [],
   "source": [
    "dfa_next = dfa[dfa['Outlook'] != 'overcast']"
   ]
  },
  {
   "cell_type": "code",
   "execution_count": 20,
   "metadata": {},
   "outputs": [
    {
     "data": {
      "text/html": [
       "<div>\n",
       "<style scoped>\n",
       "    .dataframe tbody tr th:only-of-type {\n",
       "        vertical-align: middle;\n",
       "    }\n",
       "\n",
       "    .dataframe tbody tr th {\n",
       "        vertical-align: top;\n",
       "    }\n",
       "\n",
       "    .dataframe thead th {\n",
       "        text-align: right;\n",
       "    }\n",
       "</style>\n",
       "<table border=\"1\" class=\"dataframe\">\n",
       "  <thead>\n",
       "    <tr style=\"text-align: right;\">\n",
       "      <th></th>\n",
       "      <th>Outlook</th>\n",
       "      <th>Temperature</th>\n",
       "      <th>Humidity</th>\n",
       "      <th>Windy</th>\n",
       "      <th>Decision</th>\n",
       "    </tr>\n",
       "  </thead>\n",
       "  <tbody>\n",
       "    <tr>\n",
       "      <th>0</th>\n",
       "      <td>sunny</td>\n",
       "      <td>hot</td>\n",
       "      <td>high</td>\n",
       "      <td>Weak</td>\n",
       "      <td>N</td>\n",
       "    </tr>\n",
       "    <tr>\n",
       "      <th>1</th>\n",
       "      <td>sunny</td>\n",
       "      <td>hot</td>\n",
       "      <td>high</td>\n",
       "      <td>Strong</td>\n",
       "      <td>N</td>\n",
       "    </tr>\n",
       "    <tr>\n",
       "      <th>3</th>\n",
       "      <td>rain</td>\n",
       "      <td>mild</td>\n",
       "      <td>high</td>\n",
       "      <td>Weak</td>\n",
       "      <td>P</td>\n",
       "    </tr>\n",
       "    <tr>\n",
       "      <th>4</th>\n",
       "      <td>rain</td>\n",
       "      <td>cool</td>\n",
       "      <td>normal</td>\n",
       "      <td>Weak</td>\n",
       "      <td>P</td>\n",
       "    </tr>\n",
       "    <tr>\n",
       "      <th>5</th>\n",
       "      <td>rain</td>\n",
       "      <td>cool</td>\n",
       "      <td>normal</td>\n",
       "      <td>Strong</td>\n",
       "      <td>N</td>\n",
       "    </tr>\n",
       "    <tr>\n",
       "      <th>7</th>\n",
       "      <td>sunny</td>\n",
       "      <td>mild</td>\n",
       "      <td>high</td>\n",
       "      <td>Weak</td>\n",
       "      <td>N</td>\n",
       "    </tr>\n",
       "    <tr>\n",
       "      <th>8</th>\n",
       "      <td>sunny</td>\n",
       "      <td>cool</td>\n",
       "      <td>normal</td>\n",
       "      <td>Weak</td>\n",
       "      <td>P</td>\n",
       "    </tr>\n",
       "    <tr>\n",
       "      <th>9</th>\n",
       "      <td>rain</td>\n",
       "      <td>mild</td>\n",
       "      <td>normal</td>\n",
       "      <td>Weak</td>\n",
       "      <td>P</td>\n",
       "    </tr>\n",
       "    <tr>\n",
       "      <th>10</th>\n",
       "      <td>sunny</td>\n",
       "      <td>mild</td>\n",
       "      <td>normal</td>\n",
       "      <td>Strong</td>\n",
       "      <td>P</td>\n",
       "    </tr>\n",
       "    <tr>\n",
       "      <th>13</th>\n",
       "      <td>rain</td>\n",
       "      <td>mild</td>\n",
       "      <td>high</td>\n",
       "      <td>Strong</td>\n",
       "      <td>N</td>\n",
       "    </tr>\n",
       "  </tbody>\n",
       "</table>\n",
       "</div>"
      ],
      "text/plain": [
       "   Outlook Temperature Humidity   Windy Decision\n",
       "0    sunny         hot     high    Weak        N\n",
       "1    sunny         hot     high  Strong        N\n",
       "3     rain        mild     high    Weak        P\n",
       "4     rain        cool   normal    Weak        P\n",
       "5     rain        cool   normal  Strong        N\n",
       "7    sunny        mild     high    Weak        N\n",
       "8    sunny        cool   normal    Weak        P\n",
       "9     rain        mild   normal    Weak        P\n",
       "10   sunny        mild   normal  Strong        P\n",
       "13    rain        mild     high  Strong        N"
      ]
     },
     "execution_count": 20,
     "metadata": {},
     "output_type": "execute_result"
    }
   ],
   "source": [
    "dfa_next"
   ]
  },
  {
   "cell_type": "code",
   "execution_count": 21,
   "metadata": {},
   "outputs": [],
   "source": [
    "dfa_sunny = dfa_next[dfa_next['Outlook'] == 'sunny']"
   ]
  },
  {
   "cell_type": "code",
   "execution_count": 24,
   "metadata": {},
   "outputs": [
    {
     "name": "stdout",
     "output_type": "stream",
     "text": [
      "Gain(Decision, Temperature) = 0.6989\n",
      "Gain(Decision, Humidity) = 0.77\n",
      "Gain(Decision, Windy) = 0.5948\n"
     ]
    }
   ],
   "source": [
    "for col in dfa_sunny.columns[1:-1]:\n",
    "    print(f\"Gain(Decision, {col}) = {round(info_gain(dfa_sunny, col), 4)}\")"
   ]
  },
  {
   "cell_type": "code",
   "execution_count": 25,
   "metadata": {},
   "outputs": [
    {
     "name": "stdout",
     "output_type": "stream",
     "text": [
      "---------------------\n",
      "high\n",
      "---------------------\n",
      "  Outlook Temperature Humidity   Windy Decision\n",
      "0   sunny         hot     high    Weak        N\n",
      "1   sunny         hot     high  Strong        N\n",
      "7   sunny        mild     high    Weak        N\n",
      "---------------------\n",
      "---------------------\n",
      "normal\n",
      "---------------------\n",
      "   Outlook Temperature Humidity   Windy Decision\n",
      "8    sunny        cool   normal    Weak        P\n",
      "10   sunny        mild   normal  Strong        P\n",
      "---------------------\n"
     ]
    }
   ],
   "source": [
    "for name, temp in dfa_sunny.groupby('Humidity'):\n",
    "    print(\"---------------------\")\n",
    "    print(name)\n",
    "    print(\"---------------------\")\n",
    "    print(temp)\n",
    "    print(\"---------------------\") "
   ]
  },
  {
   "cell_type": "code",
   "execution_count": 26,
   "metadata": {},
   "outputs": [],
   "source": [
    "dfa_rain = dfa_next[dfa_next['Outlook'] == 'rain']"
   ]
  },
  {
   "cell_type": "code",
   "execution_count": 27,
   "metadata": {},
   "outputs": [
    {
     "name": "stdout",
     "output_type": "stream",
     "text": [
      "Gain(Decision, Temperature) = 0.5948\n",
      "Gain(Decision, Humidity) = 0.5948\n",
      "Gain(Decision, Windy) = 0.77\n"
     ]
    }
   ],
   "source": [
    "for col in dfa_rain.columns[1:-1]:\n",
    "    print(f\"Gain(Decision, {col}) = {round(info_gain(dfa_rain, col), 4)}\")"
   ]
  },
  {
   "cell_type": "code",
   "execution_count": 28,
   "metadata": {},
   "outputs": [
    {
     "name": "stdout",
     "output_type": "stream",
     "text": [
      "---------------------\n",
      "Strong\n",
      "---------------------\n",
      "   Outlook Temperature Humidity   Windy Decision\n",
      "5     rain        cool   normal  Strong        N\n",
      "13    rain        mild     high  Strong        N\n",
      "---------------------\n",
      "---------------------\n",
      "Weak\n",
      "---------------------\n",
      "  Outlook Temperature Humidity Windy Decision\n",
      "3    rain        mild     high  Weak        P\n",
      "4    rain        cool   normal  Weak        P\n",
      "9    rain        mild   normal  Weak        P\n",
      "---------------------\n"
     ]
    }
   ],
   "source": [
    "for name, temp in dfa_rain.groupby('Windy'):\n",
    "    print(\"---------------------\")\n",
    "    print(name)\n",
    "    print(\"---------------------\")\n",
    "    print(temp)\n",
    "    print(\"---------------------\") "
   ]
  },
  {
   "cell_type": "code",
   "execution_count": null,
   "metadata": {},
   "outputs": [],
   "source": []
  }
 ],
 "metadata": {
  "kernelspec": {
   "display_name": "Python 3",
   "language": "python",
   "name": "python3"
  },
  "language_info": {
   "codemirror_mode": {
    "name": "ipython",
    "version": 3
   },
   "file_extension": ".py",
   "mimetype": "text/x-python",
   "name": "python",
   "nbconvert_exporter": "python",
   "pygments_lexer": "ipython3",
   "version": "3.7.7"
  }
 },
 "nbformat": 4,
 "nbformat_minor": 4
}
