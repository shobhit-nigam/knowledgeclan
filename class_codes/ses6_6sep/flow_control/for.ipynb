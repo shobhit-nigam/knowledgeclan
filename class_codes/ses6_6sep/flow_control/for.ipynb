{
 "cells": [
  {
   "cell_type": "code",
   "execution_count": 1,
   "metadata": {},
   "outputs": [],
   "source": [
    "listx = [\"ee\", \"tt\", \"ss\", \"ii\", \"vv\", \"qq\"]\n",
    "tup = (12, 56, 98, 32, 74, 10)\n",
    "stra = \"panther\""
   ]
  },
  {
   "cell_type": "code",
   "execution_count": 3,
   "metadata": {},
   "outputs": [
    {
     "name": "stdout",
     "output_type": "stream",
     "text": [
      "val = ee\n",
      "val = tt\n",
      "val = ss\n",
      "val = ii\n",
      "val = vv\n",
      "val = qq\n"
     ]
    }
   ],
   "source": [
    "for val in listx:\n",
    "    print(\"val =\", val)\n",
    "    # code comes here"
   ]
  },
  {
   "cell_type": "code",
   "execution_count": 5,
   "metadata": {},
   "outputs": [
    {
     "name": "stdout",
     "output_type": "stream",
     "text": [
      "listy = [12]\n",
      "listy = [12, 56]\n",
      "listy = [12, 56]\n",
      "listy = [12, 56, 32]\n",
      "listy = [12, 56, 32]\n",
      "listy = [12, 56, 32]\n"
     ]
    }
   ],
   "source": [
    "listy= []\n",
    "\n",
    "for val in tup:\n",
    "    if val%4 == 0:\n",
    "        listy.append(val)\n",
    "    print(\"listy =\", listy)"
   ]
  },
  {
   "cell_type": "code",
   "execution_count": 6,
   "metadata": {},
   "outputs": [
    {
     "name": "stdout",
     "output_type": "stream",
     "text": [
      "char = p\n",
      "char = a\n",
      "char = n\n",
      "char = t\n",
      "char = h\n",
      "char = e\n",
      "char = r\n"
     ]
    }
   ],
   "source": [
    "for char in stra:\n",
    "    print(\"char =\", char)"
   ]
  },
  {
   "cell_type": "code",
   "execution_count": 7,
   "metadata": {},
   "outputs": [],
   "source": [
    "dict_z = {77:\"ff\", 20:\"rr\", 45:\"pp\", 30:\"bb\", 60:\"dd\"}"
   ]
  },
  {
   "cell_type": "code",
   "execution_count": 8,
   "metadata": {},
   "outputs": [
    {
     "name": "stdout",
     "output_type": "stream",
     "text": [
      "x = 77\n",
      "x = 20\n",
      "x = 45\n",
      "x = 30\n",
      "x = 60\n"
     ]
    }
   ],
   "source": [
    "for x in dict_z:\n",
    "    print(\"x =\", x)"
   ]
  },
  {
   "cell_type": "code",
   "execution_count": 9,
   "metadata": {},
   "outputs": [
    {
     "name": "stdout",
     "output_type": "stream",
     "text": [
      "x = ff\n",
      "x = rr\n",
      "x = pp\n",
      "x = bb\n",
      "x = dd\n"
     ]
    }
   ],
   "source": [
    "for x in dict_z.values():\n",
    "    print(\"x =\", x)"
   ]
  },
  {
   "cell_type": "code",
   "execution_count": 10,
   "metadata": {},
   "outputs": [
    {
     "name": "stdout",
     "output_type": "stream",
     "text": [
      "x = 77\n",
      "y = ff\n",
      "------------\n",
      "x = 20\n",
      "y = rr\n",
      "------------\n",
      "x = 45\n",
      "y = pp\n",
      "------------\n",
      "x = 30\n",
      "y = bb\n",
      "------------\n",
      "x = 60\n",
      "y = dd\n",
      "------------\n"
     ]
    }
   ],
   "source": [
    "for x, y in dict_z.items():\n",
    "    print(\"x =\", x)\n",
    "    print(\"y =\", y)\n",
    "    print(\"------------\")"
   ]
  },
  {
   "cell_type": "code",
   "execution_count": 13,
   "metadata": {},
   "outputs": [
    {
     "name": "stdout",
     "output_type": "stream",
     "text": [
      "k = 77\n",
      "v = ff\n",
      "------------\n",
      "k = 20\n",
      "v = rr\n",
      "------------\n",
      "k = 45\n",
      "v = pp\n",
      "------------\n",
      "k = 30\n",
      "v = bb\n",
      "------------\n",
      "k = 60\n",
      "v = dd\n",
      "------------\n"
     ]
    }
   ],
   "source": [
    "for k, v in dict_z.items():\n",
    "    print(\"k =\", k)\n",
    "    print(\"v =\", v)\n",
    "    print(\"------------\")"
   ]
  },
  {
   "cell_type": "code",
   "execution_count": 14,
   "metadata": {},
   "outputs": [
    {
     "name": "stdout",
     "output_type": "stream",
     "text": [
      "i = 0\n",
      "i = 1\n",
      "i = 2\n",
      "i = 3\n"
     ]
    }
   ],
   "source": [
    "for i in range(4):    # 0 1 2 3 \n",
    "    print(\"i =\", i)"
   ]
  },
  {
   "cell_type": "code",
   "execution_count": 15,
   "metadata": {},
   "outputs": [
    {
     "name": "stdout",
     "output_type": "stream",
     "text": [
      "i = 2\n",
      "i = 3\n",
      "i = 4\n",
      "i = 5\n"
     ]
    }
   ],
   "source": [
    "for i in range(2, 6):    # 2 3 4 5 \n",
    "    print(\"i =\", i)"
   ]
  },
  {
   "cell_type": "code",
   "execution_count": 16,
   "metadata": {},
   "outputs": [
    {
     "name": "stdout",
     "output_type": "stream",
     "text": [
      "i = 2\n",
      "i = 4\n",
      "i = 6\n",
      "i = 8\n",
      "i = 10\n",
      "i = 12\n"
     ]
    }
   ],
   "source": [
    "for i in range(2, 13, 2):   # 2 4, 6, 8, 10, 12\n",
    "    print(\"i =\", i)"
   ]
  },
  {
   "cell_type": "code",
   "execution_count": 17,
   "metadata": {},
   "outputs": [
    {
     "name": "stdout",
     "output_type": "stream",
     "text": [
      "i = 5\n",
      "i = 4\n",
      "i = 3\n",
      "i = 2\n",
      "i = 1\n"
     ]
    }
   ],
   "source": [
    "for i in range(5, 0, -1):\n",
    "    print(\"i =\", i)"
   ]
  },
  {
   "cell_type": "code",
   "execution_count": 18,
   "metadata": {},
   "outputs": [
    {
     "name": "stdout",
     "output_type": "stream",
     "text": [
      "listx[i] = ee\n",
      "listx[i] = tt\n",
      "listx[i] = ss\n",
      "listx[i] = ii\n",
      "listx[i] = vv\n",
      "listx[i] = qq\n"
     ]
    }
   ],
   "source": [
    "listx = [\"ee\", \"tt\", \"ss\", \"ii\", \"vv\", \"qq\"]\n",
    "\n",
    "for i in range(len(listx)):\n",
    "    print(\"listx[i] =\", listx[i]) "
   ]
  },
  {
   "cell_type": "code",
   "execution_count": 19,
   "metadata": {},
   "outputs": [],
   "source": [
    "listx = [\"ee\", \"tt\", \"ss\", \"ee\", \"ii\", \"vv\", \"qq\", \"ee\", \"ii\", \"uu\", \"ee\"]"
   ]
  },
  {
   "cell_type": "code",
   "execution_count": 20,
   "metadata": {},
   "outputs": [],
   "source": [
    "# expected output , list_frequency = [0, 3, 7, 10]\n",
    "\n",
    "# indices of \"ee\""
   ]
  },
  {
   "cell_type": "code",
   "execution_count": 21,
   "metadata": {},
   "outputs": [
    {
     "name": "stdout",
     "output_type": "stream",
     "text": [
      "0\n",
      "3\n",
      "7\n",
      "10\n"
     ]
    }
   ],
   "source": [
    "for i in range(len(listx)):    #  for i in range(11)\n",
    "    if listx[i] == \"ee\":\n",
    "        print(i)"
   ]
  },
  {
   "cell_type": "code",
   "execution_count": 22,
   "metadata": {},
   "outputs": [
    {
     "name": "stdout",
     "output_type": "stream",
     "text": [
      "[0, 3, 7, 10]\n"
     ]
    }
   ],
   "source": [
    "list_freq = []\n",
    "\n",
    "for i in range(len(listx)):    #  for i in range(11)\n",
    "    if listx[i] == \"ee\":\n",
    "        list_freq.append(i)\n",
    "        \n",
    "print(list_freq)"
   ]
  },
  {
   "cell_type": "code",
   "execution_count": 23,
   "metadata": {},
   "outputs": [],
   "source": [
    "# calculate sum of all numbers from 1 to n   \n",
    "# 6  (1+2+3+4+5+6)"
   ]
  },
  {
   "cell_type": "code",
   "execution_count": 24,
   "metadata": {},
   "outputs": [
    {
     "name": "stdout",
     "output_type": "stream",
     "text": [
      "enter the number:\n",
      "6\n",
      "sum = 21\n"
     ]
    }
   ],
   "source": [
    "n = int(input(\"enter the number:\\n\"))\n",
    "sum = 0\n",
    "\n",
    "for i in range(1, n+1):\n",
    "    sum = sum + i\n",
    "    \n",
    "print(\"sum =\", sum)"
   ]
  },
  {
   "cell_type": "code",
   "execution_count": 25,
   "metadata": {},
   "outputs": [
    {
     "name": "stdout",
     "output_type": "stream",
     "text": [
      "enter the number:\n",
      "8\n",
      "sum = 36\n"
     ]
    }
   ],
   "source": [
    "n = int(input(\"enter the number:\\n\"))\n",
    "sum = 0\n",
    "\n",
    "for i in range(1, n+1):\n",
    "    sum = sum + i\n",
    "    \n",
    "print(\"sum =\", sum)"
   ]
  },
  {
   "cell_type": "code",
   "execution_count": 26,
   "metadata": {},
   "outputs": [],
   "source": [
    "listy = [\"a\", \"e\", \"R\", \"T\", \"k\", \"L\"]"
   ]
  },
  {
   "cell_type": "code",
   "execution_count": 27,
   "metadata": {},
   "outputs": [
    {
     "name": "stdout",
     "output_type": "stream",
     "text": [
      "R\n",
      "T\n",
      "L\n"
     ]
    }
   ],
   "source": [
    "for char in listy:\n",
    "    if char.isupper():\n",
    "        print(char)"
   ]
  },
  {
   "cell_type": "code",
   "execution_count": null,
   "metadata": {},
   "outputs": [],
   "source": []
  }
 ],
 "metadata": {
  "kernelspec": {
   "display_name": "Python 3",
   "language": "python",
   "name": "python3"
  },
  "language_info": {
   "codemirror_mode": {
    "name": "ipython",
    "version": 3
   },
   "file_extension": ".py",
   "mimetype": "text/x-python",
   "name": "python",
   "nbconvert_exporter": "python",
   "pygments_lexer": "ipython3",
   "version": "3.7.7"
  }
 },
 "nbformat": 4,
 "nbformat_minor": 4
}
