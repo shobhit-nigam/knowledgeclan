{
 "cells": [
  {
   "cell_type": "code",
   "execution_count": 1,
   "metadata": {},
   "outputs": [],
   "source": [
    "data = 1"
   ]
  },
  {
   "cell_type": "code",
   "execution_count": 2,
   "metadata": {},
   "outputs": [
    {
     "name": "stdout",
     "output_type": "stream",
     "text": [
      "data = 1\n",
      "data = 2\n",
      "data = 3\n",
      "data = 4\n",
      "data = 5\n"
     ]
    }
   ],
   "source": [
    "while data<6 :\n",
    "    print(\"data =\", data)\n",
    "    data = data + 1"
   ]
  },
  {
   "cell_type": "code",
   "execution_count": 5,
   "metadata": {},
   "outputs": [
    {
     "name": "stdout",
     "output_type": "stream",
     "text": [
      "data = 1\n",
      "data = 2\n",
      "data = 3\n",
      "data = 4\n",
      "data = 5\n"
     ]
    }
   ],
   "source": [
    "data = 1\n",
    "while data<6 :\n",
    "    print(\"data =\", data)\n",
    "    data = data + 1"
   ]
  },
  {
   "cell_type": "code",
   "execution_count": 7,
   "metadata": {
    "scrolled": true
   },
   "outputs": [
    {
     "name": "stdout",
     "output_type": "stream",
     "text": [
      "enter a number:\n",
      "20\n",
      "values is too less\n",
      "enter a number:\n",
      "100\n",
      "value is too large\n",
      "enter a number:\n",
      "50\n",
      "value is too large\n",
      "enter a number:\n",
      "25\n",
      "values is too less\n",
      "enter a number:\n",
      "30\n",
      "you guessed it right\n"
     ]
    }
   ],
   "source": [
    "# guessing game\n",
    "num = 30\n",
    "\n",
    "while True:\n",
    "    val = int(input(\"enter a number:\\n\")) \n",
    "    \n",
    "    if val < num:\n",
    "        print(\"values is too less\")\n",
    "    elif val > num:\n",
    "        print(\"value is too large\")\n",
    "    else:\n",
    "        print(\"you guessed it right\")\n",
    "        break"
   ]
  },
  {
   "cell_type": "code",
   "execution_count": 9,
   "metadata": {},
   "outputs": [
    {
     "name": "stdout",
     "output_type": "stream",
     "text": [
      "enter a number:\n",
      "100\n",
      "value is too large\n",
      "number of chances left = 3\n",
      "enter a number:\n",
      "5\n",
      "values is too less\n",
      "number of chances left = 2\n",
      "enter a number:\n",
      "25\n",
      "values is too less\n",
      "number of chances left = 1\n",
      "enter a number:\n",
      "60\n",
      "value is too large\n",
      "you have run out of chances\n"
     ]
    }
   ],
   "source": [
    "# guessing game\n",
    "num = 30\n",
    "chances = 4\n",
    "\n",
    "while True:\n",
    "    val = int(input(\"enter a number:\\n\")) \n",
    "    chances = chances - 1\n",
    "    \n",
    "    if val < num:\n",
    "        print(\"values is too less\")\n",
    "    elif val > num:\n",
    "        print(\"value is too large\")\n",
    "    else:\n",
    "        print(\"you guessed it right\")\n",
    "        break\n",
    "        \n",
    "    if chances == 0:\n",
    "        print(\"you have run out of chances\")\n",
    "        break\n",
    "    else:\n",
    "        print(\"number of chances left =\", chances)"
   ]
  },
  {
   "cell_type": "code",
   "execution_count": 12,
   "metadata": {},
   "outputs": [
    {
     "name": "stdout",
     "output_type": "stream",
     "text": [
      "data = 1\n",
      "dropping in to say a hello\n",
      "*******\n",
      "data = 2\n",
      "data = 3\n",
      "dropping in to say a hello\n",
      "*******\n",
      "data = 4\n",
      "data = 5\n",
      "dropping in to say a hello\n",
      "*******\n",
      "data = 6\n",
      "data = 7\n",
      "dropping in to say a hello\n",
      "*******\n",
      "data = 8\n",
      "data = 9\n",
      "dropping in to say a hello\n",
      "*******\n",
      "data = 10\n"
     ]
    }
   ],
   "source": [
    "data = 1 \n",
    "\n",
    "while data < 11:\n",
    "    print(\"data =\", data)\n",
    "    if data%2 == 0:\n",
    "        data = data + 1\n",
    "        continue\n",
    "    \n",
    "    data = data + 1\n",
    "    print(\"dropping in to say a hello\") \n",
    "    print(\"*******\") "
   ]
  },
  {
   "cell_type": "code",
   "execution_count": null,
   "metadata": {},
   "outputs": [],
   "source": []
  }
 ],
 "metadata": {
  "kernelspec": {
   "display_name": "Python 3",
   "language": "python",
   "name": "python3"
  },
  "language_info": {
   "codemirror_mode": {
    "name": "ipython",
    "version": 3
   },
   "file_extension": ".py",
   "mimetype": "text/x-python",
   "name": "python",
   "nbconvert_exporter": "python",
   "pygments_lexer": "ipython3",
   "version": "3.7.7"
  }
 },
 "nbformat": 4,
 "nbformat_minor": 4
}
