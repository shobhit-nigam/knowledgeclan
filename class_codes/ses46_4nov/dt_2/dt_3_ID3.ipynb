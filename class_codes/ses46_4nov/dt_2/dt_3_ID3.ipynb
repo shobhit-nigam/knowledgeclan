{
 "cells": [
  {
   "cell_type": "code",
   "execution_count": 1,
   "metadata": {},
   "outputs": [],
   "source": [
    "path = \"https://raw.githubusercontent.com/shobhit-nigam/knowledgeclan/main/datasets/income.csv\""
   ]
  },
  {
   "cell_type": "code",
   "execution_count": 2,
   "metadata": {},
   "outputs": [],
   "source": [
    "import numpy as np\n",
    "import pandas as pd\n",
    "import matplotlib.pyplot as plt\n",
    "import math"
   ]
  },
  {
   "cell_type": "code",
   "execution_count": 3,
   "metadata": {},
   "outputs": [],
   "source": [
    "dfa = pd.read_csv(path)"
   ]
  },
  {
   "cell_type": "code",
   "execution_count": 6,
   "metadata": {},
   "outputs": [],
   "source": [
    "str_cols = ['workclass', 'education',\n",
    " 'marital_status',\n",
    " 'occupation',\n",
    " 'relationship',\n",
    " 'race',\n",
    " 'sex',\n",
    " 'native_country',\n",
    " 'high_income']"
   ]
  },
  {
   "cell_type": "code",
   "execution_count": 7,
   "metadata": {},
   "outputs": [],
   "source": [
    "for name in str_cols:\n",
    "    col = pd.Categorical(dfa[name])\n",
    "    dfa[name] = col.codes"
   ]
  },
  {
   "cell_type": "code",
   "execution_count": 8,
   "metadata": {},
   "outputs": [],
   "source": [
    "def calc_entropy(column):\n",
    "    # counts of each unique va;ue in the column\n",
    "    counts = np.bincount(column)\n",
    "    \n",
    "    # divide by the total column length to get a probability \n",
    "    probabilities = counts / len(column)\n",
    "    \n",
    "    # initialize the entropy to 0\n",
    "    entropy = 0\n",
    "    \n",
    "    #loop through the probabilitiee, and add each one to the total entropy \n",
    "    for prob in probabilities:\n",
    "        if prob > 0:\n",
    "            entropy += prob * math.log(prob, 2)\n",
    "        \n",
    "    return -entropy"
   ]
  },
  {
   "cell_type": "code",
   "execution_count": 9,
   "metadata": {},
   "outputs": [],
   "source": [
    "def calc_information_gain(data, split_name, target_name):\n",
    "    # orginal entropy \n",
    "    original_entropy = calc_entropy(data[target_name])\n",
    "    \n",
    "    # median of column we are splitting\n",
    "    column = data[split_name]\n",
    "    median = column.median()\n",
    "    \n",
    "    # make two subsets of the data \n",
    "    left_split = data[column <= median]\n",
    "    right_split = data[column > median]   \n",
    "    \n",
    "    to_subtract = 0\n",
    "    for subset in [left_split, right_split]:\n",
    "        prob = (subset.shape[0]/data.shape[0])\n",
    "        to_subtract += prob * calc_entropy(subset[target_name])\n",
    "        \n",
    "    # return information gain\n",
    "    return original_entropy - to_subtract"
   ]
  },
  {
   "cell_type": "code",
   "execution_count": 10,
   "metadata": {},
   "outputs": [],
   "source": [
    "columns = ['age',\n",
    " 'workclass',\n",
    " 'education_num',\n",
    " 'marital_status',\n",
    " 'occupation',\n",
    " 'relationship',\n",
    " 'race',\n",
    " 'sex',\n",
    " 'hours_per_week',\n",
    " 'native_country']"
   ]
  },
  {
   "cell_type": "code",
   "execution_count": 11,
   "metadata": {},
   "outputs": [],
   "source": [
    "information_gains = []\n",
    "\n",
    "for col in columns: \n",
    "    information_gain = calc_information_gain(dfa, col, \"high_income\")\n",
    "    information_gains.append(information_gain)"
   ]
  },
  {
   "cell_type": "code",
   "execution_count": 12,
   "metadata": {},
   "outputs": [
    {
     "data": {
      "text/plain": [
       "[0.047028661304691965,\n",
       " 0.006810984054396618,\n",
       " 0.06501298413277423,\n",
       " 0.1114272573715438,\n",
       " 0.0015822303843424645,\n",
       " 0.04736241665026941,\n",
       " 0.0,\n",
       " 0.0,\n",
       " 0.04062246867123487,\n",
       " 0.00013457344495848567]"
      ]
     },
     "execution_count": 12,
     "metadata": {},
     "output_type": "execute_result"
    }
   ],
   "source": [
    "information_gains"
   ]
  },
  {
   "cell_type": "code",
   "execution_count": 13,
   "metadata": {},
   "outputs": [],
   "source": [
    "def find_best_column(data, target_name, columns):\n",
    "    information_gains = []\n",
    "\n",
    "    for col in columns: \n",
    "        information_gain = calc_information_gain(data, col, \"high_income\")\n",
    "        information_gains.append(information_gain)\n",
    "        \n",
    "    highest_gain_index = information_gains.index(max(information_gains))\n",
    "    highest_gain = columns[highest_gain_index]\n",
    "    return highest_gain"
   ]
  },
  {
   "cell_type": "code",
   "execution_count": null,
   "metadata": {},
   "outputs": [],
   "source": []
  }
 ],
 "metadata": {
  "kernelspec": {
   "display_name": "Python 3",
   "language": "python",
   "name": "python3"
  },
  "language_info": {
   "codemirror_mode": {
    "name": "ipython",
    "version": 3
   },
   "file_extension": ".py",
   "mimetype": "text/x-python",
   "name": "python",
   "nbconvert_exporter": "python",
   "pygments_lexer": "ipython3",
   "version": "3.7.7"
  }
 },
 "nbformat": 4,
 "nbformat_minor": 4
}
