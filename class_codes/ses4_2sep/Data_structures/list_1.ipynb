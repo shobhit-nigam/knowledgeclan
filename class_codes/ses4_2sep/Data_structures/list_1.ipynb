{
 "cells": [
  {
   "cell_type": "code",
   "execution_count": 3,
   "metadata": {},
   "outputs": [],
   "source": [
    "avengers = [\"captain\", \"ironman\", \"thor\", \"black widow\"] \n",
    "\n",
    "list_num = [10, 23, 7, 100, 23, 7, 19]"
   ]
  },
  {
   "cell_type": "code",
   "execution_count": 2,
   "metadata": {},
   "outputs": [
    {
     "name": "stdout",
     "output_type": "stream",
     "text": [
      "<class 'list'>\n"
     ]
    }
   ],
   "source": [
    "print(type(avengers))"
   ]
  },
  {
   "cell_type": "code",
   "execution_count": 4,
   "metadata": {},
   "outputs": [
    {
     "name": "stdout",
     "output_type": "stream",
     "text": [
      "[10, 23, 7, 100, 23, 7, 19]\n"
     ]
    }
   ],
   "source": [
    "print(list_num)"
   ]
  },
  {
   "cell_type": "code",
   "execution_count": 5,
   "metadata": {},
   "outputs": [
    {
     "name": "stdout",
     "output_type": "stream",
     "text": [
      "7\n"
     ]
    }
   ],
   "source": [
    "print(len(list_num))"
   ]
  },
  {
   "cell_type": "code",
   "execution_count": 6,
   "metadata": {},
   "outputs": [
    {
     "name": "stdout",
     "output_type": "stream",
     "text": [
      "thor\n"
     ]
    }
   ],
   "source": [
    "print(avengers[2])"
   ]
  },
  {
   "cell_type": "code",
   "execution_count": 7,
   "metadata": {},
   "outputs": [
    {
     "ename": "IndexError",
     "evalue": "list index out of range",
     "output_type": "error",
     "traceback": [
      "\u001b[0;31m---------------------------------------------------------------------------\u001b[0m",
      "\u001b[0;31mIndexError\u001b[0m                                Traceback (most recent call last)",
      "\u001b[0;32m<ipython-input-7-e0e0ac7b948b>\u001b[0m in \u001b[0;36m<module>\u001b[0;34m\u001b[0m\n\u001b[0;32m----> 1\u001b[0;31m \u001b[0mprint\u001b[0m\u001b[0;34m(\u001b[0m\u001b[0mavengers\u001b[0m\u001b[0;34m[\u001b[0m\u001b[0;36m8\u001b[0m\u001b[0;34m]\u001b[0m\u001b[0;34m)\u001b[0m\u001b[0;34m\u001b[0m\u001b[0;34m\u001b[0m\u001b[0m\n\u001b[0m",
      "\u001b[0;31mIndexError\u001b[0m: list index out of range"
     ]
    }
   ],
   "source": [
    "print(avengers[8])"
   ]
  },
  {
   "cell_type": "code",
   "execution_count": 8,
   "metadata": {},
   "outputs": [],
   "source": [
    "list_mix = [12, \"hi\", 23.78]"
   ]
  },
  {
   "cell_type": "code",
   "execution_count": 9,
   "metadata": {},
   "outputs": [
    {
     "name": "stdout",
     "output_type": "stream",
     "text": [
      "['captain', 'ironman', 'thor', 'black widow']\n"
     ]
    }
   ],
   "source": [
    "print(avengers)"
   ]
  },
  {
   "cell_type": "code",
   "execution_count": 10,
   "metadata": {},
   "outputs": [],
   "source": [
    "avengers.append(\"hawkeye\")"
   ]
  },
  {
   "cell_type": "code",
   "execution_count": 11,
   "metadata": {},
   "outputs": [
    {
     "name": "stdout",
     "output_type": "stream",
     "text": [
      "avengers = ['captain', 'ironman', 'thor', 'black widow', 'hawkeye']\n"
     ]
    }
   ],
   "source": [
    "print(\"avengers =\", avengers)"
   ]
  },
  {
   "cell_type": "code",
   "execution_count": 12,
   "metadata": {},
   "outputs": [],
   "source": [
    "avengers.insert(3, \"hulk\")"
   ]
  },
  {
   "cell_type": "code",
   "execution_count": 13,
   "metadata": {},
   "outputs": [
    {
     "name": "stdout",
     "output_type": "stream",
     "text": [
      "avengers = ['captain', 'ironman', 'thor', 'hulk', 'black widow', 'hawkeye']\n"
     ]
    }
   ],
   "source": [
    "print(\"avengers =\", avengers)"
   ]
  },
  {
   "cell_type": "code",
   "execution_count": 14,
   "metadata": {},
   "outputs": [
    {
     "name": "stdout",
     "output_type": "stream",
     "text": [
      "avengers[-4] = thor\n"
     ]
    }
   ],
   "source": [
    "print(\"avengers[-4] =\", avengers[-4])"
   ]
  },
  {
   "cell_type": "code",
   "execution_count": 15,
   "metadata": {},
   "outputs": [],
   "source": [
    "avengers[0] = \"captain america\""
   ]
  },
  {
   "cell_type": "code",
   "execution_count": 16,
   "metadata": {},
   "outputs": [
    {
     "name": "stdout",
     "output_type": "stream",
     "text": [
      "avengers = ['captain america', 'ironman', 'thor', 'hulk', 'black widow', 'hawkeye']\n"
     ]
    }
   ],
   "source": [
    "print(\"avengers =\", avengers)"
   ]
  },
  {
   "cell_type": "code",
   "execution_count": 17,
   "metadata": {},
   "outputs": [],
   "source": [
    "avengers.sort()"
   ]
  },
  {
   "cell_type": "code",
   "execution_count": 18,
   "metadata": {},
   "outputs": [
    {
     "name": "stdout",
     "output_type": "stream",
     "text": [
      "avengers = ['black widow', 'captain america', 'hawkeye', 'hulk', 'ironman', 'thor']\n"
     ]
    }
   ],
   "source": [
    "print(\"avengers =\", avengers)"
   ]
  },
  {
   "cell_type": "code",
   "execution_count": 20,
   "metadata": {},
   "outputs": [],
   "source": [
    "x = [\"hh\", \"RR\", \"bb\", \"ww\", \"II\", \"dd\"]"
   ]
  },
  {
   "cell_type": "code",
   "execution_count": 21,
   "metadata": {},
   "outputs": [],
   "source": [
    "x.sort()"
   ]
  },
  {
   "cell_type": "code",
   "execution_count": 22,
   "metadata": {},
   "outputs": [
    {
     "name": "stdout",
     "output_type": "stream",
     "text": [
      "['II', 'RR', 'bb', 'dd', 'hh', 'ww']\n"
     ]
    }
   ],
   "source": [
    "print(x)"
   ]
  },
  {
   "cell_type": "code",
   "execution_count": 23,
   "metadata": {},
   "outputs": [],
   "source": [
    "x.sort(reverse=True)"
   ]
  },
  {
   "cell_type": "code",
   "execution_count": 24,
   "metadata": {},
   "outputs": [
    {
     "name": "stdout",
     "output_type": "stream",
     "text": [
      "['ww', 'hh', 'dd', 'bb', 'RR', 'II']\n"
     ]
    }
   ],
   "source": [
    "print(x)"
   ]
  },
  {
   "cell_type": "code",
   "execution_count": 25,
   "metadata": {},
   "outputs": [],
   "source": [
    "list_num.sort()"
   ]
  },
  {
   "cell_type": "code",
   "execution_count": 26,
   "metadata": {},
   "outputs": [
    {
     "name": "stdout",
     "output_type": "stream",
     "text": [
      "[7, 7, 10, 19, 23, 23, 100]\n"
     ]
    }
   ],
   "source": [
    "print(list_num)"
   ]
  },
  {
   "cell_type": "code",
   "execution_count": 27,
   "metadata": {},
   "outputs": [
    {
     "name": "stdout",
     "output_type": "stream",
     "text": [
      "[12, 'hi', 23.78]\n"
     ]
    }
   ],
   "source": [
    "print(list_mix)"
   ]
  },
  {
   "cell_type": "code",
   "execution_count": 28,
   "metadata": {},
   "outputs": [
    {
     "ename": "TypeError",
     "evalue": "'<' not supported between instances of 'str' and 'int'",
     "output_type": "error",
     "traceback": [
      "\u001b[0;31m---------------------------------------------------------------------------\u001b[0m",
      "\u001b[0;31mTypeError\u001b[0m                                 Traceback (most recent call last)",
      "\u001b[0;32m<ipython-input-28-0fc42490a80f>\u001b[0m in \u001b[0;36m<module>\u001b[0;34m\u001b[0m\n\u001b[0;32m----> 1\u001b[0;31m \u001b[0mlist_mix\u001b[0m\u001b[0;34m.\u001b[0m\u001b[0msort\u001b[0m\u001b[0;34m(\u001b[0m\u001b[0;34m)\u001b[0m\u001b[0;34m\u001b[0m\u001b[0;34m\u001b[0m\u001b[0m\n\u001b[0m",
      "\u001b[0;31mTypeError\u001b[0m: '<' not supported between instances of 'str' and 'int'"
     ]
    }
   ],
   "source": [
    "list_mix.sort()"
   ]
  },
  {
   "cell_type": "code",
   "execution_count": 29,
   "metadata": {},
   "outputs": [],
   "source": [
    "avengers = ['captain america', 'ironman', 'thor', 'hulk', 'black widow', 'hawkeye']"
   ]
  },
  {
   "cell_type": "code",
   "execution_count": 30,
   "metadata": {},
   "outputs": [],
   "source": [
    "avengers.reverse()"
   ]
  },
  {
   "cell_type": "code",
   "execution_count": 31,
   "metadata": {},
   "outputs": [
    {
     "name": "stdout",
     "output_type": "stream",
     "text": [
      "avengers = ['hawkeye', 'black widow', 'hulk', 'thor', 'ironman', 'captain america']\n"
     ]
    }
   ],
   "source": [
    "print(\"avengers =\", avengers)"
   ]
  },
  {
   "cell_type": "code",
   "execution_count": 32,
   "metadata": {},
   "outputs": [
    {
     "data": {
      "text/plain": [
       "2"
      ]
     },
     "execution_count": 32,
     "metadata": {},
     "output_type": "execute_result"
    }
   ],
   "source": [
    "avengers.index('hulk')"
   ]
  },
  {
   "cell_type": "code",
   "execution_count": 33,
   "metadata": {},
   "outputs": [
    {
     "data": {
      "text/plain": [
       "1"
      ]
     },
     "execution_count": 33,
     "metadata": {},
     "output_type": "execute_result"
    }
   ],
   "source": [
    "avengers.count('hulk')"
   ]
  },
  {
   "cell_type": "code",
   "execution_count": 34,
   "metadata": {},
   "outputs": [],
   "source": [
    "avengers.remove('black widow')"
   ]
  },
  {
   "cell_type": "code",
   "execution_count": 35,
   "metadata": {},
   "outputs": [
    {
     "name": "stdout",
     "output_type": "stream",
     "text": [
      "avengers = ['hawkeye', 'hulk', 'thor', 'ironman', 'captain america']\n"
     ]
    }
   ],
   "source": [
    "print(\"avengers =\", avengers)"
   ]
  },
  {
   "cell_type": "code",
   "execution_count": 36,
   "metadata": {},
   "outputs": [],
   "source": [
    "y = avengers.pop()"
   ]
  },
  {
   "cell_type": "code",
   "execution_count": 37,
   "metadata": {},
   "outputs": [
    {
     "name": "stdout",
     "output_type": "stream",
     "text": [
      "avengers = ['hawkeye', 'hulk', 'thor', 'ironman']\n"
     ]
    }
   ],
   "source": [
    "print(\"avengers =\", avengers)"
   ]
  },
  {
   "cell_type": "code",
   "execution_count": 38,
   "metadata": {},
   "outputs": [
    {
     "name": "stdout",
     "output_type": "stream",
     "text": [
      "captain america\n"
     ]
    }
   ],
   "source": [
    "print(y)"
   ]
  },
  {
   "cell_type": "code",
   "execution_count": 39,
   "metadata": {},
   "outputs": [],
   "source": [
    "y = avengers.pop(1)"
   ]
  },
  {
   "cell_type": "code",
   "execution_count": 40,
   "metadata": {},
   "outputs": [
    {
     "name": "stdout",
     "output_type": "stream",
     "text": [
      "avengers = ['hawkeye', 'thor', 'ironman']\n"
     ]
    }
   ],
   "source": [
    "print(\"avengers =\", avengers)"
   ]
  },
  {
   "cell_type": "code",
   "execution_count": 41,
   "metadata": {},
   "outputs": [],
   "source": [
    "avengers.clear()"
   ]
  },
  {
   "cell_type": "code",
   "execution_count": 42,
   "metadata": {},
   "outputs": [
    {
     "name": "stdout",
     "output_type": "stream",
     "text": [
      "avengers = []\n"
     ]
    }
   ],
   "source": [
    "print(\"avengers =\", avengers)"
   ]
  },
  {
   "cell_type": "code",
   "execution_count": 43,
   "metadata": {},
   "outputs": [],
   "source": [
    "avengers = ['hawkeye', 'hulk', 'thor', 'ironman', 'captain america']"
   ]
  },
  {
   "cell_type": "code",
   "execution_count": 44,
   "metadata": {},
   "outputs": [],
   "source": [
    "marvel = ['wanda', 'vision', 'wong']"
   ]
  },
  {
   "cell_type": "code",
   "execution_count": 45,
   "metadata": {},
   "outputs": [
    {
     "name": "stdout",
     "output_type": "stream",
     "text": [
      "len(avengers) = 5\n",
      "avengers = ['hawkeye', 'hulk', 'thor', 'ironman', 'captain america']\n",
      "**************\n",
      "len(avengers) = 6\n",
      "avengers = ['hawkeye', 'hulk', 'thor', 'ironman', 'captain america', ['wanda', 'vision', 'wong']]\n"
     ]
    }
   ],
   "source": [
    "avengers = ['hawkeye', 'hulk', 'thor', 'ironman', 'captain america']\n",
    "marvel = ['wanda', 'vision', 'wong']\n",
    "print(\"len(avengers) =\", len(avengers))\n",
    "print(\"avengers =\", avengers)\n",
    "\n",
    "avengers.append(marvel)\n",
    "print(\"**************\")\n",
    "\n",
    "print(\"len(avengers) =\", len(avengers))\n",
    "print(\"avengers =\", avengers)"
   ]
  },
  {
   "cell_type": "code",
   "execution_count": 46,
   "metadata": {},
   "outputs": [
    {
     "name": "stdout",
     "output_type": "stream",
     "text": [
      "len(avengers) = 5\n",
      "avengers = ['hawkeye', 'hulk', 'thor', 'ironman', 'captain america']\n",
      "**************\n",
      "len(avengers) = 8\n",
      "avengers = ['hawkeye', 'hulk', 'thor', 'ironman', 'captain america', 'wanda', 'vision', 'wong']\n"
     ]
    }
   ],
   "source": [
    "avengers = ['hawkeye', 'hulk', 'thor', 'ironman', 'captain america']\n",
    "marvel = ['wanda', 'vision', 'wong']\n",
    "print(\"len(avengers) =\", len(avengers))\n",
    "print(\"avengers =\", avengers)\n",
    "\n",
    "avengers.extend(marvel)\n",
    "print(\"**************\")\n",
    "\n",
    "print(\"len(avengers) =\", len(avengers))\n",
    "print(\"avengers =\", avengers)"
   ]
  },
  {
   "cell_type": "code",
   "execution_count": 47,
   "metadata": {},
   "outputs": [
    {
     "name": "stdout",
     "output_type": "stream",
     "text": [
      "len(avengers) = 5\n",
      "avengers = ['hawkeye', 'hulk', 'thor', 'ironman', 'captain america']\n",
      "**************\n",
      "len(avengers) = 6\n",
      "avengers = ['hawkeye', 'hulk', 'thor', 'ironman', 'captain america', ['wanda', 'vision', 'wong']]\n"
     ]
    }
   ],
   "source": [
    "avengers = ['hawkeye', 'hulk', 'thor', 'ironman', 'captain america']\n",
    "marvel = ['wanda', 'vision', 'wong']\n",
    "print(\"len(avengers) =\", len(avengers))\n",
    "print(\"avengers =\", avengers)\n",
    "\n",
    "avengers.append(marvel)\n",
    "print(\"**************\")\n",
    "\n",
    "print(\"len(avengers) =\", len(avengers))\n",
    "avengers = ['hawkeye', 'hulk', 'thor', 'ironman', 'captain america']\n",
    "marvel = ['wanda', 'vision', 'wong']\n",
    "print(\"len(avengers) =\", len(avengers))\n",
    "print(\"avengers =\", avengers)\n",
    "\n",
    "avengers.append(marvel)\n",
    "print(\"**************\")\n",
    "\n",
    "print(\"len(avengers) =\", len(avengers))\n",
    "print(\"avengers =\", avengers)"
   ]
  },
  {
   "cell_type": "code",
   "execution_count": 48,
   "metadata": {},
   "outputs": [
    {
     "name": "stdout",
     "output_type": "stream",
     "text": [
      "avengers = ['hawkeye', 'hulk', 'thor', 'ironman', 'captain america', ['wanda', 'vision', 'wong']]\n"
     ]
    }
   ],
   "source": [
    "print(\"avengers =\", avengers)"
   ]
  },
  {
   "cell_type": "code",
   "execution_count": 49,
   "metadata": {},
   "outputs": [
    {
     "name": "stdout",
     "output_type": "stream",
     "text": [
      "avengers[4] = captain america\n"
     ]
    }
   ],
   "source": [
    "print(\"avengers[4] =\", avengers[4])"
   ]
  },
  {
   "cell_type": "code",
   "execution_count": 50,
   "metadata": {},
   "outputs": [
    {
     "name": "stdout",
     "output_type": "stream",
     "text": [
      "avengers[5] = ['wanda', 'vision', 'wong']\n"
     ]
    }
   ],
   "source": [
    "print(\"avengers[5] =\", avengers[5])"
   ]
  },
  {
   "cell_type": "code",
   "execution_count": 51,
   "metadata": {},
   "outputs": [
    {
     "name": "stdout",
     "output_type": "stream",
     "text": [
      "avengers[5][1] = vision\n"
     ]
    }
   ],
   "source": [
    "print(\"avengers[5][1] =\", avengers[5][1])"
   ]
  },
  {
   "cell_type": "code",
   "execution_count": 52,
   "metadata": {},
   "outputs": [
    {
     "name": "stdout",
     "output_type": "stream",
     "text": [
      "avengers[5][1][2] = s\n"
     ]
    }
   ],
   "source": [
    "print(\"avengers[5][1][2] =\", avengers[5][1][2])"
   ]
  },
  {
   "cell_type": "code",
   "execution_count": 53,
   "metadata": {},
   "outputs": [],
   "source": [
    "avengers = ['hawkeye', 'hulk', 'thor', 'ironman', 'captain america']\n",
    "\n",
    "ave = avengers"
   ]
  },
  {
   "cell_type": "code",
   "execution_count": 54,
   "metadata": {},
   "outputs": [
    {
     "name": "stdout",
     "output_type": "stream",
     "text": [
      "avengers = ['hawkeye', 'hulk', 'thor', 'ironman', 'captain america']\n",
      "ave = ['hawkeye', 'hulk', 'thor', 'ironman', 'captain america']\n"
     ]
    }
   ],
   "source": [
    "print(\"avengers =\", avengers)\n",
    "print(\"ave =\", ave)"
   ]
  },
  {
   "cell_type": "code",
   "execution_count": 55,
   "metadata": {},
   "outputs": [
    {
     "data": {
      "text/plain": [
       "'ironman'"
      ]
     },
     "execution_count": 55,
     "metadata": {},
     "output_type": "execute_result"
    }
   ],
   "source": [
    "avengers.sort()\n",
    "avengers.remove('hulk')\n",
    "avengers.pop(2)"
   ]
  },
  {
   "cell_type": "code",
   "execution_count": 56,
   "metadata": {},
   "outputs": [
    {
     "name": "stdout",
     "output_type": "stream",
     "text": [
      "avengers = ['captain america', 'hawkeye', 'thor']\n",
      "ave = ['captain america', 'hawkeye', 'thor']\n"
     ]
    }
   ],
   "source": [
    "print(\"avengers =\", avengers)\n",
    "print(\"ave =\", ave)"
   ]
  },
  {
   "cell_type": "code",
   "execution_count": 57,
   "metadata": {},
   "outputs": [],
   "source": [
    "ave.insert(1, \"hulk\")"
   ]
  },
  {
   "cell_type": "code",
   "execution_count": 58,
   "metadata": {},
   "outputs": [
    {
     "name": "stdout",
     "output_type": "stream",
     "text": [
      "avengers = ['captain america', 'hulk', 'hawkeye', 'thor']\n",
      "ave = ['captain america', 'hulk', 'hawkeye', 'thor']\n"
     ]
    }
   ],
   "source": [
    "print(\"avengers =\", avengers)\n",
    "print(\"ave =\", ave)"
   ]
  },
  {
   "cell_type": "code",
   "execution_count": 59,
   "metadata": {},
   "outputs": [],
   "source": [
    "avengers = ['hawkeye', 'hulk', 'thor', 'ironman', 'captain america']\n",
    "\n",
    "ave = avengers.copy()"
   ]
  },
  {
   "cell_type": "code",
   "execution_count": 60,
   "metadata": {},
   "outputs": [
    {
     "name": "stdout",
     "output_type": "stream",
     "text": [
      "avengers = ['hawkeye', 'hulk', 'thor', 'ironman', 'captain america']\n",
      "ave = ['hawkeye', 'hulk', 'thor', 'ironman', 'captain america']\n"
     ]
    }
   ],
   "source": [
    "print(\"avengers =\", avengers)\n",
    "print(\"ave =\", ave)"
   ]
  },
  {
   "cell_type": "code",
   "execution_count": 61,
   "metadata": {},
   "outputs": [
    {
     "data": {
      "text/plain": [
       "'ironman'"
      ]
     },
     "execution_count": 61,
     "metadata": {},
     "output_type": "execute_result"
    }
   ],
   "source": [
    "avengers.sort()\n",
    "avengers.remove('hulk')\n",
    "avengers.pop(2)"
   ]
  },
  {
   "cell_type": "code",
   "execution_count": 62,
   "metadata": {},
   "outputs": [
    {
     "name": "stdout",
     "output_type": "stream",
     "text": [
      "avengers = ['captain america', 'hawkeye', 'thor']\n",
      "ave = ['hawkeye', 'hulk', 'thor', 'ironman', 'captain america']\n"
     ]
    }
   ],
   "source": [
    "print(\"avengers =\", avengers)\n",
    "print(\"ave =\", ave)"
   ]
  },
  {
   "cell_type": "code",
   "execution_count": null,
   "metadata": {},
   "outputs": [],
   "source": []
  }
 ],
 "metadata": {
  "kernelspec": {
   "display_name": "Python 3",
   "language": "python",
   "name": "python3"
  },
  "language_info": {
   "codemirror_mode": {
    "name": "ipython",
    "version": 3
   },
   "file_extension": ".py",
   "mimetype": "text/x-python",
   "name": "python",
   "nbconvert_exporter": "python",
   "pygments_lexer": "ipython3",
   "version": "3.7.7"
  }
 },
 "nbformat": 4,
 "nbformat_minor": 4
}
