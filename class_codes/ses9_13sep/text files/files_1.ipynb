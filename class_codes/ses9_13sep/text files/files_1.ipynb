{
 "cells": [
  {
   "cell_type": "code",
   "execution_count": 1,
   "metadata": {},
   "outputs": [],
   "source": [
    "objf = open(\"books.txt\", \"r\")"
   ]
  },
  {
   "cell_type": "code",
   "execution_count": 2,
   "metadata": {},
   "outputs": [],
   "source": [
    "stra = objf.read(5)"
   ]
  },
  {
   "cell_type": "code",
   "execution_count": 3,
   "metadata": {},
   "outputs": [
    {
     "name": "stdout",
     "output_type": "stream",
     "text": [
      "<class 'str'>\n"
     ]
    }
   ],
   "source": [
    "print(type(stra))"
   ]
  },
  {
   "cell_type": "code",
   "execution_count": 4,
   "metadata": {},
   "outputs": [
    {
     "data": {
      "text/plain": [
       "'UTF-8'"
      ]
     },
     "execution_count": 4,
     "metadata": {},
     "output_type": "execute_result"
    }
   ],
   "source": [
    "objf.encoding"
   ]
  },
  {
   "cell_type": "code",
   "execution_count": 5,
   "metadata": {},
   "outputs": [
    {
     "name": "stdout",
     "output_type": "stream",
     "text": [
      "Ninet\n"
     ]
    }
   ],
   "source": [
    "print(stra)"
   ]
  },
  {
   "cell_type": "code",
   "execution_count": 6,
   "metadata": {},
   "outputs": [
    {
     "name": "stdout",
     "output_type": "stream",
     "text": [
      "5\n"
     ]
    }
   ],
   "source": [
    "print(objf.tell())"
   ]
  },
  {
   "cell_type": "code",
   "execution_count": 7,
   "metadata": {},
   "outputs": [],
   "source": [
    "stra = objf.read(5)"
   ]
  },
  {
   "cell_type": "code",
   "execution_count": 8,
   "metadata": {},
   "outputs": [
    {
     "name": "stdout",
     "output_type": "stream",
     "text": [
      "een E\n"
     ]
    }
   ],
   "source": [
    "print(stra)"
   ]
  },
  {
   "cell_type": "code",
   "execution_count": 9,
   "metadata": {},
   "outputs": [
    {
     "name": "stdout",
     "output_type": "stream",
     "text": [
      "ighty Four\n",
      "mangas\n",
      "The Great Gatsby\n",
      "To Kill a Mockingbird\n",
      "Anna Karenina\n",
      "The Scarlett letter \n",
      "The Lord of the rings \n"
     ]
    }
   ],
   "source": [
    "strb = objf.read()\n",
    "\n",
    "print(strb)"
   ]
  },
  {
   "cell_type": "code",
   "execution_count": 10,
   "metadata": {},
   "outputs": [],
   "source": [
    "objf.close()"
   ]
  },
  {
   "cell_type": "code",
   "execution_count": 11,
   "metadata": {},
   "outputs": [
    {
     "ename": "ValueError",
     "evalue": "I/O operation on closed file.",
     "output_type": "error",
     "traceback": [
      "\u001b[0;31m---------------------------------------------------------------------------\u001b[0m",
      "\u001b[0;31mValueError\u001b[0m                                Traceback (most recent call last)",
      "\u001b[0;32m<ipython-input-11-18f5f9d19b36>\u001b[0m in \u001b[0;36m<module>\u001b[0;34m\u001b[0m\n\u001b[0;32m----> 1\u001b[0;31m \u001b[0mobjf\u001b[0m\u001b[0;34m.\u001b[0m\u001b[0mread\u001b[0m\u001b[0;34m(\u001b[0m\u001b[0;34m)\u001b[0m\u001b[0;34m\u001b[0m\u001b[0;34m\u001b[0m\u001b[0m\n\u001b[0m",
      "\u001b[0;31mValueError\u001b[0m: I/O operation on closed file."
     ]
    }
   ],
   "source": [
    "objf.read()"
   ]
  },
  {
   "cell_type": "code",
   "execution_count": 12,
   "metadata": {},
   "outputs": [
    {
     "data": {
      "text/plain": [
       "'Nineteen Eighty Four\\n'"
      ]
     },
     "execution_count": 12,
     "metadata": {},
     "output_type": "execute_result"
    }
   ],
   "source": [
    "objf = open(\"books.txt\", \"r\")\n",
    "stra = objf.readline()\n",
    "\n",
    "stra"
   ]
  },
  {
   "cell_type": "code",
   "execution_count": 13,
   "metadata": {},
   "outputs": [
    {
     "data": {
      "text/plain": [
       "'mangas\\n'"
      ]
     },
     "execution_count": 13,
     "metadata": {},
     "output_type": "execute_result"
    }
   ],
   "source": [
    "strb = objf.readline()\n",
    "\n",
    "strb"
   ]
  },
  {
   "cell_type": "code",
   "execution_count": 14,
   "metadata": {},
   "outputs": [
    {
     "data": {
      "text/plain": [
       "'The Great Gatsby\\nTo Kill a Mockingbird\\nAnna Karenina\\nThe Scarlett letter \\nThe Lord of the rings '"
      ]
     },
     "execution_count": 14,
     "metadata": {},
     "output_type": "execute_result"
    }
   ],
   "source": [
    "strc = objf.read()\n",
    "\n",
    "strc"
   ]
  },
  {
   "cell_type": "code",
   "execution_count": 15,
   "metadata": {},
   "outputs": [
    {
     "name": "stdout",
     "output_type": "stream",
     "text": [
      "The Great Gatsby\n",
      "To Kill a Mockingbird\n",
      "Anna Karenina\n",
      "The Scarlett letter \n",
      "The Lord of the rings \n"
     ]
    }
   ],
   "source": [
    "print(strc)"
   ]
  },
  {
   "cell_type": "code",
   "execution_count": 16,
   "metadata": {},
   "outputs": [
    {
     "data": {
      "text/plain": [
       "''"
      ]
     },
     "execution_count": 16,
     "metadata": {},
     "output_type": "execute_result"
    }
   ],
   "source": [
    "strc = objf.read()\n",
    "\n",
    "strc"
   ]
  },
  {
   "cell_type": "code",
   "execution_count": 18,
   "metadata": {},
   "outputs": [
    {
     "name": "stdout",
     "output_type": "stream",
     "text": [
      "124\n"
     ]
    }
   ],
   "source": [
    "print(objf.tell()) "
   ]
  },
  {
   "cell_type": "code",
   "execution_count": 19,
   "metadata": {},
   "outputs": [],
   "source": [
    "objf.close()"
   ]
  },
  {
   "cell_type": "code",
   "execution_count": 20,
   "metadata": {},
   "outputs": [
    {
     "data": {
      "text/plain": [
       "True"
      ]
     },
     "execution_count": 20,
     "metadata": {},
     "output_type": "execute_result"
    }
   ],
   "source": [
    "objf.closed"
   ]
  },
  {
   "cell_type": "code",
   "execution_count": 21,
   "metadata": {},
   "outputs": [],
   "source": [
    "objf = open(\"books.txt\", \"r\")\n",
    "lista = objf.readlines()\n",
    "objf.close()"
   ]
  },
  {
   "cell_type": "code",
   "execution_count": 22,
   "metadata": {},
   "outputs": [
    {
     "data": {
      "text/plain": [
       "['Nineteen Eighty Four\\n',\n",
       " 'mangas\\n',\n",
       " 'The Great Gatsby\\n',\n",
       " 'To Kill a Mockingbird\\n',\n",
       " 'Anna Karenina\\n',\n",
       " 'The Scarlett letter \\n',\n",
       " 'The Lord of the rings ']"
      ]
     },
     "execution_count": 22,
     "metadata": {},
     "output_type": "execute_result"
    }
   ],
   "source": [
    "lista"
   ]
  },
  {
   "cell_type": "code",
   "execution_count": 23,
   "metadata": {},
   "outputs": [
    {
     "name": "stdout",
     "output_type": "stream",
     "text": [
      "line = Nineteen Eighty Four\n",
      "\n",
      "line = mangas\n",
      "\n",
      "line = The Great Gatsby\n",
      "\n",
      "line = To Kill a Mockingbird\n",
      "\n",
      "line = Anna Karenina\n",
      "\n",
      "line = The Scarlett letter \n",
      "\n",
      "line = The Lord of the rings \n"
     ]
    }
   ],
   "source": [
    "for line in lista:\n",
    "    print(\"line =\", line)"
   ]
  },
  {
   "cell_type": "code",
   "execution_count": 24,
   "metadata": {},
   "outputs": [
    {
     "data": {
      "text/plain": [
       "['Nineteen',\n",
       " 'Eighty',\n",
       " 'Four',\n",
       " 'mangas',\n",
       " 'The',\n",
       " 'Great',\n",
       " 'Gatsby',\n",
       " 'To',\n",
       " 'Kill',\n",
       " 'a',\n",
       " 'Mockingbird',\n",
       " 'Anna',\n",
       " 'Karenina',\n",
       " 'The',\n",
       " 'Scarlett',\n",
       " 'letter',\n",
       " 'The',\n",
       " 'Lord',\n",
       " 'of',\n",
       " 'the',\n",
       " 'rings']"
      ]
     },
     "execution_count": 24,
     "metadata": {},
     "output_type": "execute_result"
    }
   ],
   "source": [
    "objf = open(\"books.txt\", \"r\")\n",
    "strx = objf.read()\n",
    "objf.close()\n",
    "\n",
    "strx.split()"
   ]
  },
  {
   "cell_type": "code",
   "execution_count": 28,
   "metadata": {
    "scrolled": true
   },
   "outputs": [],
   "source": [
    "obja = open(\"avengers.txt\", \"r\")\n",
    "\n",
    "strx = obja.read()\n",
    "\n",
    "listx = strx.split(\"--\")\n",
    "\n",
    "obja.close()"
   ]
  },
  {
   "cell_type": "code",
   "execution_count": 27,
   "metadata": {},
   "outputs": [
    {
     "data": {
      "text/plain": [
       "['ironman:suit', 'hulk:smash', 'captain:shield', 'black widow:sheer elegance']"
      ]
     },
     "execution_count": 27,
     "metadata": {},
     "output_type": "execute_result"
    }
   ],
   "source": [
    "listx"
   ]
  },
  {
   "cell_type": "code",
   "execution_count": 29,
   "metadata": {},
   "outputs": [
    {
     "name": "stdout",
     "output_type": "stream",
     "text": [
      "no thor, get loki\n"
     ]
    }
   ],
   "source": [
    "obja = open(\"avengers.txt\", \"r\")\n",
    "\n",
    "strx = obja.read()\n",
    "\n",
    "if 'thor' in strx.lower():\n",
    "    print('we have the god of thunder')\n",
    "else:\n",
    "    print(\"no thor, get loki\")\n",
    "\n",
    "obja.close()"
   ]
  },
  {
   "cell_type": "code",
   "execution_count": 30,
   "metadata": {},
   "outputs": [
    {
     "name": "stdout",
     "output_type": "stream",
     "text": [
      "we have the captain\n"
     ]
    }
   ],
   "source": [
    "obja = open(\"avengers.txt\", \"r\")\n",
    "\n",
    "strx = obja.read()\n",
    "\n",
    "if 'captain' in strx.lower():\n",
    "    print('we have the captain')\n",
    "else:\n",
    "    print(\"no captain, get thanos\")\n",
    "\n",
    "obja.close()"
   ]
  },
  {
   "cell_type": "code",
   "execution_count": 31,
   "metadata": {},
   "outputs": [],
   "source": [
    "# file can have errors or execution logs\n",
    "# low risk errors start with ER, have the term \"ERROR\" at the end\"  \"ERROR\" \"ERROR\\n\" \"ERROR \" \n",
    "# high risk errors start with ER, have the term \"END\" at the end\""
   ]
  },
  {
   "cell_type": "code",
   "execution_count": 39,
   "metadata": {},
   "outputs": [
    {
     "name": "stdout",
     "output_type": "stream",
     "text": [
      "low risk error -->  ER12_CON_PORTERROR\n",
      "\n",
      "low risk error -->  ER23_PRINT_USBERROR\n",
      "\n",
      "low risk error -->  ER45_PRINT_MONITORERROR\n",
      "\n",
      "high risk error -->  ER29_PRINT_SYSEND\n"
     ]
    }
   ],
   "source": [
    "fileObject = open(\"data.txt\", \"r\")\n",
    "\n",
    "listObject = fileObject.readlines()\n",
    "\n",
    "for line in listObject:\n",
    "    if line[0:2] == \"ER\":\n",
    "        if line[-6:] == \"ERROR\\n\":\n",
    "            print(\"low risk error --> \", line)\n",
    "        elif line[-3:] == \"END\":\n",
    "            print(\"high risk error --> \", line)\n",
    "        else:\n",
    "            print(\"wrong log\")\n",
    "        "
   ]
  },
  {
   "cell_type": "code",
   "execution_count": 42,
   "metadata": {},
   "outputs": [],
   "source": [
    "fileObject = open(\"data.txt\", \"r\")\n",
    "\n",
    "listObject = fileObject.readlines()\n",
    "\n",
    "highRiskError = []\n",
    "lowRiskError = []\n",
    "\n",
    "for line in listObject:\n",
    "    if line[0:2] == \"ER\" and \"ERROR\" in line[-6:]:\n",
    "        lowRiskError.append(line)\n",
    "    elif line[0:2] == \"ER\" and \"END\" in line[-4:]:\n",
    "        highRiskError.append(line)"
   ]
  },
  {
   "cell_type": "code",
   "execution_count": 43,
   "metadata": {},
   "outputs": [
    {
     "name": "stdout",
     "output_type": "stream",
     "text": [
      "['ER12_CON_PORTERROR\\n', 'ER23_PRINT_USBERROR\\n', 'ER45_PRINT_MONITORERROR\\n']\n"
     ]
    }
   ],
   "source": [
    "print(lowRiskError)"
   ]
  },
  {
   "cell_type": "code",
   "execution_count": 44,
   "metadata": {},
   "outputs": [
    {
     "name": "stdout",
     "output_type": "stream",
     "text": [
      "['ER29_PRINT_SYSEND']\n"
     ]
    }
   ],
   "source": [
    "print(highRiskError)"
   ]
  },
  {
   "cell_type": "code",
   "execution_count": 46,
   "metadata": {},
   "outputs": [
    {
     "name": "stdout",
     "output_type": "stream",
     "text": [
      "num of high risk errors = 1\n",
      "num of low risk errors = 3\n"
     ]
    }
   ],
   "source": [
    "\n",
    "fileObject = open(\"data.txt\", \"r\")\n",
    "listObject = fileObject.readlines()\n",
    "fileObject.close()\n",
    "\n",
    "highRiskError = []\n",
    "lowRiskError = []\n",
    "\n",
    "for line in listObject:\n",
    "    if line[0:2] == \"ER\" and \"ERROR\" in line[-6:]:\n",
    "        lowRiskError.append(line)\n",
    "    elif line[0:2] == \"ER\" and \"END\" in line[-3:]:\n",
    "        highRiskError.append(line)\n",
    "        \n",
    "print(\"num of high risk errors =\", len(highRiskError))\n",
    "print(\"num of low risk errors =\", len(lowRiskError))"
   ]
  },
  {
   "cell_type": "code",
   "execution_count": 50,
   "metadata": {},
   "outputs": [],
   "source": [
    "def check_logs(file_name):\n",
    "    fileObject = open(file_name, \"r\")\n",
    "    listObject = fileObject.readlines()\n",
    "    fileObject.close()\n",
    "\n",
    "    highRiskError = []\n",
    "    lowRiskError = []\n",
    "\n",
    "    for line in listObject:\n",
    "        if line[0:2] == \"ER\" and \"ERROR\" in line[-6:]:\n",
    "            lowRiskError.append(line[2:4])\n",
    "        elif line[0:2] == \"ER\" and \"END\" in line[-3:]:\n",
    "            highRiskError.append(line[2:4])\n",
    "    return highRiskError, lowRiskError"
   ]
  },
  {
   "cell_type": "code",
   "execution_count": 51,
   "metadata": {},
   "outputs": [],
   "source": [
    "hE, lE = check_logs(\"data.txt\")"
   ]
  },
  {
   "cell_type": "code",
   "execution_count": 61,
   "metadata": {},
   "outputs": [],
   "source": [
    "import time"
   ]
  },
  {
   "cell_type": "code",
   "execution_count": 52,
   "metadata": {},
   "outputs": [
    {
     "name": "stdout",
     "output_type": "stream",
     "text": [
      "['29']\n"
     ]
    }
   ],
   "source": [
    "print(hE)"
   ]
  },
  {
   "cell_type": "code",
   "execution_count": 59,
   "metadata": {},
   "outputs": [],
   "source": [
    "def check_logs(file_name):\n",
    "    fileObject = open(file_name, \"r\")\n",
    "    listObject = fileObject.readlines()\n",
    "    fileObject.close()\n",
    "\n",
    "    highRiskError = []\n",
    "    lowRiskError = []\n",
    "\n",
    "    for line in listObject:\n",
    "        if line[0:2] == \"ER\" and \"ERROR\" in line[-6:]:\n",
    "            lowRiskError.append(line[2:4])\n",
    "        elif line[0:2] == \"ER\" and \"END\" in line[-4:]:\n",
    "            highRiskError.append(line[2:4])\n",
    "    return highRiskError, lowRiskError"
   ]
  },
  {
   "cell_type": "code",
   "execution_count": 63,
   "metadata": {},
   "outputs": [
    {
     "name": "stdout",
     "output_type": "stream",
     "text": [
      "num of high risk errors --> 1\n",
      "num of low risk errors --> 4\n",
      "num of high risk errors --> 2\n",
      "num of low risk errors --> 4\n"
     ]
    },
    {
     "ename": "KeyboardInterrupt",
     "evalue": "",
     "output_type": "error",
     "traceback": [
      "\u001b[0;31m---------------------------------------------------------------------------\u001b[0m",
      "\u001b[0;31mKeyboardInterrupt\u001b[0m                         Traceback (most recent call last)",
      "\u001b[0;32m<ipython-input-63-e1236068cd08>\u001b[0m in \u001b[0;36m<module>\u001b[0;34m\u001b[0m\n\u001b[1;32m      9\u001b[0m         \u001b[0mprint\u001b[0m\u001b[0;34m(\u001b[0m\u001b[0;34m\"num of high risk errors -->\"\u001b[0m\u001b[0;34m,\u001b[0m \u001b[0mnum_hE\u001b[0m\u001b[0;34m)\u001b[0m\u001b[0;34m\u001b[0m\u001b[0;34m\u001b[0m\u001b[0m\n\u001b[1;32m     10\u001b[0m         \u001b[0mprint\u001b[0m\u001b[0;34m(\u001b[0m\u001b[0;34m\"num of low risk errors -->\"\u001b[0m\u001b[0;34m,\u001b[0m \u001b[0mnum_lE\u001b[0m\u001b[0;34m)\u001b[0m\u001b[0;34m\u001b[0m\u001b[0;34m\u001b[0m\u001b[0m\n\u001b[0;32m---> 11\u001b[0;31m     \u001b[0mtime\u001b[0m\u001b[0;34m.\u001b[0m\u001b[0msleep\u001b[0m\u001b[0;34m(\u001b[0m\u001b[0;36m5\u001b[0m\u001b[0;34m)\u001b[0m\u001b[0;34m\u001b[0m\u001b[0;34m\u001b[0m\u001b[0m\n\u001b[0m",
      "\u001b[0;31mKeyboardInterrupt\u001b[0m: "
     ]
    }
   ],
   "source": [
    "num_hE = 0\n",
    "num_le = 0\n",
    "\n",
    "while True:\n",
    "    hE, lE = check_logs(\"data.txt\")\n",
    "    if num_hE != len(hE) or num_lE != len(lE):\n",
    "        num_hE = len(hE)\n",
    "        num_lE = len(lE)\n",
    "        print(\"num of high risk errors -->\", num_hE)\n",
    "        print(\"num of low risk errors -->\", num_lE)\n",
    "    time.sleep(5)"
   ]
  },
  {
   "cell_type": "code",
   "execution_count": 66,
   "metadata": {},
   "outputs": [
    {
     "data": {
      "text/plain": [
       "27"
      ]
     },
     "execution_count": 66,
     "metadata": {},
     "output_type": "execute_result"
    }
   ],
   "source": [
    "objw = open(\"sample.txt\", \"w\")\n",
    "\n",
    "objw.write(\"tuesday\" + \"\\n\")\n",
    "objw.write(\"the thirteenth of september\")"
   ]
  },
  {
   "cell_type": "code",
   "execution_count": 67,
   "metadata": {},
   "outputs": [],
   "source": [
    "objw.close()"
   ]
  },
  {
   "cell_type": "code",
   "execution_count": 68,
   "metadata": {},
   "outputs": [
    {
     "name": "stdout",
     "output_type": "stream",
     "text": [
      "status has changed, please check error_numbers.txt for more details\n",
      "status has changed, please check error_numbers.txt for more details\n"
     ]
    },
    {
     "ename": "KeyboardInterrupt",
     "evalue": "",
     "output_type": "error",
     "traceback": [
      "\u001b[0;31m---------------------------------------------------------------------------\u001b[0m",
      "\u001b[0;31mKeyboardInterrupt\u001b[0m                         Traceback (most recent call last)",
      "\u001b[0;32m<ipython-input-68-afbbe10dfb2b>\u001b[0m in \u001b[0;36m<module>\u001b[0;34m\u001b[0m\n\u001b[1;32m     13\u001b[0m         \u001b[0mprint\u001b[0m\u001b[0;34m(\u001b[0m\u001b[0;34m\"status has changed, please check error_numbers.txt for more details\"\u001b[0m\u001b[0;34m)\u001b[0m\u001b[0;34m\u001b[0m\u001b[0;34m\u001b[0m\u001b[0m\n\u001b[1;32m     14\u001b[0m \u001b[0;34m\u001b[0m\u001b[0m\n\u001b[0;32m---> 15\u001b[0;31m     \u001b[0mtime\u001b[0m\u001b[0;34m.\u001b[0m\u001b[0msleep\u001b[0m\u001b[0;34m(\u001b[0m\u001b[0;36m5\u001b[0m\u001b[0;34m)\u001b[0m\u001b[0;34m\u001b[0m\u001b[0;34m\u001b[0m\u001b[0m\n\u001b[0m",
      "\u001b[0;31mKeyboardInterrupt\u001b[0m: "
     ]
    }
   ],
   "source": [
    "def check_logs(file_name):\n",
    "    fileObject = open(file_name, \"r\")\n",
    "    listObject = fileObject.readlines()\n",
    "    fileObject.close()\n",
    "\n",
    "    highRiskError = []\n",
    "    lowRiskError = []\n",
    "\n",
    "    for line in listObject:\n",
    "        if line[0:2] == \"ER\" and \"ERROR\" in line[-6:]:\n",
    "            lowRiskError.append(line[2:4])\n",
    "        elif line[0:2] == \"ER\" and \"END\" in line[-4:]:\n",
    "            highRiskError.append(line[2:4])\n",
    "    return highRiskError, lowRiskError\n",
    "\n",
    "num_hE = 0\n",
    "num_le = 0\n",
    "\n",
    "while True:\n",
    "    hE, lE = check_logs(\"data.txt\")\n",
    "    if num_hE != len(hE) or num_lE != len(lE):\n",
    "        num_hE = len(hE)\n",
    "        num_lE = len(lE)\n",
    "        objw = open(\"error_numbers.txt\", \"w\")\n",
    "        objw.write(\"high risk errors =\" + str(hE) + \"\\n\")\n",
    "        objw.write(\"low risk errors =\" + str(lE))\n",
    "        objw.close()\n",
    "        print(\"status has changed, please check error_numbers.txt for more details\")\n",
    "        \n",
    "    time.sleep(5)"
   ]
  },
  {
   "cell_type": "code",
   "execution_count": 69,
   "metadata": {},
   "outputs": [
    {
     "data": {
      "text/plain": [
       "['Nineteen Eighty Four\\n',\n",
       " 'mangas\\n',\n",
       " 'The Great Gatsby\\n',\n",
       " 'To Kill a Mockingbird\\n',\n",
       " 'Anna Karenina\\n',\n",
       " 'The Scarlett letter \\n',\n",
       " 'The Lord of the rings ']"
      ]
     },
     "execution_count": 69,
     "metadata": {},
     "output_type": "execute_result"
    }
   ],
   "source": [
    "with open(\"books.txt\", \"r\") as objf:\n",
    "    lista = objf.readlines()\n",
    "    pass\n",
    "\n",
    "lista"
   ]
  },
  {
   "cell_type": "code",
   "execution_count": null,
   "metadata": {},
   "outputs": [],
   "source": []
  }
 ],
 "metadata": {
  "kernelspec": {
   "display_name": "Python 3",
   "language": "python",
   "name": "python3"
  },
  "language_info": {
   "codemirror_mode": {
    "name": "ipython",
    "version": 3
   },
   "file_extension": ".py",
   "mimetype": "text/x-python",
   "name": "python",
   "nbconvert_exporter": "python",
   "pygments_lexer": "ipython3",
   "version": "3.7.7"
  }
 },
 "nbformat": 4,
 "nbformat_minor": 4
}
