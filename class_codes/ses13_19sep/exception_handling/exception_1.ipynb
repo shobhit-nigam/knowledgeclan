{
 "cells": [
  {
   "cell_type": "code",
   "execution_count": 1,
   "metadata": {},
   "outputs": [
    {
     "ename": "SyntaxError",
     "evalue": "invalid syntax (<ipython-input-1-c4e08cc35215>, line 3)",
     "output_type": "error",
     "traceback": [
      "\u001b[0;36m  File \u001b[0;32m\"<ipython-input-1-c4e08cc35215>\"\u001b[0;36m, line \u001b[0;32m3\u001b[0m\n\u001b[0;31m    if (amount > 5000)\u001b[0m\n\u001b[0m                      ^\u001b[0m\n\u001b[0;31mSyntaxError\u001b[0m\u001b[0;31m:\u001b[0m invalid syntax\n"
     ]
    }
   ],
   "source": [
    "amount = 1000\n",
    "\n",
    "if (amount > 5000)\n",
    "    print(\"amount is greater\")"
   ]
  },
  {
   "cell_type": "code",
   "execution_count": 3,
   "metadata": {},
   "outputs": [],
   "source": [
    "amount = 1000\n",
    "\n",
    "if (amount > 5000):\n",
    "    print(\"amount is greater\")"
   ]
  },
  {
   "cell_type": "code",
   "execution_count": 5,
   "metadata": {},
   "outputs": [
    {
     "name": "stdout",
     "output_type": "stream",
     "text": [
      "please enter the index11\n"
     ]
    },
    {
     "ename": "IndexError",
     "evalue": "list index out of range",
     "output_type": "error",
     "traceback": [
      "\u001b[0;31m---------------------------------------------------------------------------\u001b[0m",
      "\u001b[0;31mIndexError\u001b[0m                                Traceback (most recent call last)",
      "\u001b[0;32m<ipython-input-5-ef4cb753e24e>\u001b[0m in \u001b[0;36m<module>\u001b[0;34m\u001b[0m\n\u001b[1;32m      2\u001b[0m \u001b[0;34m\u001b[0m\u001b[0m\n\u001b[1;32m      3\u001b[0m \u001b[0mi\u001b[0m \u001b[0;34m=\u001b[0m \u001b[0mint\u001b[0m\u001b[0;34m(\u001b[0m\u001b[0minput\u001b[0m\u001b[0;34m(\u001b[0m\u001b[0;34m\"please enter the index\"\u001b[0m\u001b[0;34m)\u001b[0m\u001b[0;34m)\u001b[0m\u001b[0;34m\u001b[0m\u001b[0;34m\u001b[0m\u001b[0m\n\u001b[0;32m----> 4\u001b[0;31m \u001b[0mprint\u001b[0m\u001b[0;34m(\u001b[0m\u001b[0;34m\"value is \"\u001b[0m\u001b[0;34m,\u001b[0m \u001b[0mlisty\u001b[0m\u001b[0;34m[\u001b[0m\u001b[0mi\u001b[0m\u001b[0;34m]\u001b[0m\u001b[0;34m)\u001b[0m\u001b[0;34m\u001b[0m\u001b[0;34m\u001b[0m\u001b[0m\n\u001b[0m",
      "\u001b[0;31mIndexError\u001b[0m: list index out of range"
     ]
    }
   ],
   "source": [
    "listy = [100, 200, 300, 400, 500]\n",
    "\n",
    "i = int(input(\"please enter the index\"))\n",
    "print(\"value is \", listy[i])"
   ]
  },
  {
   "cell_type": "code",
   "execution_count": 6,
   "metadata": {},
   "outputs": [
    {
     "name": "stdout",
     "output_type": "stream",
     "text": [
      "please enter the index2\n",
      "value is  300\n",
      "code continues....\n"
     ]
    }
   ],
   "source": [
    "listy = [100, 200, 300, 400, 500]\n",
    "try:\n",
    "    i = int(input(\"please enter the index\"))\n",
    "    print(\"value is \", listy[i]) \n",
    "except IndexError:\n",
    "    print(\"you did not enter the right index\")\n",
    "    print(\"defaulting index to zero, so val = \",listy[0])\n",
    "    \n",
    "print(\"code continues....\")"
   ]
  },
  {
   "cell_type": "code",
   "execution_count": 7,
   "metadata": {},
   "outputs": [
    {
     "name": "stdout",
     "output_type": "stream",
     "text": [
      "please enter the index11\n",
      "you did not enter the right index\n",
      "defaulting index to zero, so val =  100\n",
      "code continues....\n"
     ]
    }
   ],
   "source": [
    "listy = [100, 200, 300, 400, 500]\n",
    "try:\n",
    "    i = int(input(\"please enter the index\"))\n",
    "    print(\"value is \", listy[i]) \n",
    "except IndexError:\n",
    "    print(\"you did not enter the right index\")\n",
    "    print(\"defaulting index to zero, so val = \",listy[0])\n",
    "    \n",
    "print(\"code continues....\")"
   ]
  },
  {
   "cell_type": "code",
   "execution_count": 8,
   "metadata": {},
   "outputs": [
    {
     "name": "stdout",
     "output_type": "stream",
     "text": [
      "please enter the indexhi\n"
     ]
    },
    {
     "ename": "ValueError",
     "evalue": "invalid literal for int() with base 10: 'hi'",
     "output_type": "error",
     "traceback": [
      "\u001b[0;31m---------------------------------------------------------------------------\u001b[0m",
      "\u001b[0;31mValueError\u001b[0m                                Traceback (most recent call last)",
      "\u001b[0;32m<ipython-input-8-9eb544e6832b>\u001b[0m in \u001b[0;36m<module>\u001b[0;34m\u001b[0m\n\u001b[1;32m      1\u001b[0m \u001b[0mlisty\u001b[0m \u001b[0;34m=\u001b[0m \u001b[0;34m[\u001b[0m\u001b[0;36m100\u001b[0m\u001b[0;34m,\u001b[0m \u001b[0;36m200\u001b[0m\u001b[0;34m,\u001b[0m \u001b[0;36m300\u001b[0m\u001b[0;34m,\u001b[0m \u001b[0;36m400\u001b[0m\u001b[0;34m,\u001b[0m \u001b[0;36m500\u001b[0m\u001b[0;34m]\u001b[0m\u001b[0;34m\u001b[0m\u001b[0;34m\u001b[0m\u001b[0m\n\u001b[1;32m      2\u001b[0m \u001b[0;32mtry\u001b[0m\u001b[0;34m:\u001b[0m\u001b[0;34m\u001b[0m\u001b[0;34m\u001b[0m\u001b[0m\n\u001b[0;32m----> 3\u001b[0;31m     \u001b[0mi\u001b[0m \u001b[0;34m=\u001b[0m \u001b[0mint\u001b[0m\u001b[0;34m(\u001b[0m\u001b[0minput\u001b[0m\u001b[0;34m(\u001b[0m\u001b[0;34m\"please enter the index\"\u001b[0m\u001b[0;34m)\u001b[0m\u001b[0;34m)\u001b[0m\u001b[0;34m\u001b[0m\u001b[0;34m\u001b[0m\u001b[0m\n\u001b[0m\u001b[1;32m      4\u001b[0m     \u001b[0mprint\u001b[0m\u001b[0;34m(\u001b[0m\u001b[0;34m\"value is \"\u001b[0m\u001b[0;34m,\u001b[0m \u001b[0mlisty\u001b[0m\u001b[0;34m[\u001b[0m\u001b[0mi\u001b[0m\u001b[0;34m]\u001b[0m\u001b[0;34m)\u001b[0m\u001b[0;34m\u001b[0m\u001b[0;34m\u001b[0m\u001b[0m\n\u001b[1;32m      5\u001b[0m \u001b[0;32mexcept\u001b[0m \u001b[0mIndexError\u001b[0m\u001b[0;34m:\u001b[0m\u001b[0;34m\u001b[0m\u001b[0;34m\u001b[0m\u001b[0m\n",
      "\u001b[0;31mValueError\u001b[0m: invalid literal for int() with base 10: 'hi'"
     ]
    }
   ],
   "source": [
    "listy = [100, 200, 300, 400, 500]\n",
    "try:\n",
    "    i = int(input(\"please enter the index\"))\n",
    "    print(\"value is \", listy[i]) \n",
    "except IndexError:\n",
    "    print(\"you did not enter the right index\")\n",
    "    print(\"defaulting index to zero, so val = \",listy[0])\n",
    "    \n",
    "print(\"code continues....\")"
   ]
  },
  {
   "cell_type": "code",
   "execution_count": 9,
   "metadata": {},
   "outputs": [
    {
     "name": "stdout",
     "output_type": "stream",
     "text": [
      "please enter the indexhi\n",
      "you did not enter a number\n",
      "defaulting index to zero, so val =  100\n",
      "code continues....\n"
     ]
    }
   ],
   "source": [
    "listy = [100, 200, 300, 400, 500]\n",
    "try:\n",
    "    i = int(input(\"please enter the index\"))\n",
    "    print(\"value is \", listy[i]) \n",
    "except IndexError:\n",
    "    print(\"you did not enter the right index\")\n",
    "    print(\"defaulting index to zero, so val = \",listy[0])\n",
    "except ValueError:\n",
    "    print(\"you did not enter a number\")\n",
    "    print(\"defaulting index to zero, so val = \",listy[0])    \n",
    "    \n",
    "print(\"code continues....\")"
   ]
  },
  {
   "cell_type": "code",
   "execution_count": null,
   "metadata": {},
   "outputs": [],
   "source": [
    "num = 35"
   ]
  },
  {
   "cell_type": "code",
   "execution_count": 11,
   "metadata": {},
   "outputs": [
    {
     "name": "stdout",
     "output_type": "stream",
     "text": [
      "please enter a number:\n",
      "20\n",
      "number is too low\n",
      "get your value right, lets go again\n",
      "please enter a number:\n",
      "50\n",
      "number is too high\n",
      "get your value right, lets go again\n",
      "please enter a number:\n",
      "fifty\n",
      "get your value right, lets go again\n",
      "please enter a number:\n",
      "40\n",
      "number is too high\n",
      "get your value right, lets go again\n",
      "please enter a number:\n",
      "30\n",
      "number is too low\n",
      "get your value right, lets go again\n",
      "please enter a number:\n",
      "35\n",
      "you guessed the right number\n"
     ]
    }
   ],
   "source": [
    "while True:\n",
    "    try:\n",
    "        n = int(input(\"please enter a number:\\n\"))\n",
    "        if n < 35:\n",
    "            print(\"number is too low\")\n",
    "            raise ValueError\n",
    "        elif n > 35:\n",
    "            print(\"number is too high\")\n",
    "            raise ValueError\n",
    "        else:\n",
    "            print(\"you guessed the right number\")\n",
    "            break\n",
    "    except ValueError:\n",
    "        print(\"get your value right, lets go again\")"
   ]
  },
  {
   "cell_type": "code",
   "execution_count": 12,
   "metadata": {},
   "outputs": [
    {
     "ename": "FileNotFoundError",
     "evalue": "[Errno 2] No such file or directory: 'file_x.txt'",
     "output_type": "error",
     "traceback": [
      "\u001b[0;31m---------------------------------------------------------------------------\u001b[0m",
      "\u001b[0;31mFileNotFoundError\u001b[0m                         Traceback (most recent call last)",
      "\u001b[0;32m<ipython-input-12-2cf53698f264>\u001b[0m in \u001b[0;36m<module>\u001b[0;34m\u001b[0m\n\u001b[0;32m----> 1\u001b[0;31m \u001b[0mfa\u001b[0m \u001b[0;34m=\u001b[0m \u001b[0mopen\u001b[0m\u001b[0;34m(\u001b[0m\u001b[0;34m\"file_x.txt\"\u001b[0m\u001b[0;34m,\u001b[0m \u001b[0;34m\"r\"\u001b[0m\u001b[0;34m)\u001b[0m\u001b[0;34m\u001b[0m\u001b[0;34m\u001b[0m\u001b[0m\n\u001b[0m",
      "\u001b[0;31mFileNotFoundError\u001b[0m: [Errno 2] No such file or directory: 'file_x.txt'"
     ]
    }
   ],
   "source": [
    "fa = open(\"file_x.txt\", \"r\")"
   ]
  },
  {
   "cell_type": "code",
   "execution_count": 14,
   "metadata": {},
   "outputs": [
    {
     "name": "stdout",
     "output_type": "stream",
     "text": [
      "you got the filename wrong\n",
      "code continues\n"
     ]
    }
   ],
   "source": [
    "try:\n",
    "    fa = open(\"file_x.txt\", \"r\")\n",
    "except FileNotFoundError:\n",
    "    print(\"you got the filename wrong\")\n",
    "    # decide what do you want to do, based on your application \n",
    "    \n",
    "print(\"code continues\")"
   ]
  },
  {
   "cell_type": "code",
   "execution_count": null,
   "metadata": {},
   "outputs": [],
   "source": []
  }
 ],
 "metadata": {
  "kernelspec": {
   "display_name": "Python 3",
   "language": "python",
   "name": "python3"
  },
  "language_info": {
   "codemirror_mode": {
    "name": "ipython",
    "version": 3
   },
   "file_extension": ".py",
   "mimetype": "text/x-python",
   "name": "python",
   "nbconvert_exporter": "python",
   "pygments_lexer": "ipython3",
   "version": "3.7.7"
  }
 },
 "nbformat": 4,
 "nbformat_minor": 4
}
