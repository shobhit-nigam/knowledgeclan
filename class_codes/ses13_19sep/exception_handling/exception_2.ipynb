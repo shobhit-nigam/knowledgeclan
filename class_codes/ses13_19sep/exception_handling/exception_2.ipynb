{
 "cells": [
  {
   "cell_type": "code",
   "execution_count": 1,
   "metadata": {},
   "outputs": [
    {
     "name": "stdout",
     "output_type": "stream",
     "text": [
      "enter an index:\n",
      "11\n",
      "entered wrong index, defaulting to zero\n",
      "val = ff\n",
      "finally block gets called\n",
      "the code continues..\n"
     ]
    }
   ],
   "source": [
    "lista = ['ff', 'tt', 'dd', 'ww', 'xx', 'rr']\n",
    "\n",
    "try:\n",
    "    i = int(input(\"enter an index:\\n\"))\n",
    "    print(\"val =\", lista[i])\n",
    "except IndexError:\n",
    "    print(\"entered wrong index, defaulting to zero\")\n",
    "    i=0\n",
    "    print(\"val =\", lista[i])\n",
    "else:\n",
    "    print(\"else block gets called\")\n",
    "    # some code\n",
    "finally:\n",
    "    print(\"finally block gets called\")\n",
    "    # some code\n",
    "    \n",
    "print(\"the code continues..\")"
   ]
  },
  {
   "cell_type": "code",
   "execution_count": 2,
   "metadata": {},
   "outputs": [
    {
     "name": "stdout",
     "output_type": "stream",
     "text": [
      "enter an index:\n",
      "hello\n",
      "finally block gets called\n"
     ]
    },
    {
     "ename": "ValueError",
     "evalue": "invalid literal for int() with base 10: 'hello'",
     "output_type": "error",
     "traceback": [
      "\u001b[0;31m---------------------------------------------------------------------------\u001b[0m",
      "\u001b[0;31mValueError\u001b[0m                                Traceback (most recent call last)",
      "\u001b[0;32m<ipython-input-2-321242f8b153>\u001b[0m in \u001b[0;36m<module>\u001b[0;34m\u001b[0m\n\u001b[1;32m      2\u001b[0m \u001b[0;34m\u001b[0m\u001b[0m\n\u001b[1;32m      3\u001b[0m \u001b[0;32mtry\u001b[0m\u001b[0;34m:\u001b[0m\u001b[0;34m\u001b[0m\u001b[0;34m\u001b[0m\u001b[0m\n\u001b[0;32m----> 4\u001b[0;31m     \u001b[0mi\u001b[0m \u001b[0;34m=\u001b[0m \u001b[0mint\u001b[0m\u001b[0;34m(\u001b[0m\u001b[0minput\u001b[0m\u001b[0;34m(\u001b[0m\u001b[0;34m\"enter an index:\\n\"\u001b[0m\u001b[0;34m)\u001b[0m\u001b[0;34m)\u001b[0m\u001b[0;34m\u001b[0m\u001b[0;34m\u001b[0m\u001b[0m\n\u001b[0m\u001b[1;32m      5\u001b[0m     \u001b[0mprint\u001b[0m\u001b[0;34m(\u001b[0m\u001b[0;34m\"val =\"\u001b[0m\u001b[0;34m,\u001b[0m \u001b[0mlista\u001b[0m\u001b[0;34m[\u001b[0m\u001b[0mi\u001b[0m\u001b[0;34m]\u001b[0m\u001b[0;34m)\u001b[0m\u001b[0;34m\u001b[0m\u001b[0;34m\u001b[0m\u001b[0m\n\u001b[1;32m      6\u001b[0m \u001b[0;32mexcept\u001b[0m \u001b[0mIndexError\u001b[0m\u001b[0;34m:\u001b[0m\u001b[0;34m\u001b[0m\u001b[0;34m\u001b[0m\u001b[0m\n",
      "\u001b[0;31mValueError\u001b[0m: invalid literal for int() with base 10: 'hello'"
     ]
    }
   ],
   "source": [
    "lista = ['ff', 'tt', 'dd', 'ww', 'xx', 'rr']\n",
    "\n",
    "try:\n",
    "    i = int(input(\"enter an index:\\n\"))\n",
    "    print(\"val =\", lista[i])\n",
    "except IndexError:\n",
    "    print(\"entered wrong index, defaulting to zero\")\n",
    "    i=0\n",
    "    print(\"val =\", lista[i])\n",
    "else:\n",
    "    print(\"else block gets called\")\n",
    "    # some code\n",
    "finally:\n",
    "    print(\"finally block gets called\")\n",
    "    # some code\n",
    "    \n",
    "print(\"the code continues..\")"
   ]
  },
  {
   "cell_type": "code",
   "execution_count": 3,
   "metadata": {},
   "outputs": [
    {
     "name": "stdout",
     "output_type": "stream",
     "text": [
      "enter an index:\n",
      "3\n",
      "val = ww\n",
      "else block gets called\n",
      "finally block gets called\n",
      "the code continues..\n"
     ]
    }
   ],
   "source": [
    "lista = ['ff', 'tt', 'dd', 'ww', 'xx', 'rr']\n",
    "\n",
    "try:\n",
    "    i = int(input(\"enter an index:\\n\"))\n",
    "    print(\"val =\", lista[i])\n",
    "except IndexError:\n",
    "    print(\"entered wrong index, defaulting to zero\")\n",
    "    i=0\n",
    "    print(\"val =\", lista[i])\n",
    "else:\n",
    "    print(\"else block gets called\")\n",
    "    # some code\n",
    "finally:\n",
    "    print(\"finally block gets called\")\n",
    "    # some code\n",
    "    \n",
    "print(\"the code continues..\")"
   ]
  },
  {
   "cell_type": "code",
   "execution_count": null,
   "metadata": {},
   "outputs": [],
   "source": []
  }
 ],
 "metadata": {
  "kernelspec": {
   "display_name": "Python 3",
   "language": "python",
   "name": "python3"
  },
  "language_info": {
   "codemirror_mode": {
    "name": "ipython",
    "version": 3
   },
   "file_extension": ".py",
   "mimetype": "text/x-python",
   "name": "python",
   "nbconvert_exporter": "python",
   "pygments_lexer": "ipython3",
   "version": "3.7.7"
  }
 },
 "nbformat": 4,
 "nbformat_minor": 4
}
