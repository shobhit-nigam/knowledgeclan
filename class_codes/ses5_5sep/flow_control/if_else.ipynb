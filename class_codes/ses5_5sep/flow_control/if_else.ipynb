{
 "cells": [
  {
   "cell_type": "code",
   "execution_count": 2,
   "metadata": {},
   "outputs": [
    {
     "name": "stdout",
     "output_type": "stream",
     "text": [
      "please enter your age23\n",
      "what kind of drink would you have?\n"
     ]
    }
   ],
   "source": [
    "age = int(input(\"please enter your age\"))\n",
    "\n",
    "if age < 18:\n",
    "    print(\"have a soda\")\n",
    "else:\n",
    "    print(\"what kind of drink would you have?\") "
   ]
  },
  {
   "cell_type": "code",
   "execution_count": 3,
   "metadata": {},
   "outputs": [
    {
     "name": "stdout",
     "output_type": "stream",
     "text": [
      "please enter your age14\n",
      "you are a kid\n",
      "have a soda\n",
      "and something to eat?\n"
     ]
    }
   ],
   "source": [
    "age = int(input(\"please enter your age\"))\n",
    "\n",
    "if age < 18:\n",
    "    print(\"you are a kid\")\n",
    "    print(\"have a soda\")\n",
    "else:\n",
    "    print(\"what kind of drink would you have?\") \n",
    "    print(\"ice ?\")\n",
    "print(\"and something to eat?\")"
   ]
  },
  {
   "cell_type": "code",
   "execution_count": 4,
   "metadata": {},
   "outputs": [
    {
     "name": "stdout",
     "output_type": "stream",
     "text": [
      "please enter your age41\n",
      "what kind of drink would you have?\n",
      "ice ?\n",
      "and something to eat?\n"
     ]
    }
   ],
   "source": [
    "age = int(input(\"please enter your age\"))\n",
    "#gender = input(\"and gender too please\")\n",
    "\n",
    "\n",
    "if age < 18:\n",
    "    print(\"you are a kid\")\n",
    "    print(\"have a soda\")\n",
    "elif age >= 18 and age <60:\n",
    "    print(\"what kind of drink would you have?\") \n",
    "    print(\"ice ?\")\n",
    "elif age >= 60 and age < 75:\n",
    "    print(\"what kind of drink would you have?\") \n",
    "    print(\"we have a 20% discount or you\")\n",
    "else: \n",
    "    print(\"ypu sure you want to have a beer?\")\n",
    "print(\"and something to eat?\")"
   ]
  },
  {
   "cell_type": "code",
   "execution_count": 5,
   "metadata": {},
   "outputs": [
    {
     "name": "stdout",
     "output_type": "stream",
     "text": [
      "please enter your age78\n",
      "ypu sure you want to have a beer?\n",
      "and something to eat?\n"
     ]
    }
   ],
   "source": [
    "age = int(input(\"please enter your age \"))\n",
    "#gender = input(\"and gender too please\")\n",
    "\n",
    "\n",
    "if age < 18:\n",
    "    print(\"you are a kid\")\n",
    "    print(\"have a soda\")\n",
    "elif age >= 18 and age < 60:\n",
    "    print(\"what kind of drink would you have?\") \n",
    "    print(\"ice ?\")\n",
    "elif age >= 60 and age < 75:\n",
    "    print(\"what kind of drink would you have?\") \n",
    "    print(\"we have a 20% discount or you\")\n",
    "else: \n",
    "    print(\"ypu sure you want to have a beer?\")\n",
    "print(\"and something to eat?\")"
   ]
  },
  {
   "cell_type": "code",
   "execution_count": 6,
   "metadata": {},
   "outputs": [
    {
     "name": "stdout",
     "output_type": "stream",
     "text": [
      "please enter your age 41\n"
     ]
    }
   ],
   "source": [
    "age = int(input(\"please enter your age \"))\n",
    "\n",
    "if age < 18:\n",
    "    print(\"you are a kid\")\n",
    "    print(\"have a soda\")"
   ]
  },
  {
   "cell_type": "code",
   "execution_count": 7,
   "metadata": {},
   "outputs": [
    {
     "name": "stdout",
     "output_type": "stream",
     "text": [
      "please enter your age:\n",
      " 50\n",
      "and gender too please:\n",
      " f\n",
      "what kind of drink would you have?\n",
      "ice ?\n",
      "you get a 10% discount\n",
      "and something to eat?\n"
     ]
    }
   ],
   "source": [
    "age = int(input(\"please enter your age:\\n \"))\n",
    "gender = input(\"and gender too please:\\n \")\n",
    "\n",
    "\n",
    "if age < 18:\n",
    "    print(\"you are a kid\")\n",
    "    print(\"have a soda\")\n",
    "elif age >= 18 and age < 60:\n",
    "    print(\"what kind of drink would you have?\") \n",
    "    print(\"ice ?\")\n",
    "    if gender == \"f\" or gender == \"female\":\n",
    "        print(\"you get a 10% discount\") \n",
    "elif age >= 60 and age < 75:\n",
    "    print(\"what kind of drink would you have?\") \n",
    "    print(\"we have a 20% discount or you\")\n",
    "else: \n",
    "    print(\"you sure you want to have a beer?\")\n",
    "    \n",
    "print(\"and something to eat?\")"
   ]
  },
  {
   "cell_type": "code",
   "execution_count": 9,
   "metadata": {},
   "outputs": [
    {
     "name": "stdout",
     "output_type": "stream",
     "text": [
      "please enter your age:\n",
      " 50\n",
      "and gender too please:\n",
      " FEmale\n",
      "what do you want to have?\n",
      "you get a 10% discount\n"
     ]
    }
   ],
   "source": [
    "age = int(input(\"please enter your age:\\n \"))\n",
    "gender = input(\"and gender too please:\\n \")\n",
    "list_f = [\"f\", \"female\", \"woman\", \"girl\", \"lady\"]\n",
    "\n",
    "if age < 18:\n",
    "    print(\"you are a kid\")\n",
    "    print(\"have a soda\")\n",
    "else: \n",
    "    print(\"what do you want to have?\")\n",
    "    if gender.lower() in list_f:\n",
    "        print(\"you get a 10% discount\") "
   ]
  },
  {
   "cell_type": "code",
   "execution_count": 10,
   "metadata": {},
   "outputs": [
    {
     "name": "stdout",
     "output_type": "stream",
     "text": [
      "hello\n"
     ]
    }
   ],
   "source": [
    "if True:\n",
    "    print(\"hello\")\n",
    "else:\n",
    "    print(\"hi\")"
   ]
  },
  {
   "cell_type": "code",
   "execution_count": 11,
   "metadata": {},
   "outputs": [
    {
     "name": "stdout",
     "output_type": "stream",
     "text": [
      "hello\n"
     ]
    }
   ],
   "source": [
    "if 100:\n",
    "    print(\"hello\")\n",
    "else:\n",
    "    print(\"hi\")"
   ]
  },
  {
   "cell_type": "code",
   "execution_count": 12,
   "metadata": {},
   "outputs": [
    {
     "name": "stdout",
     "output_type": "stream",
     "text": [
      "hi\n"
     ]
    }
   ],
   "source": [
    "x = \"\"\n",
    "\n",
    "if x:\n",
    "    print(\"hello\")\n",
    "else:\n",
    "    print(\"hi\")"
   ]
  },
  {
   "cell_type": "code",
   "execution_count": null,
   "metadata": {},
   "outputs": [],
   "source": []
  }
 ],
 "metadata": {
  "kernelspec": {
   "display_name": "Python 3",
   "language": "python",
   "name": "python3"
  },
  "language_info": {
   "codemirror_mode": {
    "name": "ipython",
    "version": 3
   },
   "file_extension": ".py",
   "mimetype": "text/x-python",
   "name": "python",
   "nbconvert_exporter": "python",
   "pygments_lexer": "ipython3",
   "version": "3.7.7"
  }
 },
 "nbformat": 4,
 "nbformat_minor": 4
}
