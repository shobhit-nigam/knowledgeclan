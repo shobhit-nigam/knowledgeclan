{
 "cells": [
  {
   "cell_type": "code",
   "execution_count": 1,
   "metadata": {},
   "outputs": [
    {
     "name": "stdout",
     "output_type": "stream",
     "text": [
      "100\n",
      "x = 100\n"
     ]
    }
   ],
   "source": [
    "x = input() \n",
    "\n",
    "print(\"x =\", x)"
   ]
  },
  {
   "cell_type": "code",
   "execution_count": 2,
   "metadata": {},
   "outputs": [
    {
     "name": "stdout",
     "output_type": "stream",
     "text": [
      "hello\n",
      "x = hello\n"
     ]
    }
   ],
   "source": [
    "x = input() \n",
    "\n",
    "print(\"x =\", x)"
   ]
  },
  {
   "cell_type": "code",
   "execution_count": 3,
   "metadata": {},
   "outputs": [
    {
     "name": "stdout",
     "output_type": "stream",
     "text": [
      "139\n",
      "x = 139\n",
      "the type of x = <class 'str'>\n"
     ]
    }
   ],
   "source": [
    "x = input() \n",
    "\n",
    "print(\"x =\", x)\n",
    "print(\"the type of x =\", type(x))"
   ]
  },
  {
   "cell_type": "code",
   "execution_count": 4,
   "metadata": {},
   "outputs": [
    {
     "name": "stdout",
     "output_type": "stream",
     "text": [
      "please input a number:\n",
      "34\n",
      "x = 34\n",
      "the type of x = <class 'int'>\n"
     ]
    }
   ],
   "source": [
    "x = int( input(\"please input a number:\\n\") )\n",
    "\n",
    "print(\"x =\", x)\n",
    "print(\"the type of x =\", type(x))"
   ]
  },
  {
   "cell_type": "code",
   "execution_count": null,
   "metadata": {},
   "outputs": [],
   "source": []
  }
 ],
 "metadata": {
  "kernelspec": {
   "display_name": "Python 3",
   "language": "python",
   "name": "python3"
  },
  "language_info": {
   "codemirror_mode": {
    "name": "ipython",
    "version": 3
   },
   "file_extension": ".py",
   "mimetype": "text/x-python",
   "name": "python",
   "nbconvert_exporter": "python",
   "pygments_lexer": "ipython3",
   "version": "3.7.7"
  }
 },
 "nbformat": 4,
 "nbformat_minor": 4
}
