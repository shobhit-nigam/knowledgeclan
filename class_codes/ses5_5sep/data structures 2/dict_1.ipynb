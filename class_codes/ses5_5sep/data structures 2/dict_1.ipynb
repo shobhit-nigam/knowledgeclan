{
 "cells": [
  {
   "cell_type": "code",
   "execution_count": 1,
   "metadata": {},
   "outputs": [
    {
     "name": "stdout",
     "output_type": "stream",
     "text": [
      "<class 'set'>\n"
     ]
    }
   ],
   "source": [
    "avengers = {\"captain\", \"ironman\", \"thor\", \"hulk\"}\n",
    "\n",
    "print(type(avengers))"
   ]
  },
  {
   "cell_type": "code",
   "execution_count": 2,
   "metadata": {},
   "outputs": [
    {
     "name": "stdout",
     "output_type": "stream",
     "text": [
      "<class 'dict'>\n"
     ]
    }
   ],
   "source": [
    "avengers = {\"captain\":\"sheild\", \"ironman\":\"suit\", \"thor\":\"hammer\", \"hulk\":\"smash\"}\n",
    "\n",
    "print(type(avengers))"
   ]
  },
  {
   "cell_type": "code",
   "execution_count": 3,
   "metadata": {},
   "outputs": [
    {
     "name": "stdout",
     "output_type": "stream",
     "text": [
      "<class 'dict'>\n"
     ]
    }
   ],
   "source": [
    "avengers = {\"captain\":[\"sheild\", \"hammer\"], \"ironman\":\"suit\", \"thor\":\"hammer\", \"hulk\":\"smash\"}\n",
    "\n",
    "print(type(avengers))"
   ]
  },
  {
   "cell_type": "code",
   "execution_count": 4,
   "metadata": {},
   "outputs": [
    {
     "name": "stdout",
     "output_type": "stream",
     "text": [
      "hammer\n"
     ]
    }
   ],
   "source": [
    "print(avengers[\"thor\"])"
   ]
  },
  {
   "cell_type": "code",
   "execution_count": 5,
   "metadata": {},
   "outputs": [
    {
     "name": "stdout",
     "output_type": "stream",
     "text": [
      "['sheild', 'hammer']\n"
     ]
    }
   ],
   "source": [
    "print(avengers[\"captain\"])"
   ]
  },
  {
   "cell_type": "code",
   "execution_count": 6,
   "metadata": {},
   "outputs": [],
   "source": [
    "avengers[\"thor\"] = \"mjolnir\""
   ]
  },
  {
   "cell_type": "code",
   "execution_count": 7,
   "metadata": {},
   "outputs": [],
   "source": [
    "avengers[\"hawkeye\"] = \"arrows\""
   ]
  },
  {
   "cell_type": "code",
   "execution_count": 8,
   "metadata": {},
   "outputs": [
    {
     "name": "stdout",
     "output_type": "stream",
     "text": [
      "{'captain': ['sheild', 'hammer'], 'ironman': 'suit', 'thor': 'mjolnir', 'hulk': 'smash', 'hawkeye': 'arrows'}\n"
     ]
    }
   ],
   "source": [
    "print(avengers)"
   ]
  },
  {
   "cell_type": "code",
   "execution_count": 9,
   "metadata": {},
   "outputs": [],
   "source": [
    "# xml, json, yaml"
   ]
  },
  {
   "cell_type": "code",
   "execution_count": 10,
   "metadata": {},
   "outputs": [
    {
     "ename": "KeyError",
     "evalue": "3",
     "output_type": "error",
     "traceback": [
      "\u001b[0;31m---------------------------------------------------------------------------\u001b[0m",
      "\u001b[0;31mKeyError\u001b[0m                                  Traceback (most recent call last)",
      "\u001b[0;32m<ipython-input-10-ab699075bdad>\u001b[0m in \u001b[0;36m<module>\u001b[0;34m\u001b[0m\n\u001b[0;32m----> 1\u001b[0;31m \u001b[0mprint\u001b[0m\u001b[0;34m(\u001b[0m\u001b[0mavengers\u001b[0m\u001b[0;34m[\u001b[0m\u001b[0;36m3\u001b[0m\u001b[0;34m]\u001b[0m\u001b[0;34m)\u001b[0m\u001b[0;34m\u001b[0m\u001b[0;34m\u001b[0m\u001b[0m\n\u001b[0m",
      "\u001b[0;31mKeyError\u001b[0m: 3"
     ]
    }
   ],
   "source": [
    "print(avengers[3])"
   ]
  },
  {
   "cell_type": "code",
   "execution_count": 11,
   "metadata": {},
   "outputs": [
    {
     "data": {
      "text/plain": [
       "5"
      ]
     },
     "execution_count": 11,
     "metadata": {},
     "output_type": "execute_result"
    }
   ],
   "source": [
    "len(avengers)"
   ]
  },
  {
   "cell_type": "code",
   "execution_count": 12,
   "metadata": {},
   "outputs": [
    {
     "name": "stdout",
     "output_type": "stream",
     "text": [
      "suit\n"
     ]
    }
   ],
   "source": [
    "print(avengers.get(\"ironman\"))"
   ]
  },
  {
   "cell_type": "code",
   "execution_count": 13,
   "metadata": {},
   "outputs": [
    {
     "name": "stdout",
     "output_type": "stream",
     "text": [
      "dict_keys(['captain', 'ironman', 'thor', 'hulk', 'hawkeye'])\n"
     ]
    }
   ],
   "source": [
    "print(avengers.keys())"
   ]
  },
  {
   "cell_type": "code",
   "execution_count": 14,
   "metadata": {},
   "outputs": [
    {
     "name": "stdout",
     "output_type": "stream",
     "text": [
      "['captain', 'ironman', 'thor', 'hulk', 'hawkeye']\n"
     ]
    }
   ],
   "source": [
    "print(list(avengers.keys()))"
   ]
  },
  {
   "cell_type": "code",
   "execution_count": 15,
   "metadata": {},
   "outputs": [
    {
     "name": "stdout",
     "output_type": "stream",
     "text": [
      "[['sheild', 'hammer'], 'suit', 'mjolnir', 'smash', 'arrows']\n"
     ]
    }
   ],
   "source": [
    "print(list(avengers.values()))"
   ]
  },
  {
   "cell_type": "code",
   "execution_count": 16,
   "metadata": {},
   "outputs": [
    {
     "name": "stdout",
     "output_type": "stream",
     "text": [
      "[('captain', ['sheild', 'hammer']), ('ironman', 'suit'), ('thor', 'mjolnir'), ('hulk', 'smash'), ('hawkeye', 'arrows')]\n"
     ]
    }
   ],
   "source": [
    "print(list(avengers.items()))"
   ]
  },
  {
   "cell_type": "code",
   "execution_count": 17,
   "metadata": {},
   "outputs": [],
   "source": [
    "# can change & add this way too \n",
    "# avengers.update(\"thor\":\"hammer\")"
   ]
  },
  {
   "cell_type": "code",
   "execution_count": 18,
   "metadata": {},
   "outputs": [
    {
     "name": "stdout",
     "output_type": "stream",
     "text": [
      "smash\n"
     ]
    }
   ],
   "source": [
    "print(avengers.pop(\"hulk\"))"
   ]
  },
  {
   "cell_type": "code",
   "execution_count": 19,
   "metadata": {},
   "outputs": [
    {
     "name": "stdout",
     "output_type": "stream",
     "text": [
      "{'captain': ['sheild', 'hammer'], 'ironman': 'suit', 'thor': 'mjolnir', 'hawkeye': 'arrows'}\n"
     ]
    }
   ],
   "source": [
    "print(avengers)"
   ]
  },
  {
   "cell_type": "code",
   "execution_count": 20,
   "metadata": {},
   "outputs": [],
   "source": [
    "#avengers.popitem()   # delete the last key:value pair\n",
    "# avengers.clear()    # makes the dict empty"
   ]
  },
  {
   "cell_type": "code",
   "execution_count": 21,
   "metadata": {},
   "outputs": [
    {
     "name": "stdout",
     "output_type": "stream",
     "text": [
      "{'captain': ['sheild', 'hammer'], 'ironman': 'suit', 'thor': 'mjolnir', 'hawkeye': 'arrows'}\n"
     ]
    }
   ],
   "source": [
    "print(avengers)"
   ]
  },
  {
   "cell_type": "code",
   "execution_count": 22,
   "metadata": {},
   "outputs": [],
   "source": [
    "xmen = [\"wolverine\", \"mystique\", \"magneto\"]"
   ]
  },
  {
   "cell_type": "code",
   "execution_count": 23,
   "metadata": {},
   "outputs": [],
   "source": [
    "marvel = {\"xmen\":xmen, \"ave\":avengers}"
   ]
  },
  {
   "cell_type": "code",
   "execution_count": 24,
   "metadata": {},
   "outputs": [
    {
     "name": "stdout",
     "output_type": "stream",
     "text": [
      "{'xmen': ['wolverine', 'mystique', 'magneto'], 'ave': {'captain': ['sheild', 'hammer'], 'ironman': 'suit', 'thor': 'mjolnir', 'hawkeye': 'arrows'}}\n"
     ]
    }
   ],
   "source": [
    "print(marvel)"
   ]
  },
  {
   "cell_type": "code",
   "execution_count": 25,
   "metadata": {},
   "outputs": [
    {
     "data": {
      "text/plain": [
       "{'xmen': ['wolverine', 'mystique', 'magneto'],\n",
       " 'ave': {'captain': ['sheild', 'hammer'],\n",
       "  'ironman': 'suit',\n",
       "  'thor': 'mjolnir',\n",
       "  'hawkeye': 'arrows'}}"
      ]
     },
     "execution_count": 25,
     "metadata": {},
     "output_type": "execute_result"
    }
   ],
   "source": [
    "marvel"
   ]
  },
  {
   "cell_type": "code",
   "execution_count": 26,
   "metadata": {},
   "outputs": [
    {
     "name": "stdout",
     "output_type": "stream",
     "text": [
      "marvel = {'xmen': ['wolverine', 'mystique', 'magneto'], 'ave': {'captain': ['sheild', 'hammer'], 'ironman': 'suit', 'thor': 'mjolnir', 'hawkeye': 'arrows'}}\n"
     ]
    }
   ],
   "source": [
    "print(\"marvel =\", marvel)"
   ]
  },
  {
   "cell_type": "code",
   "execution_count": 27,
   "metadata": {},
   "outputs": [
    {
     "name": "stdout",
     "output_type": "stream",
     "text": [
      "marvel['ave'] = {'captain': ['sheild', 'hammer'], 'ironman': 'suit', 'thor': 'mjolnir', 'hawkeye': 'arrows'}\n"
     ]
    }
   ],
   "source": [
    "print(\"marvel['ave'] =\", marvel[\"ave\"])"
   ]
  },
  {
   "cell_type": "code",
   "execution_count": 28,
   "metadata": {},
   "outputs": [
    {
     "name": "stdout",
     "output_type": "stream",
     "text": [
      "marvel['ave']['captain'] = ['sheild', 'hammer']\n"
     ]
    }
   ],
   "source": [
    "print(\"marvel['ave']['captain'] =\", marvel[\"ave\"]['captain'])"
   ]
  },
  {
   "cell_type": "code",
   "execution_count": 29,
   "metadata": {},
   "outputs": [
    {
     "name": "stdout",
     "output_type": "stream",
     "text": [
      "marvel['ave']['captain'][0] = sheild\n"
     ]
    }
   ],
   "source": [
    "print(\"marvel['ave']['captain'][0] =\", marvel[\"ave\"]['captain'][0])"
   ]
  },
  {
   "cell_type": "code",
   "execution_count": 30,
   "metadata": {},
   "outputs": [
    {
     "name": "stdout",
     "output_type": "stream",
     "text": [
      "marvel['ave']['captain'][0][1] = h\n"
     ]
    }
   ],
   "source": [
    "print(\"marvel['ave']['captain'][0][1] =\", marvel[\"ave\"]['captain'][0][1])"
   ]
  },
  {
   "cell_type": "code",
   "execution_count": 31,
   "metadata": {},
   "outputs": [],
   "source": [
    "new_avengers = avengers "
   ]
  },
  {
   "cell_type": "code",
   "execution_count": 32,
   "metadata": {},
   "outputs": [
    {
     "name": "stdout",
     "output_type": "stream",
     "text": [
      "new_avengers = {'captain': ['sheild', 'hammer'], 'ironman': 'suit', 'thor': 'mjolnir', 'hawkeye': 'arrows'}\n",
      "avengers = {'captain': ['sheild', 'hammer'], 'ironman': 'suit', 'thor': 'mjolnir', 'hawkeye': 'arrows'}\n"
     ]
    }
   ],
   "source": [
    "print(\"new_avengers =\", new_avengers)\n",
    "print(\"avengers =\", avengers)"
   ]
  },
  {
   "cell_type": "code",
   "execution_count": 33,
   "metadata": {},
   "outputs": [
    {
     "data": {
      "text/plain": [
       "['sheild', 'hammer']"
      ]
     },
     "execution_count": 33,
     "metadata": {},
     "output_type": "execute_result"
    }
   ],
   "source": [
    "new_avengers.pop(\"captain\")"
   ]
  },
  {
   "cell_type": "code",
   "execution_count": 34,
   "metadata": {},
   "outputs": [
    {
     "data": {
      "text/plain": [
       "('hawkeye', 'arrows')"
      ]
     },
     "execution_count": 34,
     "metadata": {},
     "output_type": "execute_result"
    }
   ],
   "source": [
    "avengers.popitem()"
   ]
  },
  {
   "cell_type": "code",
   "execution_count": 35,
   "metadata": {},
   "outputs": [
    {
     "name": "stdout",
     "output_type": "stream",
     "text": [
      "new_avengers = {'ironman': 'suit', 'thor': 'mjolnir'}\n",
      "avengers = {'ironman': 'suit', 'thor': 'mjolnir'}\n"
     ]
    }
   ],
   "source": [
    "print(\"new_avengers =\", new_avengers)\n",
    "print(\"avengers =\", avengers)"
   ]
  },
  {
   "cell_type": "code",
   "execution_count": 36,
   "metadata": {},
   "outputs": [],
   "source": [
    "new_avengers = avengers.copy()"
   ]
  },
  {
   "cell_type": "code",
   "execution_count": 37,
   "metadata": {},
   "outputs": [
    {
     "name": "stdout",
     "output_type": "stream",
     "text": [
      "{'xmen': ['wolverine', 'mystique', 'magneto'], 'ave': {'ironman': 'suit', 'thor': 'mjolnir'}}\n"
     ]
    }
   ],
   "source": [
    "print(marvel)"
   ]
  },
  {
   "cell_type": "code",
   "execution_count": null,
   "metadata": {},
   "outputs": [],
   "source": []
  }
 ],
 "metadata": {
  "kernelspec": {
   "display_name": "Python 3",
   "language": "python",
   "name": "python3"
  },
  "language_info": {
   "codemirror_mode": {
    "name": "ipython",
    "version": 3
   },
   "file_extension": ".py",
   "mimetype": "text/x-python",
   "name": "python",
   "nbconvert_exporter": "python",
   "pygments_lexer": "ipython3",
   "version": "3.7.7"
  }
 },
 "nbformat": 4,
 "nbformat_minor": 4
}
