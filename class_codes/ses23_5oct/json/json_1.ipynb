{
 "cells": [
  {
   "cell_type": "code",
   "execution_count": 1,
   "metadata": {},
   "outputs": [],
   "source": [
    "import json"
   ]
  },
  {
   "cell_type": "code",
   "execution_count": 2,
   "metadata": {},
   "outputs": [],
   "source": [
    "with open(\"example_1.json\", \"r\") as obja:\n",
    "    data_x = json.load(obja)"
   ]
  },
  {
   "cell_type": "code",
   "execution_count": 3,
   "metadata": {},
   "outputs": [
    {
     "name": "stdout",
     "output_type": "stream",
     "text": [
      "<class 'dict'>\n"
     ]
    }
   ],
   "source": [
    "print(type(data_x))"
   ]
  },
  {
   "cell_type": "code",
   "execution_count": 4,
   "metadata": {},
   "outputs": [
    {
     "data": {
      "text/plain": [
       "{'fruit': 'Apple', 'size': 'Large', 'color': 'Red'}"
      ]
     },
     "execution_count": 4,
     "metadata": {},
     "output_type": "execute_result"
    }
   ],
   "source": [
    "data_x"
   ]
  },
  {
   "cell_type": "code",
   "execution_count": 5,
   "metadata": {},
   "outputs": [
    {
     "data": {
      "text/plain": [
       "'Apple'"
      ]
     },
     "execution_count": 5,
     "metadata": {},
     "output_type": "execute_result"
    }
   ],
   "source": [
    "data_x['fruit']"
   ]
  },
  {
   "cell_type": "code",
   "execution_count": 6,
   "metadata": {},
   "outputs": [],
   "source": [
    "with open(\"example_2.json\", 'r') as objb:\n",
    "    data_y = json.load(objb)"
   ]
  },
  {
   "cell_type": "code",
   "execution_count": 7,
   "metadata": {},
   "outputs": [
    {
     "data": {
      "text/plain": [
       "{'quiz': {'sport': {'q1': {'question': 'Which one is correct team name in NBA?',\n",
       "    'options': ['New York Bulls',\n",
       "     'Los Angeles Kings',\n",
       "     'Golden State Warriros',\n",
       "     'Huston Rocket'],\n",
       "    'answer': 'Huston Rocket'}},\n",
       "  'maths': {'q1': {'question': '5 + 7 = ?',\n",
       "    'options': ['10', '11', '12', '13'],\n",
       "    'answer': '12'},\n",
       "   'q2': {'question': '12 - 8 = ?',\n",
       "    'options': ['1', '2', '3', '4'],\n",
       "    'answer': '4'}}}}"
      ]
     },
     "execution_count": 7,
     "metadata": {},
     "output_type": "execute_result"
    }
   ],
   "source": [
    "data_y"
   ]
  },
  {
   "cell_type": "code",
   "execution_count": 8,
   "metadata": {},
   "outputs": [
    {
     "data": {
      "text/plain": [
       "{'sport': {'q1': {'question': 'Which one is correct team name in NBA?',\n",
       "   'options': ['New York Bulls',\n",
       "    'Los Angeles Kings',\n",
       "    'Golden State Warriros',\n",
       "    'Huston Rocket'],\n",
       "   'answer': 'Huston Rocket'}},\n",
       " 'maths': {'q1': {'question': '5 + 7 = ?',\n",
       "   'options': ['10', '11', '12', '13'],\n",
       "   'answer': '12'},\n",
       "  'q2': {'question': '12 - 8 = ?',\n",
       "   'options': ['1', '2', '3', '4'],\n",
       "   'answer': '4'}}}"
      ]
     },
     "execution_count": 8,
     "metadata": {},
     "output_type": "execute_result"
    }
   ],
   "source": [
    "data_y['quiz']"
   ]
  },
  {
   "cell_type": "code",
   "execution_count": 9,
   "metadata": {},
   "outputs": [
    {
     "data": {
      "text/plain": [
       "{'q1': {'question': '5 + 7 = ?',\n",
       "  'options': ['10', '11', '12', '13'],\n",
       "  'answer': '12'},\n",
       " 'q2': {'question': '12 - 8 = ?',\n",
       "  'options': ['1', '2', '3', '4'],\n",
       "  'answer': '4'}}"
      ]
     },
     "execution_count": 9,
     "metadata": {},
     "output_type": "execute_result"
    }
   ],
   "source": [
    "data_y['quiz']['maths']"
   ]
  },
  {
   "cell_type": "code",
   "execution_count": 10,
   "metadata": {},
   "outputs": [
    {
     "data": {
      "text/plain": [
       "{'question': '5 + 7 = ?', 'options': ['10', '11', '12', '13'], 'answer': '12'}"
      ]
     },
     "execution_count": 10,
     "metadata": {},
     "output_type": "execute_result"
    }
   ],
   "source": [
    "data_y['quiz']['maths']['q1']"
   ]
  },
  {
   "cell_type": "code",
   "execution_count": 11,
   "metadata": {},
   "outputs": [
    {
     "data": {
      "text/plain": [
       "['10', '11', '12', '13']"
      ]
     },
     "execution_count": 11,
     "metadata": {},
     "output_type": "execute_result"
    }
   ],
   "source": [
    "data_y['quiz']['maths']['q1']['options']"
   ]
  },
  {
   "cell_type": "code",
   "execution_count": 12,
   "metadata": {},
   "outputs": [
    {
     "data": {
      "text/plain": [
       "'12'"
      ]
     },
     "execution_count": 12,
     "metadata": {},
     "output_type": "execute_result"
    }
   ],
   "source": [
    "data_y['quiz']['maths']['q1']['options'][2]"
   ]
  },
  {
   "cell_type": "code",
   "execution_count": 13,
   "metadata": {},
   "outputs": [
    {
     "data": {
      "text/plain": [
       "'1'"
      ]
     },
     "execution_count": 13,
     "metadata": {},
     "output_type": "execute_result"
    }
   ],
   "source": [
    "data_y['quiz']['maths']['q1']['options'][2][0]"
   ]
  },
  {
   "cell_type": "code",
   "execution_count": 15,
   "metadata": {},
   "outputs": [],
   "source": [
    "with open(\"example_4.json\", \"r\") as objc:\n",
    "    data_z = json.load(objc)"
   ]
  },
  {
   "cell_type": "code",
   "execution_count": 16,
   "metadata": {},
   "outputs": [
    {
     "data": {
      "text/plain": [
       "{'users': [{'userId': 1,\n",
       "   'firstName': 'Krish',\n",
       "   'lastName': 'Lee',\n",
       "   'phoneNumber': '123456',\n",
       "   'emailAddress': 'krish.lee@learningcontainer.com'},\n",
       "  {'userId': 2,\n",
       "   'firstName': 'racks',\n",
       "   'lastName': 'jacson',\n",
       "   'phoneNumber': '123456',\n",
       "   'emailAddress': 'racks.jacson@learningcontainer.com'},\n",
       "  {'userId': 3,\n",
       "   'firstName': 'denial',\n",
       "   'lastName': 'roast',\n",
       "   'phoneNumber': '33333333',\n",
       "   'emailAddress': 'denial.roast@learningcontainer.com'},\n",
       "  {'userId': 4,\n",
       "   'firstName': 'devid',\n",
       "   'lastName': 'neo',\n",
       "   'phoneNumber': '222222222',\n",
       "   'emailAddress': 'devid.neo@learningcontainer.com'},\n",
       "  {'userId': 5,\n",
       "   'firstName': 'jone',\n",
       "   'lastName': 'mac',\n",
       "   'phoneNumber': '111111111',\n",
       "   'emailAddress': 'jone.mac@learningcontainer.com'}]}"
      ]
     },
     "execution_count": 16,
     "metadata": {},
     "output_type": "execute_result"
    }
   ],
   "source": [
    "data_z"
   ]
  },
  {
   "cell_type": "code",
   "execution_count": 17,
   "metadata": {},
   "outputs": [
    {
     "data": {
      "text/plain": [
       "[{'userId': 1,\n",
       "  'firstName': 'Krish',\n",
       "  'lastName': 'Lee',\n",
       "  'phoneNumber': '123456',\n",
       "  'emailAddress': 'krish.lee@learningcontainer.com'},\n",
       " {'userId': 2,\n",
       "  'firstName': 'racks',\n",
       "  'lastName': 'jacson',\n",
       "  'phoneNumber': '123456',\n",
       "  'emailAddress': 'racks.jacson@learningcontainer.com'},\n",
       " {'userId': 3,\n",
       "  'firstName': 'denial',\n",
       "  'lastName': 'roast',\n",
       "  'phoneNumber': '33333333',\n",
       "  'emailAddress': 'denial.roast@learningcontainer.com'},\n",
       " {'userId': 4,\n",
       "  'firstName': 'devid',\n",
       "  'lastName': 'neo',\n",
       "  'phoneNumber': '222222222',\n",
       "  'emailAddress': 'devid.neo@learningcontainer.com'},\n",
       " {'userId': 5,\n",
       "  'firstName': 'jone',\n",
       "  'lastName': 'mac',\n",
       "  'phoneNumber': '111111111',\n",
       "  'emailAddress': 'jone.mac@learningcontainer.com'}]"
      ]
     },
     "execution_count": 17,
     "metadata": {},
     "output_type": "execute_result"
    }
   ],
   "source": [
    "data_z['users']"
   ]
  },
  {
   "cell_type": "code",
   "execution_count": 18,
   "metadata": {},
   "outputs": [
    {
     "data": {
      "text/plain": [
       "{'userId': 1,\n",
       " 'firstName': 'Krish',\n",
       " 'lastName': 'Lee',\n",
       " 'phoneNumber': '123456',\n",
       " 'emailAddress': 'krish.lee@learningcontainer.com'}"
      ]
     },
     "execution_count": 18,
     "metadata": {},
     "output_type": "execute_result"
    }
   ],
   "source": [
    "data_z['users'][0]"
   ]
  },
  {
   "cell_type": "code",
   "execution_count": 19,
   "metadata": {},
   "outputs": [
    {
     "data": {
      "text/plain": [
       "'krish.lee@learningcontainer.com'"
      ]
     },
     "execution_count": 19,
     "metadata": {},
     "output_type": "execute_result"
    }
   ],
   "source": [
    "data_z['users'][0]['emailAddress']"
   ]
  },
  {
   "cell_type": "code",
   "execution_count": 20,
   "metadata": {},
   "outputs": [
    {
     "data": {
      "text/plain": [
       "9"
      ]
     },
     "execution_count": 20,
     "metadata": {},
     "output_type": "execute_result"
    }
   ],
   "source": [
    "stra = data_z['users'][0]['emailAddress']\n",
    "\n",
    "stra.find(\"@\")"
   ]
  },
  {
   "cell_type": "code",
   "execution_count": 21,
   "metadata": {},
   "outputs": [
    {
     "data": {
      "text/plain": [
       "'learningcontainer.com'"
      ]
     },
     "execution_count": 21,
     "metadata": {},
     "output_type": "execute_result"
    }
   ],
   "source": [
    "stra[10:]"
   ]
  },
  {
   "cell_type": "code",
   "execution_count": 22,
   "metadata": {},
   "outputs": [
    {
     "data": {
      "text/plain": [
       "'learningcontainer.com'"
      ]
     },
     "execution_count": 22,
     "metadata": {},
     "output_type": "execute_result"
    }
   ],
   "source": [
    "data_z['users'][0]['emailAddress'][data_z['users'][0]['emailAddress'].find('@')+1 : ]"
   ]
  },
  {
   "cell_type": "code",
   "execution_count": 23,
   "metadata": {},
   "outputs": [
    {
     "data": {
      "text/plain": [
       "{'users': [{'userId': 1,\n",
       "   'firstName': 'Krish',\n",
       "   'lastName': 'Lee',\n",
       "   'phoneNumber': '123456',\n",
       "   'emailAddress': 'krish.lee@learningcontainer.com'},\n",
       "  {'userId': 2,\n",
       "   'firstName': 'racks',\n",
       "   'lastName': 'jacson',\n",
       "   'phoneNumber': '123456',\n",
       "   'emailAddress': 'racks.jacson@learningcontainer.com'},\n",
       "  {'userId': 3,\n",
       "   'firstName': 'denial',\n",
       "   'lastName': 'roast',\n",
       "   'phoneNumber': '33333333',\n",
       "   'emailAddress': 'denial.roast@learningcontainer.com'},\n",
       "  {'userId': 4,\n",
       "   'firstName': 'devid',\n",
       "   'lastName': 'neo',\n",
       "   'phoneNumber': '222222222',\n",
       "   'emailAddress': 'devid.neo@learningcontainer.com'},\n",
       "  {'userId': 5,\n",
       "   'firstName': 'jone',\n",
       "   'lastName': 'mac',\n",
       "   'phoneNumber': '111111111',\n",
       "   'emailAddress': 'jone.mac@learningcontainer.com'}]}"
      ]
     },
     "execution_count": 23,
     "metadata": {},
     "output_type": "execute_result"
    }
   ],
   "source": [
    "data_z"
   ]
  },
  {
   "cell_type": "code",
   "execution_count": 24,
   "metadata": {},
   "outputs": [
    {
     "data": {
      "text/plain": [
       "[{'userId': 1,\n",
       "  'firstName': 'Krish',\n",
       "  'lastName': 'Lee',\n",
       "  'phoneNumber': '123456',\n",
       "  'emailAddress': 'krish.lee@learningcontainer.com'},\n",
       " {'userId': 2,\n",
       "  'firstName': 'racks',\n",
       "  'lastName': 'jacson',\n",
       "  'phoneNumber': '123456',\n",
       "  'emailAddress': 'racks.jacson@learningcontainer.com'},\n",
       " {'userId': 3,\n",
       "  'firstName': 'denial',\n",
       "  'lastName': 'roast',\n",
       "  'phoneNumber': '33333333',\n",
       "  'emailAddress': 'denial.roast@learningcontainer.com'},\n",
       " {'userId': 4,\n",
       "  'firstName': 'devid',\n",
       "  'lastName': 'neo',\n",
       "  'phoneNumber': '222222222',\n",
       "  'emailAddress': 'devid.neo@learningcontainer.com'},\n",
       " {'userId': 5,\n",
       "  'firstName': 'jone',\n",
       "  'lastName': 'mac',\n",
       "  'phoneNumber': '111111111',\n",
       "  'emailAddress': 'jone.mac@learningcontainer.com'}]"
      ]
     },
     "execution_count": 24,
     "metadata": {},
     "output_type": "execute_result"
    }
   ],
   "source": [
    "data_z['users']"
   ]
  },
  {
   "cell_type": "code",
   "execution_count": 25,
   "metadata": {},
   "outputs": [],
   "source": [
    "import pandas as pd"
   ]
  },
  {
   "cell_type": "code",
   "execution_count": 26,
   "metadata": {},
   "outputs": [],
   "source": [
    "dfz = pd.DataFrame(data_z['users'])"
   ]
  },
  {
   "cell_type": "code",
   "execution_count": 27,
   "metadata": {},
   "outputs": [
    {
     "data": {
      "text/html": [
       "<div>\n",
       "<style scoped>\n",
       "    .dataframe tbody tr th:only-of-type {\n",
       "        vertical-align: middle;\n",
       "    }\n",
       "\n",
       "    .dataframe tbody tr th {\n",
       "        vertical-align: top;\n",
       "    }\n",
       "\n",
       "    .dataframe thead th {\n",
       "        text-align: right;\n",
       "    }\n",
       "</style>\n",
       "<table border=\"1\" class=\"dataframe\">\n",
       "  <thead>\n",
       "    <tr style=\"text-align: right;\">\n",
       "      <th></th>\n",
       "      <th>userId</th>\n",
       "      <th>firstName</th>\n",
       "      <th>lastName</th>\n",
       "      <th>phoneNumber</th>\n",
       "      <th>emailAddress</th>\n",
       "    </tr>\n",
       "  </thead>\n",
       "  <tbody>\n",
       "    <tr>\n",
       "      <th>0</th>\n",
       "      <td>1</td>\n",
       "      <td>Krish</td>\n",
       "      <td>Lee</td>\n",
       "      <td>123456</td>\n",
       "      <td>krish.lee@learningcontainer.com</td>\n",
       "    </tr>\n",
       "    <tr>\n",
       "      <th>1</th>\n",
       "      <td>2</td>\n",
       "      <td>racks</td>\n",
       "      <td>jacson</td>\n",
       "      <td>123456</td>\n",
       "      <td>racks.jacson@learningcontainer.com</td>\n",
       "    </tr>\n",
       "    <tr>\n",
       "      <th>2</th>\n",
       "      <td>3</td>\n",
       "      <td>denial</td>\n",
       "      <td>roast</td>\n",
       "      <td>33333333</td>\n",
       "      <td>denial.roast@learningcontainer.com</td>\n",
       "    </tr>\n",
       "    <tr>\n",
       "      <th>3</th>\n",
       "      <td>4</td>\n",
       "      <td>devid</td>\n",
       "      <td>neo</td>\n",
       "      <td>222222222</td>\n",
       "      <td>devid.neo@learningcontainer.com</td>\n",
       "    </tr>\n",
       "    <tr>\n",
       "      <th>4</th>\n",
       "      <td>5</td>\n",
       "      <td>jone</td>\n",
       "      <td>mac</td>\n",
       "      <td>111111111</td>\n",
       "      <td>jone.mac@learningcontainer.com</td>\n",
       "    </tr>\n",
       "  </tbody>\n",
       "</table>\n",
       "</div>"
      ],
      "text/plain": [
       "   userId firstName lastName phoneNumber                        emailAddress\n",
       "0       1     Krish      Lee      123456     krish.lee@learningcontainer.com\n",
       "1       2     racks   jacson      123456  racks.jacson@learningcontainer.com\n",
       "2       3    denial    roast    33333333  denial.roast@learningcontainer.com\n",
       "3       4     devid      neo   222222222     devid.neo@learningcontainer.com\n",
       "4       5      jone      mac   111111111      jone.mac@learningcontainer.com"
      ]
     },
     "execution_count": 27,
     "metadata": {},
     "output_type": "execute_result"
    }
   ],
   "source": [
    "dfz"
   ]
  },
  {
   "cell_type": "code",
   "execution_count": 28,
   "metadata": {},
   "outputs": [],
   "source": [
    "dict_a = {'aa':10, \n",
    "          'bb':30, \n",
    "         'cc':{'xx':40, 'ff':50}, \n",
    "         'dd':70}"
   ]
  },
  {
   "cell_type": "code",
   "execution_count": 29,
   "metadata": {},
   "outputs": [
    {
     "data": {
      "text/plain": [
       "{'aa': 10, 'bb': 30, 'cc': {'xx': 40, 'ff': 50}, 'dd': 70}"
      ]
     },
     "execution_count": 29,
     "metadata": {},
     "output_type": "execute_result"
    }
   ],
   "source": [
    "dict_a"
   ]
  },
  {
   "cell_type": "code",
   "execution_count": 32,
   "metadata": {},
   "outputs": [],
   "source": [
    "with open(\"example_5.json\", \"w\") as objd:\n",
    "    json.dump(dict_a, objd)"
   ]
  },
  {
   "cell_type": "code",
   "execution_count": null,
   "metadata": {},
   "outputs": [],
   "source": []
  }
 ],
 "metadata": {
  "kernelspec": {
   "display_name": "Python 3",
   "language": "python",
   "name": "python3"
  },
  "language_info": {
   "codemirror_mode": {
    "name": "ipython",
    "version": 3
   },
   "file_extension": ".py",
   "mimetype": "text/x-python",
   "name": "python",
   "nbconvert_exporter": "python",
   "pygments_lexer": "ipython3",
   "version": "3.7.7"
  }
 },
 "nbformat": 4,
 "nbformat_minor": 4
}
