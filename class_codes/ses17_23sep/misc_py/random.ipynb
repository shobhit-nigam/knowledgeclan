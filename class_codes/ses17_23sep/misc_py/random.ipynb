{
 "cells": [
  {
   "cell_type": "code",
   "execution_count": 2,
   "metadata": {},
   "outputs": [],
   "source": [
    "import numpy as np\n",
    "\n",
    "from numpy import random"
   ]
  },
  {
   "cell_type": "code",
   "execution_count": 6,
   "metadata": {},
   "outputs": [
    {
     "name": "stdout",
     "output_type": "stream",
     "text": [
      "65\n"
     ]
    }
   ],
   "source": [
    "# 0 to 66\n",
    "varx = random.randint(66)\n",
    "print(varx)"
   ]
  },
  {
   "cell_type": "code",
   "execution_count": 10,
   "metadata": {},
   "outputs": [
    {
     "name": "stdout",
     "output_type": "stream",
     "text": [
      "0.10444315160208373\n"
     ]
    }
   ],
   "source": [
    "# 0 to 1\n",
    "varx = random.rand()\n",
    "print(varx)"
   ]
  },
  {
   "cell_type": "code",
   "execution_count": 13,
   "metadata": {},
   "outputs": [
    {
     "name": "stdout",
     "output_type": "stream",
     "text": [
      "[33 10 26 14 49 24 16]\n"
     ]
    }
   ],
   "source": [
    "# 0 to 66\n",
    "varx = random.randint(66, size=(7))\n",
    "print(varx)"
   ]
  },
  {
   "cell_type": "code",
   "execution_count": 14,
   "metadata": {},
   "outputs": [
    {
     "name": "stdout",
     "output_type": "stream",
     "text": [
      "[32, 19, 48, 44, 6, 65, 65]\n"
     ]
    }
   ],
   "source": [
    "# 0 to 66\n",
    "varx = random.randint(66, size=(7))\n",
    "print(list(varx))"
   ]
  },
  {
   "cell_type": "code",
   "execution_count": 16,
   "metadata": {},
   "outputs": [
    {
     "name": "stdout",
     "output_type": "stream",
     "text": [
      "[[16 58 14  1]\n",
      " [35 37 53 39]\n",
      " [23 42 29 12]]\n"
     ]
    }
   ],
   "source": [
    "# 0 to 66\n",
    "varx = random.randint(66, size=(3,4))\n",
    "print(varx)"
   ]
  },
  {
   "cell_type": "code",
   "execution_count": 17,
   "metadata": {},
   "outputs": [
    {
     "name": "stdout",
     "output_type": "stream",
     "text": [
      "[0.61702335 0.96591613 0.79843927 0.44340726 0.98363527 0.49334523]\n"
     ]
    }
   ],
   "source": [
    "# 0 to 1\n",
    "varx = random.rand(6)\n",
    "print(varx)"
   ]
  },
  {
   "cell_type": "code",
   "execution_count": 18,
   "metadata": {},
   "outputs": [
    {
     "name": "stdout",
     "output_type": "stream",
     "text": [
      "[[0.26521988 0.40261779 0.4793679  0.65798268]\n",
      " [0.06174816 0.6952704  0.28278823 0.69543086]]\n"
     ]
    }
   ],
   "source": [
    "# 0 to 1\n",
    "varx = random.rand(2,4)\n",
    "print(varx)"
   ]
  },
  {
   "cell_type": "code",
   "execution_count": 23,
   "metadata": {},
   "outputs": [],
   "source": [
    "listx = [14, 16, 19, 32, 65, 29, 32, 48, 35, 73, 17, 46, 97, 85, 36, 24]"
   ]
  },
  {
   "cell_type": "code",
   "execution_count": 22,
   "metadata": {},
   "outputs": [
    {
     "name": "stdout",
     "output_type": "stream",
     "text": [
      "35\n"
     ]
    }
   ],
   "source": [
    "varx = random.choice(listx)\n",
    "print(varx)"
   ]
  },
  {
   "cell_type": "code",
   "execution_count": 25,
   "metadata": {},
   "outputs": [
    {
     "name": "stdout",
     "output_type": "stream",
     "text": [
      "[[14 36 16 32 46]\n",
      " [14 73 46 73 85]\n",
      " [48 32 36 65 16]]\n"
     ]
    }
   ],
   "source": [
    "varx = random.choice(listx, size=(3,5))\n",
    "print(varx)"
   ]
  },
  {
   "cell_type": "code",
   "execution_count": 27,
   "metadata": {},
   "outputs": [
    {
     "name": "stdout",
     "output_type": "stream",
     "text": [
      "[[0.32313656 0.4743268  0.24799046 0.97407228]\n",
      " [0.70536987 0.99619611 0.8108763  0.81549065]\n",
      " [0.4859568  0.0612162  0.79299966 0.58078087]]\n"
     ]
    }
   ],
   "source": [
    "# uniform distribution \n",
    "\n",
    "varx = random.uniform(size=(3,4))\n",
    "print(varx)"
   ]
  },
  {
   "cell_type": "code",
   "execution_count": 28,
   "metadata": {},
   "outputs": [
    {
     "name": "stdout",
     "output_type": "stream",
     "text": [
      "[0.22063703 0.38253104 0.36846639 0.36612417 0.90601631 0.60612257\n",
      " 0.67485854 0.09533724 0.32482015 0.66301872 0.42846325 0.56228173\n",
      " 0.85108049 0.88016282 0.11661037 0.97897382 0.58233588 0.7115646\n",
      " 0.27512275 0.78378868 0.9812901  0.43705855 0.75766908 0.93493487\n",
      " 0.48954789 0.30321184 0.91176899 0.42847788 0.07593624 0.41948649\n",
      " 0.47654956 0.87973943 0.0464143  0.03891647 0.35127571 0.64160913\n",
      " 0.74261394 0.43291458 0.87007743 0.301334   0.49595087 0.6818146\n",
      " 0.23851343 0.69351122 0.97004858 0.83136727 0.56664796 0.54591522\n",
      " 0.41754004 0.51640553 0.01884448 0.07509584 0.72144789 0.01794348\n",
      " 0.82571888 0.07249902 0.84698088 0.48976902 0.52129924 0.93945289\n",
      " 0.50303299 0.62936099 0.19517916 0.67562811 0.29555287 0.091563\n",
      " 0.9924967  0.3097577  0.5434939  0.54989614 0.26086023 0.88166192\n",
      " 0.46439814 0.65115588 0.47262026 0.36074535 0.30913346 0.75829389\n",
      " 0.90762119 0.34043127 0.53911752 0.78587407 0.36124786 0.07082472\n",
      " 0.40034827 0.64015376 0.89356942 0.43564132 0.79650298 0.63878411\n",
      " 0.67242143 0.49942118 0.22767447 0.85032954 0.8038377  0.20379254\n",
      " 0.09729048 0.19659692 0.35928924 0.94810424]\n"
     ]
    }
   ],
   "source": [
    "objx = random.uniform(size=100)\n",
    "print(objx)"
   ]
  },
  {
   "cell_type": "code",
   "execution_count": 30,
   "metadata": {},
   "outputs": [],
   "source": [
    "import matplotlib.pyplot as plt"
   ]
  },
  {
   "cell_type": "code",
   "execution_count": 33,
   "metadata": {},
   "outputs": [
    {
     "data": {
      "image/png": "[encoded data removed]",
      "text/plain": [
       "<Figure size 432x288 with 1 Axes>"
      ]
     },
     "metadata": {
      "needs_background": "light"
     },
     "output_type": "display_data"
    }
   ],
   "source": [
    "objx = np.random.rand(1000)\n",
    "plt.hist(objx)\n",
    "plt.show()"
   ]
  },
  {
   "cell_type": "code",
   "execution_count": 37,
   "metadata": {},
   "outputs": [
    {
     "data": {
      "image/png": "[encoded data removed]",
      "text/plain": [
       "<Figure size 432x288 with 1 Axes>"
      ]
     },
     "metadata": {
      "needs_background": "light"
     },
     "output_type": "display_data"
    }
   ],
   "source": [
    "objx = np.random.randint(low=1, high=100, size=1000)\n",
    "plt.hist(objx, color='r')\n",
    "plt.show()"
   ]
  },
  {
   "cell_type": "code",
   "execution_count": 41,
   "metadata": {},
   "outputs": [
    {
     "data": {
      "image/png": "[encoded data removed]",
      "text/plain": [
       "<Figure size 432x288 with 1 Axes>"
      ]
     },
     "metadata": {
      "needs_background": "light"
     },
     "output_type": "display_data"
    }
   ],
   "source": [
    "objx = np.random.randint(low=0, high=101, size=365)\n",
    "\n",
    "fig,ax = plt.subplots(1,1)\n",
    "\n",
    "ax.hist(objx, edgecolor='r')\n",
    "plt.show()"
   ]
  },
  {
   "cell_type": "code",
   "execution_count": 42,
   "metadata": {},
   "outputs": [
    {
     "data": {
      "image/png": "[encoded data removed]",
      "text/plain": [
       "<Figure size 432x288 with 1 Axes>"
      ]
     },
     "metadata": {
      "needs_background": "light"
     },
     "output_type": "display_data"
    }
   ],
   "source": [
    "objx = np.random.randint(low=1, high=100, size=1000)\n",
    "plt.hist(objx, color='y', edgecolor='r')\n",
    "plt.show()"
   ]
  },
  {
   "cell_type": "code",
   "execution_count": 45,
   "metadata": {},
   "outputs": [
    {
     "data": {
      "image/png": "[encoded data removed]",
      "text/plain": [
       "<Figure size 432x288 with 1 Axes>"
      ]
     },
     "metadata": {
      "needs_background": "light"
     },
     "output_type": "display_data"
    }
   ],
   "source": [
    "objx = np.random.uniform(low=1, high=100, size=1000)\n",
    "plt.hist(objx, color='y', edgecolor='r')\n",
    "plt.show()"
   ]
  },
  {
   "cell_type": "code",
   "execution_count": 54,
   "metadata": {},
   "outputs": [
    {
     "name": "stdout",
     "output_type": "stream",
     "text": [
      "[40.05811675 51.98527172 62.62236411]\n"
     ]
    }
   ],
   "source": [
    "objx = np.random.uniform(low=0, high=100, size=3)\n",
    "print(objx)"
   ]
  },
  {
   "cell_type": "code",
   "execution_count": 55,
   "metadata": {},
   "outputs": [],
   "source": [
    "# seed"
   ]
  },
  {
   "cell_type": "code",
   "execution_count": 56,
   "metadata": {},
   "outputs": [
    {
     "name": "stdout",
     "output_type": "stream",
     "text": [
      "24\n"
     ]
    }
   ],
   "source": [
    "listx = [14, 16, 19, 32, 65, 29, 32, 48, 35, 73, 17, 46, 97, 85, 36, 24]\n",
    "\n",
    "varx = random.choice(listx)\n",
    "print(varx)"
   ]
  },
  {
   "cell_type": "code",
   "execution_count": 57,
   "metadata": {},
   "outputs": [
    {
     "name": "stdout",
     "output_type": "stream",
     "text": [
      "32\n"
     ]
    }
   ],
   "source": [
    "varx = random.choice(listx)\n",
    "print(varx)"
   ]
  },
  {
   "cell_type": "code",
   "execution_count": 60,
   "metadata": {},
   "outputs": [
    {
     "name": "stdout",
     "output_type": "stream",
     "text": [
      "48\n"
     ]
    }
   ],
   "source": [
    "varx = random.choice(listx)\n",
    "print(varx)"
   ]
  },
  {
   "cell_type": "code",
   "execution_count": 66,
   "metadata": {},
   "outputs": [
    {
     "name": "stdout",
     "output_type": "stream",
     "text": [
      "17\n"
     ]
    }
   ],
   "source": [
    "random.seed(6)\n",
    "varx = random.choice(listx)\n",
    "print(varx)"
   ]
  },
  {
   "cell_type": "code",
   "execution_count": 67,
   "metadata": {},
   "outputs": [
    {
     "name": "stdout",
     "output_type": "stream",
     "text": [
      "[[40 15 72 22]\n",
      " [43 82 75  7]\n",
      " [34 49 95 75]]\n"
     ]
    }
   ],
   "source": [
    "random.seed(2)\n",
    "varx = random.randint(100, size=(3,4))\n",
    "print(varx)"
   ]
  },
  {
   "cell_type": "code",
   "execution_count": 68,
   "metadata": {},
   "outputs": [
    {
     "name": "stdout",
     "output_type": "stream",
     "text": [
      "[[40 15 72 22]\n",
      " [43 82 75  7]\n",
      " [34 49 95 75]]\n"
     ]
    }
   ],
   "source": [
    "random.seed(2)\n",
    "varx = random.randint(100, size=(3,4))\n",
    "print(varx)"
   ]
  },
  {
   "cell_type": "code",
   "execution_count": 69,
   "metadata": {},
   "outputs": [
    {
     "name": "stdout",
     "output_type": "stream",
     "text": [
      "[[40 15 72 22]\n",
      " [43 82 75  7]\n",
      " [34 49 95 75]]\n"
     ]
    }
   ],
   "source": [
    "random.seed(2)\n",
    "varx = random.randint(100, size=(3,4))\n",
    "print(varx)"
   ]
  },
  {
   "cell_type": "code",
   "execution_count": 70,
   "metadata": {},
   "outputs": [
    {
     "name": "stdout",
     "output_type": "stream",
     "text": [
      "[[24  3 56 72]\n",
      " [ 0 21 19 74]\n",
      " [41 10 21 38]]\n"
     ]
    }
   ],
   "source": [
    "random.seed(3)\n",
    "varx = random.randint(100, size=(3,4))\n",
    "print(varx)"
   ]
  },
  {
   "cell_type": "code",
   "execution_count": 71,
   "metadata": {},
   "outputs": [
    {
     "name": "stdout",
     "output_type": "stream",
     "text": [
      "[[24  3 56 72]\n",
      " [ 0 21 19 74]\n",
      " [41 10 21 38]]\n"
     ]
    }
   ],
   "source": [
    "random.seed(3)\n",
    "varx = random.randint(100, size=(3,4))\n",
    "print(varx)"
   ]
  },
  {
   "cell_type": "code",
   "execution_count": 72,
   "metadata": {},
   "outputs": [
    {
     "name": "stdout",
     "output_type": "stream",
     "text": [
      "[[24  3 56 72]\n",
      " [ 0 21 19 74]\n",
      " [41 10 21 38]]\n"
     ]
    }
   ],
   "source": [
    "random.seed(3)\n",
    "varx = random.randint(100, size=(3,4))\n",
    "print(varx)"
   ]
  },
  {
   "cell_type": "code",
   "execution_count": 73,
   "metadata": {},
   "outputs": [
    {
     "name": "stdout",
     "output_type": "stream",
     "text": [
      "[[40 15 72 22]\n",
      " [43 82 75  7]\n",
      " [34 49 95 75]]\n"
     ]
    }
   ],
   "source": [
    "random.seed(2)\n",
    "varx = random.randint(100, size=(3,4))\n",
    "print(varx)"
   ]
  },
  {
   "cell_type": "code",
   "execution_count": 74,
   "metadata": {},
   "outputs": [],
   "source": [
    "# pseudo-random "
   ]
  },
  {
   "cell_type": "code",
   "execution_count": null,
   "metadata": {},
   "outputs": [],
   "source": [
    "# statistics \n",
    "# ML \n",
    "# self paced + live sessions "
   ]
  },
  {
   "cell_type": "code",
   "execution_count": null,
   "metadata": {},
   "outputs": [],
   "source": [
    "# SQL\n",
    "# NoSQL\n",
    "# excel\n",
    "\n",
    "# self paced + live revision "
   ]
  }
 ],
 "metadata": {
  "kernelspec": {
   "display_name": "Python 3",
   "language": "python",
   "name": "python3"
  },
  "language_info": {
   "codemirror_mode": {
    "name": "ipython",
    "version": 3
   },
   "file_extension": ".py",
   "mimetype": "text/x-python",
   "name": "python",
   "nbconvert_exporter": "python",
   "pygments_lexer": "ipython3",
   "version": "3.7.7"
  }
 },
 "nbformat": 4,
 "nbformat_minor": 4
}
